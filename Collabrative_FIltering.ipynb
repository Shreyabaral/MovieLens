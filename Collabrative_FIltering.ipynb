{
  "nbformat": 4,
  "nbformat_minor": 0,
  "metadata": {
    "colab": {
      "provenance": [],
      "gpuType": "T4"
    },
    "kernelspec": {
      "name": "python3",
      "display_name": "Python 3"
    },
    "language_info": {
      "name": "python"
    },
    "accelerator": "GPU"
  },
  "cells": [
    {
      "cell_type": "code",
      "execution_count": 1,
      "metadata": {
        "id": "Qr-FbxsYrUPI"
      },
      "outputs": [],
      "source": [
        "import pandas as pd\n",
        "import numpy as np\n",
        "import matplotlib.pyplot as plt\n",
        "import seaborn as sns\n",
        "\n",
        "\n",
        "from surprise import SVD, Dataset, Reader\n",
        "from surprise.model_selection import train_test_split\n",
        "from surprise import accuracy\n",
        "from sklearn.metrics import mean_absolute_error\n",
        "\n",
        "from sklearn.metrics import precision_score, recall_score, f1_score\n",
        "from sklearn.metrics import mean_squared_error, mean_absolute_error"
      ]
    },
    {
      "cell_type": "code",
      "source": [
        "# Assuming the file is named 'u.data' after upload\n",
        "data = pd.read_csv('u.data', delimiter='\\t', header=None, names=['user_id', 'movie_id', 'rating', 'timestamp'])\n",
        "\n",
        "# Display the first few rows of the dataframe\n",
        "data.head()"
      ],
      "metadata": {
        "colab": {
          "base_uri": "https://localhost:8080/",
          "height": 206
        },
        "id": "hMvsGdKKsRys",
        "outputId": "151d151f-02fa-4017-9593-3cc1e7a620fb"
      },
      "execution_count": 2,
      "outputs": [
        {
          "output_type": "execute_result",
          "data": {
            "text/plain": [
              "   user_id  movie_id  rating  timestamp\n",
              "0      196       242       3  881250949\n",
              "1      186       302       3  891717742\n",
              "2       22       377       1  878887116\n",
              "3      244        51       2  880606923\n",
              "4      166       346       1  886397596"
            ],
            "text/html": [
              "\n",
              "  <div id=\"df-67ca9dba-06cc-4c3c-a3d0-d61e643680ab\" class=\"colab-df-container\">\n",
              "    <div>\n",
              "<style scoped>\n",
              "    .dataframe tbody tr th:only-of-type {\n",
              "        vertical-align: middle;\n",
              "    }\n",
              "\n",
              "    .dataframe tbody tr th {\n",
              "        vertical-align: top;\n",
              "    }\n",
              "\n",
              "    .dataframe thead th {\n",
              "        text-align: right;\n",
              "    }\n",
              "</style>\n",
              "<table border=\"1\" class=\"dataframe\">\n",
              "  <thead>\n",
              "    <tr style=\"text-align: right;\">\n",
              "      <th></th>\n",
              "      <th>user_id</th>\n",
              "      <th>movie_id</th>\n",
              "      <th>rating</th>\n",
              "      <th>timestamp</th>\n",
              "    </tr>\n",
              "  </thead>\n",
              "  <tbody>\n",
              "    <tr>\n",
              "      <th>0</th>\n",
              "      <td>196</td>\n",
              "      <td>242</td>\n",
              "      <td>3</td>\n",
              "      <td>881250949</td>\n",
              "    </tr>\n",
              "    <tr>\n",
              "      <th>1</th>\n",
              "      <td>186</td>\n",
              "      <td>302</td>\n",
              "      <td>3</td>\n",
              "      <td>891717742</td>\n",
              "    </tr>\n",
              "    <tr>\n",
              "      <th>2</th>\n",
              "      <td>22</td>\n",
              "      <td>377</td>\n",
              "      <td>1</td>\n",
              "      <td>878887116</td>\n",
              "    </tr>\n",
              "    <tr>\n",
              "      <th>3</th>\n",
              "      <td>244</td>\n",
              "      <td>51</td>\n",
              "      <td>2</td>\n",
              "      <td>880606923</td>\n",
              "    </tr>\n",
              "    <tr>\n",
              "      <th>4</th>\n",
              "      <td>166</td>\n",
              "      <td>346</td>\n",
              "      <td>1</td>\n",
              "      <td>886397596</td>\n",
              "    </tr>\n",
              "  </tbody>\n",
              "</table>\n",
              "</div>\n",
              "    <div class=\"colab-df-buttons\">\n",
              "\n",
              "  <div class=\"colab-df-container\">\n",
              "    <button class=\"colab-df-convert\" onclick=\"convertToInteractive('df-67ca9dba-06cc-4c3c-a3d0-d61e643680ab')\"\n",
              "            title=\"Convert this dataframe to an interactive table.\"\n",
              "            style=\"display:none;\">\n",
              "\n",
              "  <svg xmlns=\"http://www.w3.org/2000/svg\" height=\"24px\" viewBox=\"0 -960 960 960\">\n",
              "    <path d=\"M120-120v-720h720v720H120Zm60-500h600v-160H180v160Zm220 220h160v-160H400v160Zm0 220h160v-160H400v160ZM180-400h160v-160H180v160Zm440 0h160v-160H620v160ZM180-180h160v-160H180v160Zm440 0h160v-160H620v160Z\"/>\n",
              "  </svg>\n",
              "    </button>\n",
              "\n",
              "  <style>\n",
              "    .colab-df-container {\n",
              "      display:flex;\n",
              "      gap: 12px;\n",
              "    }\n",
              "\n",
              "    .colab-df-convert {\n",
              "      background-color: #E8F0FE;\n",
              "      border: none;\n",
              "      border-radius: 50%;\n",
              "      cursor: pointer;\n",
              "      display: none;\n",
              "      fill: #1967D2;\n",
              "      height: 32px;\n",
              "      padding: 0 0 0 0;\n",
              "      width: 32px;\n",
              "    }\n",
              "\n",
              "    .colab-df-convert:hover {\n",
              "      background-color: #E2EBFA;\n",
              "      box-shadow: 0px 1px 2px rgba(60, 64, 67, 0.3), 0px 1px 3px 1px rgba(60, 64, 67, 0.15);\n",
              "      fill: #174EA6;\n",
              "    }\n",
              "\n",
              "    .colab-df-buttons div {\n",
              "      margin-bottom: 4px;\n",
              "    }\n",
              "\n",
              "    [theme=dark] .colab-df-convert {\n",
              "      background-color: #3B4455;\n",
              "      fill: #D2E3FC;\n",
              "    }\n",
              "\n",
              "    [theme=dark] .colab-df-convert:hover {\n",
              "      background-color: #434B5C;\n",
              "      box-shadow: 0px 1px 3px 1px rgba(0, 0, 0, 0.15);\n",
              "      filter: drop-shadow(0px 1px 2px rgba(0, 0, 0, 0.3));\n",
              "      fill: #FFFFFF;\n",
              "    }\n",
              "  </style>\n",
              "\n",
              "    <script>\n",
              "      const buttonEl =\n",
              "        document.querySelector('#df-67ca9dba-06cc-4c3c-a3d0-d61e643680ab button.colab-df-convert');\n",
              "      buttonEl.style.display =\n",
              "        google.colab.kernel.accessAllowed ? 'block' : 'none';\n",
              "\n",
              "      async function convertToInteractive(key) {\n",
              "        const element = document.querySelector('#df-67ca9dba-06cc-4c3c-a3d0-d61e643680ab');\n",
              "        const dataTable =\n",
              "          await google.colab.kernel.invokeFunction('convertToInteractive',\n",
              "                                                    [key], {});\n",
              "        if (!dataTable) return;\n",
              "\n",
              "        const docLinkHtml = 'Like what you see? Visit the ' +\n",
              "          '<a target=\"_blank\" href=https://colab.research.google.com/notebooks/data_table.ipynb>data table notebook</a>'\n",
              "          + ' to learn more about interactive tables.';\n",
              "        element.innerHTML = '';\n",
              "        dataTable['output_type'] = 'display_data';\n",
              "        await google.colab.output.renderOutput(dataTable, element);\n",
              "        const docLink = document.createElement('div');\n",
              "        docLink.innerHTML = docLinkHtml;\n",
              "        element.appendChild(docLink);\n",
              "      }\n",
              "    </script>\n",
              "  </div>\n",
              "\n",
              "\n",
              "<div id=\"df-248eab4b-9f59-4844-95ca-6666fd36fa0e\">\n",
              "  <button class=\"colab-df-quickchart\" onclick=\"quickchart('df-248eab4b-9f59-4844-95ca-6666fd36fa0e')\"\n",
              "            title=\"Suggest charts\"\n",
              "            style=\"display:none;\">\n",
              "\n",
              "<svg xmlns=\"http://www.w3.org/2000/svg\" height=\"24px\"viewBox=\"0 0 24 24\"\n",
              "     width=\"24px\">\n",
              "    <g>\n",
              "        <path d=\"M19 3H5c-1.1 0-2 .9-2 2v14c0 1.1.9 2 2 2h14c1.1 0 2-.9 2-2V5c0-1.1-.9-2-2-2zM9 17H7v-7h2v7zm4 0h-2V7h2v10zm4 0h-2v-4h2v4z\"/>\n",
              "    </g>\n",
              "</svg>\n",
              "  </button>\n",
              "\n",
              "<style>\n",
              "  .colab-df-quickchart {\n",
              "      --bg-color: #E8F0FE;\n",
              "      --fill-color: #1967D2;\n",
              "      --hover-bg-color: #E2EBFA;\n",
              "      --hover-fill-color: #174EA6;\n",
              "      --disabled-fill-color: #AAA;\n",
              "      --disabled-bg-color: #DDD;\n",
              "  }\n",
              "\n",
              "  [theme=dark] .colab-df-quickchart {\n",
              "      --bg-color: #3B4455;\n",
              "      --fill-color: #D2E3FC;\n",
              "      --hover-bg-color: #434B5C;\n",
              "      --hover-fill-color: #FFFFFF;\n",
              "      --disabled-bg-color: #3B4455;\n",
              "      --disabled-fill-color: #666;\n",
              "  }\n",
              "\n",
              "  .colab-df-quickchart {\n",
              "    background-color: var(--bg-color);\n",
              "    border: none;\n",
              "    border-radius: 50%;\n",
              "    cursor: pointer;\n",
              "    display: none;\n",
              "    fill: var(--fill-color);\n",
              "    height: 32px;\n",
              "    padding: 0;\n",
              "    width: 32px;\n",
              "  }\n",
              "\n",
              "  .colab-df-quickchart:hover {\n",
              "    background-color: var(--hover-bg-color);\n",
              "    box-shadow: 0 1px 2px rgba(60, 64, 67, 0.3), 0 1px 3px 1px rgba(60, 64, 67, 0.15);\n",
              "    fill: var(--button-hover-fill-color);\n",
              "  }\n",
              "\n",
              "  .colab-df-quickchart-complete:disabled,\n",
              "  .colab-df-quickchart-complete:disabled:hover {\n",
              "    background-color: var(--disabled-bg-color);\n",
              "    fill: var(--disabled-fill-color);\n",
              "    box-shadow: none;\n",
              "  }\n",
              "\n",
              "  .colab-df-spinner {\n",
              "    border: 2px solid var(--fill-color);\n",
              "    border-color: transparent;\n",
              "    border-bottom-color: var(--fill-color);\n",
              "    animation:\n",
              "      spin 1s steps(1) infinite;\n",
              "  }\n",
              "\n",
              "  @keyframes spin {\n",
              "    0% {\n",
              "      border-color: transparent;\n",
              "      border-bottom-color: var(--fill-color);\n",
              "      border-left-color: var(--fill-color);\n",
              "    }\n",
              "    20% {\n",
              "      border-color: transparent;\n",
              "      border-left-color: var(--fill-color);\n",
              "      border-top-color: var(--fill-color);\n",
              "    }\n",
              "    30% {\n",
              "      border-color: transparent;\n",
              "      border-left-color: var(--fill-color);\n",
              "      border-top-color: var(--fill-color);\n",
              "      border-right-color: var(--fill-color);\n",
              "    }\n",
              "    40% {\n",
              "      border-color: transparent;\n",
              "      border-right-color: var(--fill-color);\n",
              "      border-top-color: var(--fill-color);\n",
              "    }\n",
              "    60% {\n",
              "      border-color: transparent;\n",
              "      border-right-color: var(--fill-color);\n",
              "    }\n",
              "    80% {\n",
              "      border-color: transparent;\n",
              "      border-right-color: var(--fill-color);\n",
              "      border-bottom-color: var(--fill-color);\n",
              "    }\n",
              "    90% {\n",
              "      border-color: transparent;\n",
              "      border-bottom-color: var(--fill-color);\n",
              "    }\n",
              "  }\n",
              "</style>\n",
              "\n",
              "  <script>\n",
              "    async function quickchart(key) {\n",
              "      const quickchartButtonEl =\n",
              "        document.querySelector('#' + key + ' button');\n",
              "      quickchartButtonEl.disabled = true;  // To prevent multiple clicks.\n",
              "      quickchartButtonEl.classList.add('colab-df-spinner');\n",
              "      try {\n",
              "        const charts = await google.colab.kernel.invokeFunction(\n",
              "            'suggestCharts', [key], {});\n",
              "      } catch (error) {\n",
              "        console.error('Error during call to suggestCharts:', error);\n",
              "      }\n",
              "      quickchartButtonEl.classList.remove('colab-df-spinner');\n",
              "      quickchartButtonEl.classList.add('colab-df-quickchart-complete');\n",
              "    }\n",
              "    (() => {\n",
              "      let quickchartButtonEl =\n",
              "        document.querySelector('#df-248eab4b-9f59-4844-95ca-6666fd36fa0e button');\n",
              "      quickchartButtonEl.style.display =\n",
              "        google.colab.kernel.accessAllowed ? 'block' : 'none';\n",
              "    })();\n",
              "  </script>\n",
              "</div>\n",
              "\n",
              "    </div>\n",
              "  </div>\n"
            ],
            "application/vnd.google.colaboratory.intrinsic+json": {
              "type": "dataframe",
              "variable_name": "data",
              "summary": "{\n  \"name\": \"data\",\n  \"rows\": 100000,\n  \"fields\": [\n    {\n      \"column\": \"user_id\",\n      \"properties\": {\n        \"dtype\": \"number\",\n        \"std\": 266,\n        \"min\": 1,\n        \"max\": 943,\n        \"num_unique_values\": 943,\n        \"samples\": [\n          262,\n          136,\n          821\n        ],\n        \"semantic_type\": \"\",\n        \"description\": \"\"\n      }\n    },\n    {\n      \"column\": \"movie_id\",\n      \"properties\": {\n        \"dtype\": \"number\",\n        \"std\": 330,\n        \"min\": 1,\n        \"max\": 1682,\n        \"num_unique_values\": 1682,\n        \"samples\": [\n          1557,\n          808,\n          1618\n        ],\n        \"semantic_type\": \"\",\n        \"description\": \"\"\n      }\n    },\n    {\n      \"column\": \"rating\",\n      \"properties\": {\n        \"dtype\": \"number\",\n        \"std\": 1,\n        \"min\": 1,\n        \"max\": 5,\n        \"num_unique_values\": 5,\n        \"samples\": [\n          1,\n          5,\n          2\n        ],\n        \"semantic_type\": \"\",\n        \"description\": \"\"\n      }\n    },\n    {\n      \"column\": \"timestamp\",\n      \"properties\": {\n        \"dtype\": \"number\",\n        \"std\": 5343856,\n        \"min\": 874724710,\n        \"max\": 893286638,\n        \"num_unique_values\": 49282,\n        \"samples\": [\n          889728713,\n          888443306,\n          880605158\n        ],\n        \"semantic_type\": \"\",\n        \"description\": \"\"\n      }\n    }\n  ]\n}"
            }
          },
          "metadata": {},
          "execution_count": 2
        }
      ]
    },
    {
      "cell_type": "code",
      "source": [
        "try:\n",
        "    movies = pd.read_csv('u.item', sep='|', encoding='ISO-8859-1', header=None,names=['movie_id', 'movie_title', 'release_date', 'video_release_date', 'imdb_url'] + ['unknown', 'Action', 'Adventure', 'Animation', 'Children\\'s', 'Comedy', 'Crime', 'Documentary', 'Drama', 'Fantasy', 'Film-Noir', 'Horror', 'Musical', 'Mystery', 'Romance', 'Sci-Fi', 'Thriller', 'War', 'Western'])\n",
        "except UnicodeDecodeError:\n",
        "    print(\"ISO-8859-1 failed, trying latin1 encoding...\")\n",
        "    movies = pd.read_csv('u.item', sep='|', encoding='latin1', header=None,names=['movie_id', 'movie_title', 'release_date', 'video_release_date', 'imdb_url'] + ['unknown', 'Action', 'Adventure', 'Animation', 'Children\\'s', 'Comedy', 'Crime', 'Documentary', 'Drama', 'Fantasy', 'Film-Noir', 'Horror', 'Musical', 'Mystery', 'Romance', 'Sci-Fi', 'Thriller', 'War', 'Western'])\n"
      ],
      "metadata": {
        "id": "LI185m2XbUri"
      },
      "execution_count": 3,
      "outputs": []
    },
    {
      "cell_type": "code",
      "source": [
        "data = pd.merge(data, movies[['movie_id', 'movie_title']], on='movie_id', how='left')\n",
        "data.head()"
      ],
      "metadata": {
        "colab": {
          "base_uri": "https://localhost:8080/",
          "height": 206
        },
        "id": "3S2PY-MPT8Pw",
        "outputId": "d74da641-1192-43e2-e674-f75a5380a8cd"
      },
      "execution_count": 4,
      "outputs": [
        {
          "output_type": "execute_result",
          "data": {
            "text/plain": [
              "   user_id  movie_id  rating  timestamp                 movie_title\n",
              "0      196       242       3  881250949                Kolya (1996)\n",
              "1      186       302       3  891717742    L.A. Confidential (1997)\n",
              "2       22       377       1  878887116         Heavyweights (1994)\n",
              "3      244        51       2  880606923  Legends of the Fall (1994)\n",
              "4      166       346       1  886397596         Jackie Brown (1997)"
            ],
            "text/html": [
              "\n",
              "  <div id=\"df-433e69dc-1d20-4ebf-9c11-85d3718800b9\" class=\"colab-df-container\">\n",
              "    <div>\n",
              "<style scoped>\n",
              "    .dataframe tbody tr th:only-of-type {\n",
              "        vertical-align: middle;\n",
              "    }\n",
              "\n",
              "    .dataframe tbody tr th {\n",
              "        vertical-align: top;\n",
              "    }\n",
              "\n",
              "    .dataframe thead th {\n",
              "        text-align: right;\n",
              "    }\n",
              "</style>\n",
              "<table border=\"1\" class=\"dataframe\">\n",
              "  <thead>\n",
              "    <tr style=\"text-align: right;\">\n",
              "      <th></th>\n",
              "      <th>user_id</th>\n",
              "      <th>movie_id</th>\n",
              "      <th>rating</th>\n",
              "      <th>timestamp</th>\n",
              "      <th>movie_title</th>\n",
              "    </tr>\n",
              "  </thead>\n",
              "  <tbody>\n",
              "    <tr>\n",
              "      <th>0</th>\n",
              "      <td>196</td>\n",
              "      <td>242</td>\n",
              "      <td>3</td>\n",
              "      <td>881250949</td>\n",
              "      <td>Kolya (1996)</td>\n",
              "    </tr>\n",
              "    <tr>\n",
              "      <th>1</th>\n",
              "      <td>186</td>\n",
              "      <td>302</td>\n",
              "      <td>3</td>\n",
              "      <td>891717742</td>\n",
              "      <td>L.A. Confidential (1997)</td>\n",
              "    </tr>\n",
              "    <tr>\n",
              "      <th>2</th>\n",
              "      <td>22</td>\n",
              "      <td>377</td>\n",
              "      <td>1</td>\n",
              "      <td>878887116</td>\n",
              "      <td>Heavyweights (1994)</td>\n",
              "    </tr>\n",
              "    <tr>\n",
              "      <th>3</th>\n",
              "      <td>244</td>\n",
              "      <td>51</td>\n",
              "      <td>2</td>\n",
              "      <td>880606923</td>\n",
              "      <td>Legends of the Fall (1994)</td>\n",
              "    </tr>\n",
              "    <tr>\n",
              "      <th>4</th>\n",
              "      <td>166</td>\n",
              "      <td>346</td>\n",
              "      <td>1</td>\n",
              "      <td>886397596</td>\n",
              "      <td>Jackie Brown (1997)</td>\n",
              "    </tr>\n",
              "  </tbody>\n",
              "</table>\n",
              "</div>\n",
              "    <div class=\"colab-df-buttons\">\n",
              "\n",
              "  <div class=\"colab-df-container\">\n",
              "    <button class=\"colab-df-convert\" onclick=\"convertToInteractive('df-433e69dc-1d20-4ebf-9c11-85d3718800b9')\"\n",
              "            title=\"Convert this dataframe to an interactive table.\"\n",
              "            style=\"display:none;\">\n",
              "\n",
              "  <svg xmlns=\"http://www.w3.org/2000/svg\" height=\"24px\" viewBox=\"0 -960 960 960\">\n",
              "    <path d=\"M120-120v-720h720v720H120Zm60-500h600v-160H180v160Zm220 220h160v-160H400v160Zm0 220h160v-160H400v160ZM180-400h160v-160H180v160Zm440 0h160v-160H620v160ZM180-180h160v-160H180v160Zm440 0h160v-160H620v160Z\"/>\n",
              "  </svg>\n",
              "    </button>\n",
              "\n",
              "  <style>\n",
              "    .colab-df-container {\n",
              "      display:flex;\n",
              "      gap: 12px;\n",
              "    }\n",
              "\n",
              "    .colab-df-convert {\n",
              "      background-color: #E8F0FE;\n",
              "      border: none;\n",
              "      border-radius: 50%;\n",
              "      cursor: pointer;\n",
              "      display: none;\n",
              "      fill: #1967D2;\n",
              "      height: 32px;\n",
              "      padding: 0 0 0 0;\n",
              "      width: 32px;\n",
              "    }\n",
              "\n",
              "    .colab-df-convert:hover {\n",
              "      background-color: #E2EBFA;\n",
              "      box-shadow: 0px 1px 2px rgba(60, 64, 67, 0.3), 0px 1px 3px 1px rgba(60, 64, 67, 0.15);\n",
              "      fill: #174EA6;\n",
              "    }\n",
              "\n",
              "    .colab-df-buttons div {\n",
              "      margin-bottom: 4px;\n",
              "    }\n",
              "\n",
              "    [theme=dark] .colab-df-convert {\n",
              "      background-color: #3B4455;\n",
              "      fill: #D2E3FC;\n",
              "    }\n",
              "\n",
              "    [theme=dark] .colab-df-convert:hover {\n",
              "      background-color: #434B5C;\n",
              "      box-shadow: 0px 1px 3px 1px rgba(0, 0, 0, 0.15);\n",
              "      filter: drop-shadow(0px 1px 2px rgba(0, 0, 0, 0.3));\n",
              "      fill: #FFFFFF;\n",
              "    }\n",
              "  </style>\n",
              "\n",
              "    <script>\n",
              "      const buttonEl =\n",
              "        document.querySelector('#df-433e69dc-1d20-4ebf-9c11-85d3718800b9 button.colab-df-convert');\n",
              "      buttonEl.style.display =\n",
              "        google.colab.kernel.accessAllowed ? 'block' : 'none';\n",
              "\n",
              "      async function convertToInteractive(key) {\n",
              "        const element = document.querySelector('#df-433e69dc-1d20-4ebf-9c11-85d3718800b9');\n",
              "        const dataTable =\n",
              "          await google.colab.kernel.invokeFunction('convertToInteractive',\n",
              "                                                    [key], {});\n",
              "        if (!dataTable) return;\n",
              "\n",
              "        const docLinkHtml = 'Like what you see? Visit the ' +\n",
              "          '<a target=\"_blank\" href=https://colab.research.google.com/notebooks/data_table.ipynb>data table notebook</a>'\n",
              "          + ' to learn more about interactive tables.';\n",
              "        element.innerHTML = '';\n",
              "        dataTable['output_type'] = 'display_data';\n",
              "        await google.colab.output.renderOutput(dataTable, element);\n",
              "        const docLink = document.createElement('div');\n",
              "        docLink.innerHTML = docLinkHtml;\n",
              "        element.appendChild(docLink);\n",
              "      }\n",
              "    </script>\n",
              "  </div>\n",
              "\n",
              "\n",
              "<div id=\"df-90f29c2a-68f7-4dde-9b52-4a7c7e03bb85\">\n",
              "  <button class=\"colab-df-quickchart\" onclick=\"quickchart('df-90f29c2a-68f7-4dde-9b52-4a7c7e03bb85')\"\n",
              "            title=\"Suggest charts\"\n",
              "            style=\"display:none;\">\n",
              "\n",
              "<svg xmlns=\"http://www.w3.org/2000/svg\" height=\"24px\"viewBox=\"0 0 24 24\"\n",
              "     width=\"24px\">\n",
              "    <g>\n",
              "        <path d=\"M19 3H5c-1.1 0-2 .9-2 2v14c0 1.1.9 2 2 2h14c1.1 0 2-.9 2-2V5c0-1.1-.9-2-2-2zM9 17H7v-7h2v7zm4 0h-2V7h2v10zm4 0h-2v-4h2v4z\"/>\n",
              "    </g>\n",
              "</svg>\n",
              "  </button>\n",
              "\n",
              "<style>\n",
              "  .colab-df-quickchart {\n",
              "      --bg-color: #E8F0FE;\n",
              "      --fill-color: #1967D2;\n",
              "      --hover-bg-color: #E2EBFA;\n",
              "      --hover-fill-color: #174EA6;\n",
              "      --disabled-fill-color: #AAA;\n",
              "      --disabled-bg-color: #DDD;\n",
              "  }\n",
              "\n",
              "  [theme=dark] .colab-df-quickchart {\n",
              "      --bg-color: #3B4455;\n",
              "      --fill-color: #D2E3FC;\n",
              "      --hover-bg-color: #434B5C;\n",
              "      --hover-fill-color: #FFFFFF;\n",
              "      --disabled-bg-color: #3B4455;\n",
              "      --disabled-fill-color: #666;\n",
              "  }\n",
              "\n",
              "  .colab-df-quickchart {\n",
              "    background-color: var(--bg-color);\n",
              "    border: none;\n",
              "    border-radius: 50%;\n",
              "    cursor: pointer;\n",
              "    display: none;\n",
              "    fill: var(--fill-color);\n",
              "    height: 32px;\n",
              "    padding: 0;\n",
              "    width: 32px;\n",
              "  }\n",
              "\n",
              "  .colab-df-quickchart:hover {\n",
              "    background-color: var(--hover-bg-color);\n",
              "    box-shadow: 0 1px 2px rgba(60, 64, 67, 0.3), 0 1px 3px 1px rgba(60, 64, 67, 0.15);\n",
              "    fill: var(--button-hover-fill-color);\n",
              "  }\n",
              "\n",
              "  .colab-df-quickchart-complete:disabled,\n",
              "  .colab-df-quickchart-complete:disabled:hover {\n",
              "    background-color: var(--disabled-bg-color);\n",
              "    fill: var(--disabled-fill-color);\n",
              "    box-shadow: none;\n",
              "  }\n",
              "\n",
              "  .colab-df-spinner {\n",
              "    border: 2px solid var(--fill-color);\n",
              "    border-color: transparent;\n",
              "    border-bottom-color: var(--fill-color);\n",
              "    animation:\n",
              "      spin 1s steps(1) infinite;\n",
              "  }\n",
              "\n",
              "  @keyframes spin {\n",
              "    0% {\n",
              "      border-color: transparent;\n",
              "      border-bottom-color: var(--fill-color);\n",
              "      border-left-color: var(--fill-color);\n",
              "    }\n",
              "    20% {\n",
              "      border-color: transparent;\n",
              "      border-left-color: var(--fill-color);\n",
              "      border-top-color: var(--fill-color);\n",
              "    }\n",
              "    30% {\n",
              "      border-color: transparent;\n",
              "      border-left-color: var(--fill-color);\n",
              "      border-top-color: var(--fill-color);\n",
              "      border-right-color: var(--fill-color);\n",
              "    }\n",
              "    40% {\n",
              "      border-color: transparent;\n",
              "      border-right-color: var(--fill-color);\n",
              "      border-top-color: var(--fill-color);\n",
              "    }\n",
              "    60% {\n",
              "      border-color: transparent;\n",
              "      border-right-color: var(--fill-color);\n",
              "    }\n",
              "    80% {\n",
              "      border-color: transparent;\n",
              "      border-right-color: var(--fill-color);\n",
              "      border-bottom-color: var(--fill-color);\n",
              "    }\n",
              "    90% {\n",
              "      border-color: transparent;\n",
              "      border-bottom-color: var(--fill-color);\n",
              "    }\n",
              "  }\n",
              "</style>\n",
              "\n",
              "  <script>\n",
              "    async function quickchart(key) {\n",
              "      const quickchartButtonEl =\n",
              "        document.querySelector('#' + key + ' button');\n",
              "      quickchartButtonEl.disabled = true;  // To prevent multiple clicks.\n",
              "      quickchartButtonEl.classList.add('colab-df-spinner');\n",
              "      try {\n",
              "        const charts = await google.colab.kernel.invokeFunction(\n",
              "            'suggestCharts', [key], {});\n",
              "      } catch (error) {\n",
              "        console.error('Error during call to suggestCharts:', error);\n",
              "      }\n",
              "      quickchartButtonEl.classList.remove('colab-df-spinner');\n",
              "      quickchartButtonEl.classList.add('colab-df-quickchart-complete');\n",
              "    }\n",
              "    (() => {\n",
              "      let quickchartButtonEl =\n",
              "        document.querySelector('#df-90f29c2a-68f7-4dde-9b52-4a7c7e03bb85 button');\n",
              "      quickchartButtonEl.style.display =\n",
              "        google.colab.kernel.accessAllowed ? 'block' : 'none';\n",
              "    })();\n",
              "  </script>\n",
              "</div>\n",
              "\n",
              "    </div>\n",
              "  </div>\n"
            ],
            "application/vnd.google.colaboratory.intrinsic+json": {
              "type": "dataframe",
              "variable_name": "data",
              "summary": "{\n  \"name\": \"data\",\n  \"rows\": 100000,\n  \"fields\": [\n    {\n      \"column\": \"user_id\",\n      \"properties\": {\n        \"dtype\": \"number\",\n        \"std\": 266,\n        \"min\": 1,\n        \"max\": 943,\n        \"num_unique_values\": 943,\n        \"samples\": [\n          262,\n          136,\n          821\n        ],\n        \"semantic_type\": \"\",\n        \"description\": \"\"\n      }\n    },\n    {\n      \"column\": \"movie_id\",\n      \"properties\": {\n        \"dtype\": \"number\",\n        \"std\": 330,\n        \"min\": 1,\n        \"max\": 1682,\n        \"num_unique_values\": 1682,\n        \"samples\": [\n          1557,\n          808,\n          1618\n        ],\n        \"semantic_type\": \"\",\n        \"description\": \"\"\n      }\n    },\n    {\n      \"column\": \"rating\",\n      \"properties\": {\n        \"dtype\": \"number\",\n        \"std\": 1,\n        \"min\": 1,\n        \"max\": 5,\n        \"num_unique_values\": 5,\n        \"samples\": [\n          1,\n          5,\n          2\n        ],\n        \"semantic_type\": \"\",\n        \"description\": \"\"\n      }\n    },\n    {\n      \"column\": \"timestamp\",\n      \"properties\": {\n        \"dtype\": \"number\",\n        \"std\": 5343856,\n        \"min\": 874724710,\n        \"max\": 893286638,\n        \"num_unique_values\": 49282,\n        \"samples\": [\n          889728713,\n          888443306,\n          880605158\n        ],\n        \"semantic_type\": \"\",\n        \"description\": \"\"\n      }\n    },\n    {\n      \"column\": \"movie_title\",\n      \"properties\": {\n        \"dtype\": \"category\",\n        \"num_unique_values\": 1664,\n        \"samples\": [\n          \"House Party 3 (1994)\",\n          \"Three Colors: White (1994)\",\n          \"Fish Called Wanda, A (1988)\"\n        ],\n        \"semantic_type\": \"\",\n        \"description\": \"\"\n      }\n    }\n  ]\n}"
            }
          },
          "metadata": {},
          "execution_count": 4
        }
      ]
    },
    {
      "cell_type": "code",
      "source": [
        "data.shape"
      ],
      "metadata": {
        "colab": {
          "base_uri": "https://localhost:8080/"
        },
        "id": "AMUNKBBxseG-",
        "outputId": "4ed9e687-167f-445e-fe04-45a67e36e883"
      },
      "execution_count": 5,
      "outputs": [
        {
          "output_type": "execute_result",
          "data": {
            "text/plain": [
              "(100000, 5)"
            ]
          },
          "metadata": {},
          "execution_count": 5
        }
      ]
    },
    {
      "cell_type": "code",
      "source": [
        "data.info()"
      ],
      "metadata": {
        "id": "aIdFvKOGsh3y",
        "outputId": "b793beb4-f934-4bab-ddbb-7863d8f7c559",
        "colab": {
          "base_uri": "https://localhost:8080/"
        }
      },
      "execution_count": 6,
      "outputs": [
        {
          "output_type": "stream",
          "name": "stdout",
          "text": [
            "<class 'pandas.core.frame.DataFrame'>\n",
            "RangeIndex: 100000 entries, 0 to 99999\n",
            "Data columns (total 5 columns):\n",
            " #   Column       Non-Null Count   Dtype \n",
            "---  ------       --------------   ----- \n",
            " 0   user_id      100000 non-null  int64 \n",
            " 1   movie_id     100000 non-null  int64 \n",
            " 2   rating       100000 non-null  int64 \n",
            " 3   timestamp    100000 non-null  int64 \n",
            " 4   movie_title  100000 non-null  object\n",
            "dtypes: int64(4), object(1)\n",
            "memory usage: 3.8+ MB\n"
          ]
        }
      ]
    },
    {
      "cell_type": "code",
      "source": [
        "data['movie_id'].nunique() # total number of unique movies"
      ],
      "metadata": {
        "colab": {
          "base_uri": "https://localhost:8080/"
        },
        "id": "rCaMjE-gyt-E",
        "outputId": "88b0d02f-f1c0-4390-d0dd-2009f61eecf0"
      },
      "execution_count": 7,
      "outputs": [
        {
          "output_type": "execute_result",
          "data": {
            "text/plain": [
              "1682"
            ]
          },
          "metadata": {},
          "execution_count": 7
        }
      ]
    },
    {
      "cell_type": "code",
      "source": [
        "data['user_id'].nunique() # total number of unique users"
      ],
      "metadata": {
        "colab": {
          "base_uri": "https://localhost:8080/"
        },
        "id": "-TBbLufBy1Pr",
        "outputId": "74da5b6d-2447-4339-fc61-ef802115a45d"
      },
      "execution_count": 8,
      "outputs": [
        {
          "output_type": "execute_result",
          "data": {
            "text/plain": [
              "943"
            ]
          },
          "metadata": {},
          "execution_count": 8
        }
      ]
    },
    {
      "cell_type": "code",
      "source": [
        "data['rating'].unique() # unique ratings"
      ],
      "metadata": {
        "colab": {
          "base_uri": "https://localhost:8080/"
        },
        "id": "Omg0ZoCYy8CV",
        "outputId": "93d44a00-16c3-46a8-a994-186b39e0d475"
      },
      "execution_count": 9,
      "outputs": [
        {
          "output_type": "execute_result",
          "data": {
            "text/plain": [
              "array([3, 1, 2, 4, 5])"
            ]
          },
          "metadata": {},
          "execution_count": 9
        }
      ]
    },
    {
      "cell_type": "code",
      "source": [
        "# Convert Unix timestamp to datetime\n",
        "data['datetime'] = pd.to_datetime(data['timestamp'], unit='s')\n",
        "# Extract hour of the day, day of the week, and month\n",
        "data['hour'] = data['datetime'].dt.hour\n",
        "data['day_of_week'] = data['datetime'].dt.dayofweek  # Monday = 0, Sunday = 6\n",
        "data['month'] = data['datetime'].dt.month"
      ],
      "metadata": {
        "id": "wa0Ts4lZzB-S"
      },
      "execution_count": 10,
      "outputs": []
    },
    {
      "cell_type": "code",
      "source": [
        "# Plot the distribution of ratings by hour of the day\n",
        "plt.figure(figsize=(10, 6))\n",
        "data['hour'].value_counts().sort_index().plot(kind='bar', color='purple')\n",
        "plt.title('Distribution of Ratings by Hour of the Day')\n",
        "plt.xlabel('Hour of the Day')\n",
        "plt.ylabel('Number of Ratings')\n",
        "plt.xticks(np.arange(0, 24, step=1), rotation=0)\n",
        "plt.grid(axis='y', linestyle='--', alpha=0.7)\n",
        "plt.show()"
      ],
      "metadata": {
        "colab": {
          "base_uri": "https://localhost:8080/",
          "height": 564
        },
        "id": "csJyL3GN05CM",
        "outputId": "94538a56-c65c-49ef-8fe5-265ce87a6720"
      },
      "execution_count": 11,
      "outputs": [
        {
          "output_type": "display_data",
          "data": {
            "text/plain": [
              "<Figure size 1000x600 with 1 Axes>"
            ],
            "image/png": "[encoded data removed]"
          },
          "metadata": {}
        }
      ]
    },
    {
      "cell_type": "code",
      "source": [
        "# Plot the distribution of ratings by day of the week\n",
        "plt.figure(figsize=(10, 6))\n",
        "data['day_of_week'].value_counts().sort_index().plot(kind='bar', color='salmon')\n",
        "plt.title('Distribution of Ratings by Day of the Week')\n",
        "plt.xlabel('Day of the Week')\n",
        "plt.ylabel('Number of Ratings')\n",
        "plt.xticks(np.arange(0, 7, step=1), ['Mon', 'Tue', 'Wed', 'Thu', 'Fri', 'Sat', 'Sun'], rotation=0)\n",
        "plt.grid(axis='y', linestyle='--', alpha=0.7)\n",
        "plt.show()"
      ],
      "metadata": {
        "colab": {
          "base_uri": "https://localhost:8080/",
          "height": 564
        },
        "id": "RsoYv4Ax1zeS",
        "outputId": "b12575fb-52eb-47af-f172-62599afdd329"
      },
      "execution_count": 12,
      "outputs": [
        {
          "output_type": "display_data",
          "data": {
            "text/plain": [
              "<Figure size 1000x600 with 1 Axes>"
            ],
            "image/png": "[encoded data removed]"
          },
          "metadata": {}
        }
      ]
    },
    {
      "cell_type": "code",
      "source": [
        "data.isna().sum()"
      ],
      "metadata": {
        "id": "foqEkc7tsk4B",
        "colab": {
          "base_uri": "https://localhost:8080/",
          "height": 366
        },
        "outputId": "b0b46827-def3-4ca8-d5c4-2d500a9cca81"
      },
      "execution_count": 13,
      "outputs": [
        {
          "output_type": "execute_result",
          "data": {
            "text/plain": [
              "user_id        0\n",
              "movie_id       0\n",
              "rating         0\n",
              "timestamp      0\n",
              "movie_title    0\n",
              "datetime       0\n",
              "hour           0\n",
              "day_of_week    0\n",
              "month          0\n",
              "dtype: int64"
            ],
            "text/html": [
              "<div>\n",
              "<style scoped>\n",
              "    .dataframe tbody tr th:only-of-type {\n",
              "        vertical-align: middle;\n",
              "    }\n",
              "\n",
              "    .dataframe tbody tr th {\n",
              "        vertical-align: top;\n",
              "    }\n",
              "\n",
              "    .dataframe thead th {\n",
              "        text-align: right;\n",
              "    }\n",
              "</style>\n",
              "<table border=\"1\" class=\"dataframe\">\n",
              "  <thead>\n",
              "    <tr style=\"text-align: right;\">\n",
              "      <th></th>\n",
              "      <th>0</th>\n",
              "    </tr>\n",
              "  </thead>\n",
              "  <tbody>\n",
              "    <tr>\n",
              "      <th>user_id</th>\n",
              "      <td>0</td>\n",
              "    </tr>\n",
              "    <tr>\n",
              "      <th>movie_id</th>\n",
              "      <td>0</td>\n",
              "    </tr>\n",
              "    <tr>\n",
              "      <th>rating</th>\n",
              "      <td>0</td>\n",
              "    </tr>\n",
              "    <tr>\n",
              "      <th>timestamp</th>\n",
              "      <td>0</td>\n",
              "    </tr>\n",
              "    <tr>\n",
              "      <th>movie_title</th>\n",
              "      <td>0</td>\n",
              "    </tr>\n",
              "    <tr>\n",
              "      <th>datetime</th>\n",
              "      <td>0</td>\n",
              "    </tr>\n",
              "    <tr>\n",
              "      <th>hour</th>\n",
              "      <td>0</td>\n",
              "    </tr>\n",
              "    <tr>\n",
              "      <th>day_of_week</th>\n",
              "      <td>0</td>\n",
              "    </tr>\n",
              "    <tr>\n",
              "      <th>month</th>\n",
              "      <td>0</td>\n",
              "    </tr>\n",
              "  </tbody>\n",
              "</table>\n",
              "</div><br><label><b>dtype:</b> int64</label>"
            ]
          },
          "metadata": {},
          "execution_count": 13
        }
      ]
    },
    {
      "cell_type": "code",
      "source": [
        "data.duplicated().sum()"
      ],
      "metadata": {
        "colab": {
          "base_uri": "https://localhost:8080/"
        },
        "id": "1QAY87b5uaWV",
        "outputId": "754ba603-8d7b-409b-bdbd-889790373927"
      },
      "execution_count": 14,
      "outputs": [
        {
          "output_type": "execute_result",
          "data": {
            "text/plain": [
              "0"
            ]
          },
          "metadata": {},
          "execution_count": 14
        }
      ]
    },
    {
      "cell_type": "code",
      "source": [
        "data.columns"
      ],
      "metadata": {
        "colab": {
          "base_uri": "https://localhost:8080/"
        },
        "id": "UOto7jYuHaUW",
        "outputId": "1bf4f128-e7d7-41c9-b468-90b0c7b591f9"
      },
      "execution_count": 15,
      "outputs": [
        {
          "output_type": "execute_result",
          "data": {
            "text/plain": [
              "Index(['user_id', 'movie_id', 'rating', 'timestamp', 'movie_title', 'datetime',\n",
              "       'hour', 'day_of_week', 'month'],\n",
              "      dtype='object')"
            ]
          },
          "metadata": {},
          "execution_count": 15
        }
      ]
    },
    {
      "cell_type": "markdown",
      "source": [
        "**Collaborative Filtering**"
      ],
      "metadata": {
        "id": "-EK_5J67Lddv"
      }
    },
    {
      "cell_type": "code",
      "source": [
        "pip install scikit-surprise\n"
      ],
      "metadata": {
        "colab": {
          "base_uri": "https://localhost:8080/"
        },
        "id": "O2aoGJqcuhEH",
        "outputId": "d66a9880-971e-4e3f-fc08-4203bd8593ee"
      },
      "execution_count": 16,
      "outputs": [
        {
          "output_type": "stream",
          "name": "stdout",
          "text": [
            "Requirement already satisfied: scikit-surprise in /usr/local/lib/python3.10/dist-packages (1.1.4)\n",
            "Requirement already satisfied: joblib>=1.2.0 in /usr/local/lib/python3.10/dist-packages (from scikit-surprise) (1.4.2)\n",
            "Requirement already satisfied: numpy>=1.19.5 in /usr/local/lib/python3.10/dist-packages (from scikit-surprise) (1.26.4)\n",
            "Requirement already satisfied: scipy>=1.6.0 in /usr/local/lib/python3.10/dist-packages (from scikit-surprise) (1.13.1)\n"
          ]
        }
      ]
    },
    {
      "cell_type": "code",
      "source": [
        "# Prepare data\n",
        "reader = Reader(rating_scale=(1, 5))\n",
        "data = Dataset.load_from_df(data[['user_id', 'movie_id', 'rating']], reader)\n",
        "trainset, testset = train_test_split(data, test_size=0.2)\n",
        "\n",
        "# Initialize list to store RMSE for different n_factors\n",
        "rmse_values = []\n",
        "latent_sizes = [20, 30, 40, 50]\n",
        "\n",
        "# Iterate over different latent vector sizes\n",
        "for latent_size in latent_sizes:\n",
        "    model = SVD(n_factors=latent_size)\n",
        "    model.fit(trainset)\n",
        "    predictions = model.test(testset)\n",
        "    rmse = accuracy.rmse(predictions)\n",
        "    rmse_values.append(rmse)\n",
        "\n",
        "# Plotting RMSE for different latent vector sizes\n",
        "plt.figure(figsize=(10, 6))\n",
        "plt.plot(latent_sizes, rmse_values, marker='o', color='b', linestyle='-', linewidth=2, markersize=8)\n",
        "plt.title(\"RMSE for Different Latent Vector Sizes (Matrix Factorization)\")\n",
        "plt.xlabel(\"Number of Latent Factors (n_factors)\")\n",
        "plt.ylabel(\"RMSE\")\n",
        "plt.xticks(latent_sizes)\n",
        "plt.grid(True)\n",
        "plt.show()"
      ],
      "metadata": {
        "colab": {
          "base_uri": "https://localhost:8080/",
          "height": 633
        },
        "id": "njcUSyqvG6vu",
        "outputId": "7bb4411b-52b9-49f1-e869-505ecc826480"
      },
      "execution_count": 17,
      "outputs": [
        {
          "output_type": "stream",
          "name": "stdout",
          "text": [
            "RMSE: 0.9341\n",
            "RMSE: 0.9352\n",
            "RMSE: 0.9336\n",
            "RMSE: 0.9305\n"
          ]
        },
        {
          "output_type": "display_data",
          "data": {
            "text/plain": [
              "<Figure size 1000x600 with 1 Axes>"
            ],
            "image/png": "[encoded data removed]"
          },
          "metadata": {}
        }
      ]
    },
    {
      "cell_type": "code",
      "source": [
        "'''def calculate_metrics(predictions, top_k):\n",
        "    \"\"\"\n",
        "    Calculate precision, recall, and F1-score for top-k recommendations.\n",
        "    predictions: A list of tuples or dicts containing user_id, item_id, true_rating, predicted_rating.\n",
        "    \"\"\"\n",
        "    # Extract predicted ratings (if predictions is a list of dicts)\n",
        "    if isinstance(predictions[0], dict):  # Check if predictions contain dicts\n",
        "        predictions = [\n",
        "            (pred[\"user_id\"], pred[\"item_id\"], pred[\"true_rating\"], pred[\"est\"])\n",
        "            for pred in predictions\n",
        "        ]\n",
        "\n",
        "    # Convert predictions to a NumPy array for further processing\n",
        "    predictions = np.array(predictions)\n",
        "\n",
        "    # Reshape user-item matrices\n",
        "    user_ids = predictions[:, 0].astype(int)\n",
        "    item_ids = predictions[:, 1].astype(int)\n",
        "    true_ratings = predictions[:, 2].astype(float)\n",
        "    pred_ratings = predictions[:, 3].astype(float)\n",
        "\n",
        "    num_users = user_ids.max() + 1\n",
        "    num_items = item_ids.max() + 1\n",
        "\n",
        "    true_matrix = np.zeros((num_users, num_items))\n",
        "    pred_matrix = np.zeros((num_users, num_items))\n",
        "\n",
        "    for u, i, t, p in zip(user_ids, item_ids, true_ratings, pred_ratings):\n",
        "        true_matrix[u, i] = t\n",
        "        pred_matrix[u, i] = p\n",
        "\n",
        "    # Get top-k predictions and ground truths\n",
        "    top_k_preds = np.argsort(-pred_matrix, axis=1)[:, :top_k]\n",
        "    top_k_true = np.argsort(-true_matrix, axis=1)[:, :top_k]\n",
        "\n",
        "    # Flatten predictions and ground truths for evaluation\n",
        "    flat_preds = top_k_preds.flatten()\n",
        "    flat_true = top_k_true.flatten()\n",
        "\n",
        "    # Precision, Recall, F1\n",
        "    precision = precision_score(flat_true, flat_preds, average=\"micro\", zero_division=0)\n",
        "    recall = recall_score(flat_true, flat_preds, average=\"micro\", zero_division=0)\n",
        "    f1 = f1_score(flat_true, flat_preds, average=\"micro\", zero_division=0)\n",
        "\n",
        "    return precision, recall, f1\n",
        "'''"
      ],
      "metadata": {
        "id": "jv_FoMx3GOos"
      },
      "execution_count": 66,
      "outputs": []
    },
    {
      "cell_type": "code",
      "source": [
        "from sklearn.metrics import precision_score, recall_score, f1_score\n",
        "\n",
        "def calculate_metrics(predictions, top_k):\n",
        "    \"\"\"\n",
        "    Calculate precision, recall, and F1-score for top-k recommendations.\n",
        "    predictions: A list of tuples containing (user_id, item_id, true_rating, predicted_rating).\n",
        "    \"\"\"\n",
        "    # Convert predictions to a NumPy array\n",
        "    predictions = np.array(predictions)\n",
        "\n",
        "    # Reshape user-item matrices\n",
        "    user_ids = predictions[:, 0].astype(int)\n",
        "    item_ids = predictions[:, 1].astype(int)\n",
        "    true_ratings = predictions[:, 2].astype(float)\n",
        "    pred_ratings = predictions[:, 3].astype(float)\n",
        "\n",
        "    num_users = user_ids.max() + 1\n",
        "    num_items = item_ids.max() + 1\n",
        "\n",
        "    true_matrix = np.zeros((num_users, num_items))\n",
        "    pred_matrix = np.zeros((num_users, num_items))\n",
        "\n",
        "    for u, i, t, p in zip(user_ids, item_ids, true_ratings, pred_ratings):\n",
        "        true_matrix[u, i] = t\n",
        "        pred_matrix[u, i] = p\n",
        "\n",
        "    precision_list, recall_list, f1_list = [], [], []\n",
        "\n",
        "    for user in range(num_users):\n",
        "        # Top-k predictions and ground truth for this user\n",
        "        user_top_k_preds = np.argsort(-pred_matrix[user])[:top_k]\n",
        "        user_top_k_true = np.argsort(-true_matrix[user])[:top_k]\n",
        "\n",
        "        # Convert to binary relevance (1 if relevant, 0 otherwise)\n",
        "        user_relevant = (true_matrix[user] > 0).astype(int)\n",
        "        pred_relevant = np.zeros_like(user_relevant)\n",
        "        pred_relevant[user_top_k_preds] = 1  # Mark top-k items as relevant\n",
        "\n",
        "        # Precision, Recall, F1\n",
        "        precision = precision_score(user_relevant, pred_relevant, zero_division=0)\n",
        "        recall = recall_score(user_relevant, pred_relevant, zero_division=0)\n",
        "        f1 = f1_score(user_relevant, pred_relevant, zero_division=0)\n",
        "\n",
        "        precision_list.append(precision)\n",
        "        recall_list.append(recall)\n",
        "        f1_list.append(f1)\n",
        "\n",
        "    # Average metrics across users\n",
        "    return np.mean(precision_list), np.mean(recall_list), np.mean(f1_list)\n"
      ],
      "metadata": {
        "id": "eBr9IJo6NjBv"
      },
      "execution_count": 68,
      "outputs": []
    },
    {
      "cell_type": "code",
      "source": [
        "# Metrics for top-10 and top-20\n",
        "metrics_top_10 = calculate_metrics(predictions, top_k=10)  # Precision, Recall, F1\n",
        "metrics_top_20 = calculate_metrics(predictions, top_k=20)  # Precision, Recall, F1\n",
        "\n",
        "# Data preparation\n",
        "metric_names = [\"Precision\", \"Recall\", \"F1-Score\"]\n",
        "top_10_values = list(metrics_top_10)\n",
        "top_20_values = list(metrics_top_20)\n",
        "\n",
        "# Plot\n",
        "x = np.arange(len(metric_names))  # Number of metrics\n",
        "width = 0.35  # Bar width\n",
        "\n",
        "fig, ax = plt.subplots(figsize=(8, 5))\n",
        "bars1 = ax.bar(x - width / 2, top_10_values, width, label=\"Top-10\", color=\"blue\")\n",
        "bars2 = ax.bar(x + width / 2, top_20_values, width, label=\"Top-20\", color=\"green\")\n",
        "\n",
        "# Adding labels, title, and legend\n",
        "ax.set_ylabel(\"Score\")\n",
        "ax.set_xlabel(\"Metrics\")\n",
        "ax.set_title(\"Metrics Comparison for Top-10 and Top-20 Recommendations\")\n",
        "ax.set_xticks(x)\n",
        "ax.set_xticklabels(metric_names)\n",
        "ax.legend()\n",
        "\n",
        "# Adding data labels\n",
        "for bar in bars1 + bars2:\n",
        "    height = bar.get_height()\n",
        "    ax.annotate(f'{height:.2f}',  # Display value\n",
        "                xy=(bar.get_x() + bar.get_width() / 2, height),  # Position\n",
        "                xytext=(0, 3),  # Offset\n",
        "                textcoords=\"offset points\",\n",
        "                ha=\"center\", va=\"bottom\")\n",
        "\n",
        "# Show plot\n",
        "plt.tight_layout()\n",
        "plt.show()\n"
      ],
      "metadata": {
        "colab": {
          "base_uri": "https://localhost:8080/",
          "height": 507
        },
        "id": "_2MX3yvYG61K",
        "outputId": "3e1a62c8-beae-4c75-ad7f-f5fa93cb0260"
      },
      "execution_count": 69,
      "outputs": [
        {
          "output_type": "display_data",
          "data": {
            "text/plain": [
              "<Figure size 800x500 with 1 Axes>"
            ],
            "image/png": "[encoded data removed]"
          },
          "metadata": {}
        }
      ]
    },
    {
      "cell_type": "code",
      "source": [
        "# Get the user and item latent matrices\n",
        "#These are both numpy arrays that hold the feature vectors for each user and each item.\n",
        "user_latent_matrix = model.pu  # User matrix\n",
        "item_latent_matrix = model.qi  # Item matrix"
      ],
      "metadata": {
        "id": "0Zd4oobW15_n"
      },
      "execution_count": 20,
      "outputs": []
    },
    {
      "cell_type": "markdown",
      "source": [
        "Matrix Factorization Algorithm\n",
        "The algorithm seeks to approximate the original user-item matrix\n",
        "𝑅\n",
        "R (with missing entries) by factoring it into two smaller matrices:\n",
        "\n",
        "User Latent Feature Matrix (\n",
        "𝑃\n",
        "P):\n",
        "\n",
        "Rows represent users, and columns represent latent features describing their preferences.\n",
        "Item Latent Feature Matrix (\n",
        "𝑄\n",
        "𝑇\n",
        "Q\n",
        "T\n",
        " ):\n",
        "\n",
        "Rows represent items, and columns represent latent features describing item characteristics.\n",
        "The approximation is given by:\n",
        "\n",
        "𝑅\n",
        "≈\n",
        "𝑃\n",
        "×\n",
        "𝑄\n",
        "𝑇\n",
        "R≈P×Q\n",
        "T\n",
        "\n",
        "Where:\n",
        "\n",
        "𝑃\n",
        "∈\n",
        "𝑅\n",
        "𝑚\n",
        "×\n",
        "𝑘\n",
        "P∈R\n",
        "m×k\n",
        " : User latent matrix (m = number of users, k = number of latent features).\n",
        "𝑄\n",
        "∈\n",
        "𝑅\n",
        "𝑛\n",
        "×\n",
        "𝑘\n",
        "Q∈R\n",
        "n×k\n",
        " : Item latent matrix (n = number of items, k = number of latent features).\n"
      ],
      "metadata": {
        "id": "1_TQHzGJ2yAA"
      }
    },
    {
      "cell_type": "code",
      "source": [
        "def get_top_n_for_user(predictions, user_id, n=10):\n",
        "\n",
        "    # Filter predictions for the given user ID\n",
        "    user_predictions = [(iid, est) for uid, iid, true_r, est, _ in predictions if uid == user_id]\n",
        "\n",
        "    # Sort the predictions by the estimated rating in descending order\n",
        "    user_predictions.sort(key=lambda x: x[1], reverse=True)\n",
        "\n",
        "    # Return the top-N predictions for the user\n",
        "    return user_predictions[:n]\n",
        "\n",
        "# Input user ID and number of recommendations (n)\n",
        "try:\n",
        "    user_id = int(input(\"Enter User ID: \"))\n",
        "    n = int(input(\"Enter the number of recommendations (N): \"))\n",
        "\n",
        "    # Get predictions for the specific user\n",
        "    top_recommendations = get_top_n_for_user(predictions, user_id, n)\n",
        "\n",
        "    # Print the recommendations\n",
        "    print(f\"\\nTop {n} Recommended Items for User {user_id}:\")\n",
        "    for idx, (movie_id, predicted_rating) in enumerate(top_recommendations, 1):\n",
        "        movie_name = movies.loc[movies['movie_id'] == movie_id, 'movie_title'].values[0]\n",
        "\n",
        "        print(f\"{idx}. Movie ID: {movie_id},Movie Name: {movie_name}, Predicted Rating: {predicted_rating:.2f}\")\n",
        "except ValueError:\n",
        "    print(\"Invalid input. Please enter valid integers for User ID and N.\")\n"
      ],
      "metadata": {
        "id": "So86Bezn0aJi",
        "colab": {
          "base_uri": "https://localhost:8080/"
        },
        "outputId": "59498bcb-92c9-43ea-e46e-3835f2baa52b"
      },
      "execution_count": 24,
      "outputs": [
        {
          "output_type": "stream",
          "name": "stdout",
          "text": [
            "Enter User ID: 5\n",
            "Enter the number of recommendations (N): 5\n",
            "\n",
            "Top 5 Recommended Items for User 5:\n",
            "1. Movie ID: 172,Movie Name: Empire Strikes Back, The (1980), Predicted Rating: 3.97\n",
            "2. Movie ID: 181,Movie Name: Return of the Jedi (1983), Predicted Rating: 3.82\n",
            "3. Movie ID: 144,Movie Name: Die Hard (1988), Predicted Rating: 3.80\n",
            "4. Movie ID: 135,Movie Name: 2001: A Space Odyssey (1968), Predicted Rating: 3.59\n",
            "5. Movie ID: 210,Movie Name: Indiana Jones and the Last Crusade (1989), Predicted Rating: 3.53\n"
          ]
        }
      ]
    },
    {
      "cell_type": "markdown",
      "source": [
        "**Sentiment Analysis**"
      ],
      "metadata": {
        "id": "aIbmqZqw007T"
      }
    },
    {
      "cell_type": "code",
      "source": [
        "data = pd.read_csv('u.data', delimiter='\\t', header=None, names=['user_id', 'movie_id', 'rating', 'timestamp'])"
      ],
      "metadata": {
        "id": "1klZ9D1lcAEF"
      },
      "execution_count": 26,
      "outputs": []
    },
    {
      "cell_type": "code",
      "source": [
        "df= pd.merge(movies, data, on='movie_id')"
      ],
      "metadata": {
        "id": "1FclyoYCGgCd"
      },
      "execution_count": 27,
      "outputs": []
    },
    {
      "cell_type": "code",
      "source": [
        "df['movie_title'].nunique()"
      ],
      "metadata": {
        "id": "HfdyEfmF9JIC",
        "colab": {
          "base_uri": "https://localhost:8080/"
        },
        "outputId": "be1241b2-fee4-4937-e4d0-e144dbcbd86a"
      },
      "execution_count": 28,
      "outputs": [
        {
          "output_type": "execute_result",
          "data": {
            "text/plain": [
              "1664"
            ]
          },
          "metadata": {},
          "execution_count": 28
        }
      ]
    },
    {
      "cell_type": "code",
      "source": [
        "df.shape"
      ],
      "metadata": {
        "id": "RzyrE8qn9XAV",
        "colab": {
          "base_uri": "https://localhost:8080/"
        },
        "outputId": "6ef1cb18-53a7-49e1-b44b-d546656f8810"
      },
      "execution_count": 29,
      "outputs": [
        {
          "output_type": "execute_result",
          "data": {
            "text/plain": [
              "(100000, 27)"
            ]
          },
          "metadata": {},
          "execution_count": 29
        }
      ]
    },
    {
      "cell_type": "code",
      "source": [
        "df.head()"
      ],
      "metadata": {
        "id": "ObILD5kTBP5f",
        "colab": {
          "base_uri": "https://localhost:8080/",
          "height": 359
        },
        "outputId": "8e684c2d-e2af-477e-c401-580d7d797328"
      },
      "execution_count": 30,
      "outputs": [
        {
          "output_type": "execute_result",
          "data": {
            "text/plain": [
              "   movie_id       movie_title release_date  video_release_date  \\\n",
              "0         1  Toy Story (1995)  01-Jan-1995                 NaN   \n",
              "1         1  Toy Story (1995)  01-Jan-1995                 NaN   \n",
              "2         1  Toy Story (1995)  01-Jan-1995                 NaN   \n",
              "3         1  Toy Story (1995)  01-Jan-1995                 NaN   \n",
              "4         1  Toy Story (1995)  01-Jan-1995                 NaN   \n",
              "\n",
              "                                            imdb_url  unknown  Action  \\\n",
              "0  http://us.imdb.com/M/title-exact?Toy%20Story%2...        0       0   \n",
              "1  http://us.imdb.com/M/title-exact?Toy%20Story%2...        0       0   \n",
              "2  http://us.imdb.com/M/title-exact?Toy%20Story%2...        0       0   \n",
              "3  http://us.imdb.com/M/title-exact?Toy%20Story%2...        0       0   \n",
              "4  http://us.imdb.com/M/title-exact?Toy%20Story%2...        0       0   \n",
              "\n",
              "   Adventure  Animation  Children's  ...  Musical  Mystery  Romance  Sci-Fi  \\\n",
              "0          0          1           1  ...        0        0        0       0   \n",
              "1          0          1           1  ...        0        0        0       0   \n",
              "2          0          1           1  ...        0        0        0       0   \n",
              "3          0          1           1  ...        0        0        0       0   \n",
              "4          0          1           1  ...        0        0        0       0   \n",
              "\n",
              "   Thriller  War  Western  user_id  rating  timestamp  \n",
              "0         0    0        0      308       4  887736532  \n",
              "1         0    0        0      287       5  875334088  \n",
              "2         0    0        0      148       4  877019411  \n",
              "3         0    0        0      280       4  891700426  \n",
              "4         0    0        0       66       3  883601324  \n",
              "\n",
              "[5 rows x 27 columns]"
            ],
            "text/html": [
              "\n",
              "  <div id=\"df-05e9bb47-364c-43fb-894e-574491697bcd\" class=\"colab-df-container\">\n",
              "    <div>\n",
              "<style scoped>\n",
              "    .dataframe tbody tr th:only-of-type {\n",
              "        vertical-align: middle;\n",
              "    }\n",
              "\n",
              "    .dataframe tbody tr th {\n",
              "        vertical-align: top;\n",
              "    }\n",
              "\n",
              "    .dataframe thead th {\n",
              "        text-align: right;\n",
              "    }\n",
              "</style>\n",
              "<table border=\"1\" class=\"dataframe\">\n",
              "  <thead>\n",
              "    <tr style=\"text-align: right;\">\n",
              "      <th></th>\n",
              "      <th>movie_id</th>\n",
              "      <th>movie_title</th>\n",
              "      <th>release_date</th>\n",
              "      <th>video_release_date</th>\n",
              "      <th>imdb_url</th>\n",
              "      <th>unknown</th>\n",
              "      <th>Action</th>\n",
              "      <th>Adventure</th>\n",
              "      <th>Animation</th>\n",
              "      <th>Children's</th>\n",
              "      <th>...</th>\n",
              "      <th>Musical</th>\n",
              "      <th>Mystery</th>\n",
              "      <th>Romance</th>\n",
              "      <th>Sci-Fi</th>\n",
              "      <th>Thriller</th>\n",
              "      <th>War</th>\n",
              "      <th>Western</th>\n",
              "      <th>user_id</th>\n",
              "      <th>rating</th>\n",
              "      <th>timestamp</th>\n",
              "    </tr>\n",
              "  </thead>\n",
              "  <tbody>\n",
              "    <tr>\n",
              "      <th>0</th>\n",
              "      <td>1</td>\n",
              "      <td>Toy Story (1995)</td>\n",
              "      <td>01-Jan-1995</td>\n",
              "      <td>NaN</td>\n",
              "      <td>http://us.imdb.com/M/title-exact?Toy%20Story%2...</td>\n",
              "      <td>0</td>\n",
              "      <td>0</td>\n",
              "      <td>0</td>\n",
              "      <td>1</td>\n",
              "      <td>1</td>\n",
              "      <td>...</td>\n",
              "      <td>0</td>\n",
              "      <td>0</td>\n",
              "      <td>0</td>\n",
              "      <td>0</td>\n",
              "      <td>0</td>\n",
              "      <td>0</td>\n",
              "      <td>0</td>\n",
              "      <td>308</td>\n",
              "      <td>4</td>\n",
              "      <td>887736532</td>\n",
              "    </tr>\n",
              "    <tr>\n",
              "      <th>1</th>\n",
              "      <td>1</td>\n",
              "      <td>Toy Story (1995)</td>\n",
              "      <td>01-Jan-1995</td>\n",
              "      <td>NaN</td>\n",
              "      <td>http://us.imdb.com/M/title-exact?Toy%20Story%2...</td>\n",
              "      <td>0</td>\n",
              "      <td>0</td>\n",
              "      <td>0</td>\n",
              "      <td>1</td>\n",
              "      <td>1</td>\n",
              "      <td>...</td>\n",
              "      <td>0</td>\n",
              "      <td>0</td>\n",
              "      <td>0</td>\n",
              "      <td>0</td>\n",
              "      <td>0</td>\n",
              "      <td>0</td>\n",
              "      <td>0</td>\n",
              "      <td>287</td>\n",
              "      <td>5</td>\n",
              "      <td>875334088</td>\n",
              "    </tr>\n",
              "    <tr>\n",
              "      <th>2</th>\n",
              "      <td>1</td>\n",
              "      <td>Toy Story (1995)</td>\n",
              "      <td>01-Jan-1995</td>\n",
              "      <td>NaN</td>\n",
              "      <td>http://us.imdb.com/M/title-exact?Toy%20Story%2...</td>\n",
              "      <td>0</td>\n",
              "      <td>0</td>\n",
              "      <td>0</td>\n",
              "      <td>1</td>\n",
              "      <td>1</td>\n",
              "      <td>...</td>\n",
              "      <td>0</td>\n",
              "      <td>0</td>\n",
              "      <td>0</td>\n",
              "      <td>0</td>\n",
              "      <td>0</td>\n",
              "      <td>0</td>\n",
              "      <td>0</td>\n",
              "      <td>148</td>\n",
              "      <td>4</td>\n",
              "      <td>877019411</td>\n",
              "    </tr>\n",
              "    <tr>\n",
              "      <th>3</th>\n",
              "      <td>1</td>\n",
              "      <td>Toy Story (1995)</td>\n",
              "      <td>01-Jan-1995</td>\n",
              "      <td>NaN</td>\n",
              "      <td>http://us.imdb.com/M/title-exact?Toy%20Story%2...</td>\n",
              "      <td>0</td>\n",
              "      <td>0</td>\n",
              "      <td>0</td>\n",
              "      <td>1</td>\n",
              "      <td>1</td>\n",
              "      <td>...</td>\n",
              "      <td>0</td>\n",
              "      <td>0</td>\n",
              "      <td>0</td>\n",
              "      <td>0</td>\n",
              "      <td>0</td>\n",
              "      <td>0</td>\n",
              "      <td>0</td>\n",
              "      <td>280</td>\n",
              "      <td>4</td>\n",
              "      <td>891700426</td>\n",
              "    </tr>\n",
              "    <tr>\n",
              "      <th>4</th>\n",
              "      <td>1</td>\n",
              "      <td>Toy Story (1995)</td>\n",
              "      <td>01-Jan-1995</td>\n",
              "      <td>NaN</td>\n",
              "      <td>http://us.imdb.com/M/title-exact?Toy%20Story%2...</td>\n",
              "      <td>0</td>\n",
              "      <td>0</td>\n",
              "      <td>0</td>\n",
              "      <td>1</td>\n",
              "      <td>1</td>\n",
              "      <td>...</td>\n",
              "      <td>0</td>\n",
              "      <td>0</td>\n",
              "      <td>0</td>\n",
              "      <td>0</td>\n",
              "      <td>0</td>\n",
              "      <td>0</td>\n",
              "      <td>0</td>\n",
              "      <td>66</td>\n",
              "      <td>3</td>\n",
              "      <td>883601324</td>\n",
              "    </tr>\n",
              "  </tbody>\n",
              "</table>\n",
              "<p>5 rows × 27 columns</p>\n",
              "</div>\n",
              "    <div class=\"colab-df-buttons\">\n",
              "\n",
              "  <div class=\"colab-df-container\">\n",
              "    <button class=\"colab-df-convert\" onclick=\"convertToInteractive('df-05e9bb47-364c-43fb-894e-574491697bcd')\"\n",
              "            title=\"Convert this dataframe to an interactive table.\"\n",
              "            style=\"display:none;\">\n",
              "\n",
              "  <svg xmlns=\"http://www.w3.org/2000/svg\" height=\"24px\" viewBox=\"0 -960 960 960\">\n",
              "    <path d=\"M120-120v-720h720v720H120Zm60-500h600v-160H180v160Zm220 220h160v-160H400v160Zm0 220h160v-160H400v160ZM180-400h160v-160H180v160Zm440 0h160v-160H620v160ZM180-180h160v-160H180v160Zm440 0h160v-160H620v160Z\"/>\n",
              "  </svg>\n",
              "    </button>\n",
              "\n",
              "  <style>\n",
              "    .colab-df-container {\n",
              "      display:flex;\n",
              "      gap: 12px;\n",
              "    }\n",
              "\n",
              "    .colab-df-convert {\n",
              "      background-color: #E8F0FE;\n",
              "      border: none;\n",
              "      border-radius: 50%;\n",
              "      cursor: pointer;\n",
              "      display: none;\n",
              "      fill: #1967D2;\n",
              "      height: 32px;\n",
              "      padding: 0 0 0 0;\n",
              "      width: 32px;\n",
              "    }\n",
              "\n",
              "    .colab-df-convert:hover {\n",
              "      background-color: #E2EBFA;\n",
              "      box-shadow: 0px 1px 2px rgba(60, 64, 67, 0.3), 0px 1px 3px 1px rgba(60, 64, 67, 0.15);\n",
              "      fill: #174EA6;\n",
              "    }\n",
              "\n",
              "    .colab-df-buttons div {\n",
              "      margin-bottom: 4px;\n",
              "    }\n",
              "\n",
              "    [theme=dark] .colab-df-convert {\n",
              "      background-color: #3B4455;\n",
              "      fill: #D2E3FC;\n",
              "    }\n",
              "\n",
              "    [theme=dark] .colab-df-convert:hover {\n",
              "      background-color: #434B5C;\n",
              "      box-shadow: 0px 1px 3px 1px rgba(0, 0, 0, 0.15);\n",
              "      filter: drop-shadow(0px 1px 2px rgba(0, 0, 0, 0.3));\n",
              "      fill: #FFFFFF;\n",
              "    }\n",
              "  </style>\n",
              "\n",
              "    <script>\n",
              "      const buttonEl =\n",
              "        document.querySelector('#df-05e9bb47-364c-43fb-894e-574491697bcd button.colab-df-convert');\n",
              "      buttonEl.style.display =\n",
              "        google.colab.kernel.accessAllowed ? 'block' : 'none';\n",
              "\n",
              "      async function convertToInteractive(key) {\n",
              "        const element = document.querySelector('#df-05e9bb47-364c-43fb-894e-574491697bcd');\n",
              "        const dataTable =\n",
              "          await google.colab.kernel.invokeFunction('convertToInteractive',\n",
              "                                                    [key], {});\n",
              "        if (!dataTable) return;\n",
              "\n",
              "        const docLinkHtml = 'Like what you see? Visit the ' +\n",
              "          '<a target=\"_blank\" href=https://colab.research.google.com/notebooks/data_table.ipynb>data table notebook</a>'\n",
              "          + ' to learn more about interactive tables.';\n",
              "        element.innerHTML = '';\n",
              "        dataTable['output_type'] = 'display_data';\n",
              "        await google.colab.output.renderOutput(dataTable, element);\n",
              "        const docLink = document.createElement('div');\n",
              "        docLink.innerHTML = docLinkHtml;\n",
              "        element.appendChild(docLink);\n",
              "      }\n",
              "    </script>\n",
              "  </div>\n",
              "\n",
              "\n",
              "<div id=\"df-fd4dcc6f-5a5d-44d5-aa2e-94b382cc0490\">\n",
              "  <button class=\"colab-df-quickchart\" onclick=\"quickchart('df-fd4dcc6f-5a5d-44d5-aa2e-94b382cc0490')\"\n",
              "            title=\"Suggest charts\"\n",
              "            style=\"display:none;\">\n",
              "\n",
              "<svg xmlns=\"http://www.w3.org/2000/svg\" height=\"24px\"viewBox=\"0 0 24 24\"\n",
              "     width=\"24px\">\n",
              "    <g>\n",
              "        <path d=\"M19 3H5c-1.1 0-2 .9-2 2v14c0 1.1.9 2 2 2h14c1.1 0 2-.9 2-2V5c0-1.1-.9-2-2-2zM9 17H7v-7h2v7zm4 0h-2V7h2v10zm4 0h-2v-4h2v4z\"/>\n",
              "    </g>\n",
              "</svg>\n",
              "  </button>\n",
              "\n",
              "<style>\n",
              "  .colab-df-quickchart {\n",
              "      --bg-color: #E8F0FE;\n",
              "      --fill-color: #1967D2;\n",
              "      --hover-bg-color: #E2EBFA;\n",
              "      --hover-fill-color: #174EA6;\n",
              "      --disabled-fill-color: #AAA;\n",
              "      --disabled-bg-color: #DDD;\n",
              "  }\n",
              "\n",
              "  [theme=dark] .colab-df-quickchart {\n",
              "      --bg-color: #3B4455;\n",
              "      --fill-color: #D2E3FC;\n",
              "      --hover-bg-color: #434B5C;\n",
              "      --hover-fill-color: #FFFFFF;\n",
              "      --disabled-bg-color: #3B4455;\n",
              "      --disabled-fill-color: #666;\n",
              "  }\n",
              "\n",
              "  .colab-df-quickchart {\n",
              "    background-color: var(--bg-color);\n",
              "    border: none;\n",
              "    border-radius: 50%;\n",
              "    cursor: pointer;\n",
              "    display: none;\n",
              "    fill: var(--fill-color);\n",
              "    height: 32px;\n",
              "    padding: 0;\n",
              "    width: 32px;\n",
              "  }\n",
              "\n",
              "  .colab-df-quickchart:hover {\n",
              "    background-color: var(--hover-bg-color);\n",
              "    box-shadow: 0 1px 2px rgba(60, 64, 67, 0.3), 0 1px 3px 1px rgba(60, 64, 67, 0.15);\n",
              "    fill: var(--button-hover-fill-color);\n",
              "  }\n",
              "\n",
              "  .colab-df-quickchart-complete:disabled,\n",
              "  .colab-df-quickchart-complete:disabled:hover {\n",
              "    background-color: var(--disabled-bg-color);\n",
              "    fill: var(--disabled-fill-color);\n",
              "    box-shadow: none;\n",
              "  }\n",
              "\n",
              "  .colab-df-spinner {\n",
              "    border: 2px solid var(--fill-color);\n",
              "    border-color: transparent;\n",
              "    border-bottom-color: var(--fill-color);\n",
              "    animation:\n",
              "      spin 1s steps(1) infinite;\n",
              "  }\n",
              "\n",
              "  @keyframes spin {\n",
              "    0% {\n",
              "      border-color: transparent;\n",
              "      border-bottom-color: var(--fill-color);\n",
              "      border-left-color: var(--fill-color);\n",
              "    }\n",
              "    20% {\n",
              "      border-color: transparent;\n",
              "      border-left-color: var(--fill-color);\n",
              "      border-top-color: var(--fill-color);\n",
              "    }\n",
              "    30% {\n",
              "      border-color: transparent;\n",
              "      border-left-color: var(--fill-color);\n",
              "      border-top-color: var(--fill-color);\n",
              "      border-right-color: var(--fill-color);\n",
              "    }\n",
              "    40% {\n",
              "      border-color: transparent;\n",
              "      border-right-color: var(--fill-color);\n",
              "      border-top-color: var(--fill-color);\n",
              "    }\n",
              "    60% {\n",
              "      border-color: transparent;\n",
              "      border-right-color: var(--fill-color);\n",
              "    }\n",
              "    80% {\n",
              "      border-color: transparent;\n",
              "      border-right-color: var(--fill-color);\n",
              "      border-bottom-color: var(--fill-color);\n",
              "    }\n",
              "    90% {\n",
              "      border-color: transparent;\n",
              "      border-bottom-color: var(--fill-color);\n",
              "    }\n",
              "  }\n",
              "</style>\n",
              "\n",
              "  <script>\n",
              "    async function quickchart(key) {\n",
              "      const quickchartButtonEl =\n",
              "        document.querySelector('#' + key + ' button');\n",
              "      quickchartButtonEl.disabled = true;  // To prevent multiple clicks.\n",
              "      quickchartButtonEl.classList.add('colab-df-spinner');\n",
              "      try {\n",
              "        const charts = await google.colab.kernel.invokeFunction(\n",
              "            'suggestCharts', [key], {});\n",
              "      } catch (error) {\n",
              "        console.error('Error during call to suggestCharts:', error);\n",
              "      }\n",
              "      quickchartButtonEl.classList.remove('colab-df-spinner');\n",
              "      quickchartButtonEl.classList.add('colab-df-quickchart-complete');\n",
              "    }\n",
              "    (() => {\n",
              "      let quickchartButtonEl =\n",
              "        document.querySelector('#df-fd4dcc6f-5a5d-44d5-aa2e-94b382cc0490 button');\n",
              "      quickchartButtonEl.style.display =\n",
              "        google.colab.kernel.accessAllowed ? 'block' : 'none';\n",
              "    })();\n",
              "  </script>\n",
              "</div>\n",
              "\n",
              "    </div>\n",
              "  </div>\n"
            ],
            "application/vnd.google.colaboratory.intrinsic+json": {
              "type": "dataframe",
              "variable_name": "df"
            }
          },
          "metadata": {},
          "execution_count": 30
        }
      ]
    },
    {
      "cell_type": "code",
      "source": [
        "df.to_csv('df.csv') #movies and item merged"
      ],
      "metadata": {
        "id": "c-aYIqoRFSAa"
      },
      "execution_count": 31,
      "outputs": []
    },
    {
      "cell_type": "markdown",
      "source": [
        "Sentiment Analysis using Reddit Post\n",
        "\n",
        "> Add blockquote\n",
        "\n"
      ],
      "metadata": {
        "id": "YMs49x2HAZi3"
      }
    },
    {
      "cell_type": "code",
      "source": [
        "df_reviews=pd.read_csv('reviews.csv') #reviews scraped from reddit of each movies"
      ],
      "metadata": {
        "id": "o0KQKP8DV8aa"
      },
      "execution_count": 32,
      "outputs": []
    },
    {
      "cell_type": "code",
      "source": [
        "df_reviews.columns"
      ],
      "metadata": {
        "colab": {
          "base_uri": "https://localhost:8080/"
        },
        "id": "k3fpYZaQPuNH",
        "outputId": "c5c233f7-ee78-495a-fa2b-5d46ac726312"
      },
      "execution_count": 70,
      "outputs": [
        {
          "output_type": "execute_result",
          "data": {
            "text/plain": [
              "Index(['movie_id', 'movie_title', 'review', 'preprocessed_description',\n",
              "       'polarity'],\n",
              "      dtype='object')"
            ]
          },
          "metadata": {},
          "execution_count": 70
        }
      ]
    },
    {
      "cell_type": "code",
      "source": [
        "df_reviews['movie_id'].nunique()"
      ],
      "metadata": {
        "colab": {
          "base_uri": "https://localhost:8080/"
        },
        "id": "OwfC5DZEHm5e",
        "outputId": "c8663b76-35e1-4c3f-8d17-001858c47f17"
      },
      "execution_count": 33,
      "outputs": [
        {
          "output_type": "execute_result",
          "data": {
            "text/plain": [
              "1682"
            ]
          },
          "metadata": {},
          "execution_count": 33
        }
      ]
    },
    {
      "cell_type": "code",
      "source": [
        "df_reviews.isna().sum()"
      ],
      "metadata": {
        "colab": {
          "base_uri": "https://localhost:8080/",
          "height": 178
        },
        "id": "qyMR_JtAHxh5",
        "outputId": "cfeb47ae-84b8-4937-bdf8-ad83a9fa297e"
      },
      "execution_count": 34,
      "outputs": [
        {
          "output_type": "execute_result",
          "data": {
            "text/plain": [
              "movie_id         0\n",
              "movie_title      0\n",
              "review         151\n",
              "dtype: int64"
            ],
            "text/html": [
              "<div>\n",
              "<style scoped>\n",
              "    .dataframe tbody tr th:only-of-type {\n",
              "        vertical-align: middle;\n",
              "    }\n",
              "\n",
              "    .dataframe tbody tr th {\n",
              "        vertical-align: top;\n",
              "    }\n",
              "\n",
              "    .dataframe thead th {\n",
              "        text-align: right;\n",
              "    }\n",
              "</style>\n",
              "<table border=\"1\" class=\"dataframe\">\n",
              "  <thead>\n",
              "    <tr style=\"text-align: right;\">\n",
              "      <th></th>\n",
              "      <th>0</th>\n",
              "    </tr>\n",
              "  </thead>\n",
              "  <tbody>\n",
              "    <tr>\n",
              "      <th>movie_id</th>\n",
              "      <td>0</td>\n",
              "    </tr>\n",
              "    <tr>\n",
              "      <th>movie_title</th>\n",
              "      <td>0</td>\n",
              "    </tr>\n",
              "    <tr>\n",
              "      <th>review</th>\n",
              "      <td>151</td>\n",
              "    </tr>\n",
              "  </tbody>\n",
              "</table>\n",
              "</div><br><label><b>dtype:</b> int64</label>"
            ]
          },
          "metadata": {},
          "execution_count": 34
        }
      ]
    },
    {
      "cell_type": "code",
      "source": [
        "df_reviews.sample(5)"
      ],
      "metadata": {
        "colab": {
          "base_uri": "https://localhost:8080/",
          "height": 206
        },
        "id": "SeBvoRx-M6Se",
        "outputId": "f1d96676-bd39-432b-bdd5-0ed0235a767a"
      },
      "execution_count": 35,
      "outputs": [
        {
          "output_type": "execute_result",
          "data": {
            "text/plain": [
              "      movie_id                        movie_title  \\\n",
              "4455      1007         Waiting for Guffman (1996)   \n",
              "4714      1067               Bottle Rocket (1996)   \n",
              "2404       523              Cool Hand Luke (1967)   \n",
              "6300      1511  Children of the Revolution (1996)   \n",
              "1746       380      Star Trek: Generations (1994)   \n",
              "\n",
              "                                                 review  \n",
              "4455  My Updated Movie Review ListEvery so often I p...  \n",
              "4714                               Bottle Rocket (1996)  \n",
              "2404  Using the average scores from IMDb, Rotten Tom...  \n",
              "6300  In the last 2 years I've watched 300 movies. H...  \n",
              "1746  What makes did you see in theaters as a kid?Fo...  "
            ],
            "text/html": [
              "\n",
              "  <div id=\"df-791925c8-e68d-4bc5-9b3d-5896526c7e33\" class=\"colab-df-container\">\n",
              "    <div>\n",
              "<style scoped>\n",
              "    .dataframe tbody tr th:only-of-type {\n",
              "        vertical-align: middle;\n",
              "    }\n",
              "\n",
              "    .dataframe tbody tr th {\n",
              "        vertical-align: top;\n",
              "    }\n",
              "\n",
              "    .dataframe thead th {\n",
              "        text-align: right;\n",
              "    }\n",
              "</style>\n",
              "<table border=\"1\" class=\"dataframe\">\n",
              "  <thead>\n",
              "    <tr style=\"text-align: right;\">\n",
              "      <th></th>\n",
              "      <th>movie_id</th>\n",
              "      <th>movie_title</th>\n",
              "      <th>review</th>\n",
              "    </tr>\n",
              "  </thead>\n",
              "  <tbody>\n",
              "    <tr>\n",
              "      <th>4455</th>\n",
              "      <td>1007</td>\n",
              "      <td>Waiting for Guffman (1996)</td>\n",
              "      <td>My Updated Movie Review ListEvery so often I p...</td>\n",
              "    </tr>\n",
              "    <tr>\n",
              "      <th>4714</th>\n",
              "      <td>1067</td>\n",
              "      <td>Bottle Rocket (1996)</td>\n",
              "      <td>Bottle Rocket (1996)</td>\n",
              "    </tr>\n",
              "    <tr>\n",
              "      <th>2404</th>\n",
              "      <td>523</td>\n",
              "      <td>Cool Hand Luke (1967)</td>\n",
              "      <td>Using the average scores from IMDb, Rotten Tom...</td>\n",
              "    </tr>\n",
              "    <tr>\n",
              "      <th>6300</th>\n",
              "      <td>1511</td>\n",
              "      <td>Children of the Revolution (1996)</td>\n",
              "      <td>In the last 2 years I've watched 300 movies. H...</td>\n",
              "    </tr>\n",
              "    <tr>\n",
              "      <th>1746</th>\n",
              "      <td>380</td>\n",
              "      <td>Star Trek: Generations (1994)</td>\n",
              "      <td>What makes did you see in theaters as a kid?Fo...</td>\n",
              "    </tr>\n",
              "  </tbody>\n",
              "</table>\n",
              "</div>\n",
              "    <div class=\"colab-df-buttons\">\n",
              "\n",
              "  <div class=\"colab-df-container\">\n",
              "    <button class=\"colab-df-convert\" onclick=\"convertToInteractive('df-791925c8-e68d-4bc5-9b3d-5896526c7e33')\"\n",
              "            title=\"Convert this dataframe to an interactive table.\"\n",
              "            style=\"display:none;\">\n",
              "\n",
              "  <svg xmlns=\"http://www.w3.org/2000/svg\" height=\"24px\" viewBox=\"0 -960 960 960\">\n",
              "    <path d=\"M120-120v-720h720v720H120Zm60-500h600v-160H180v160Zm220 220h160v-160H400v160Zm0 220h160v-160H400v160ZM180-400h160v-160H180v160Zm440 0h160v-160H620v160ZM180-180h160v-160H180v160Zm440 0h160v-160H620v160Z\"/>\n",
              "  </svg>\n",
              "    </button>\n",
              "\n",
              "  <style>\n",
              "    .colab-df-container {\n",
              "      display:flex;\n",
              "      gap: 12px;\n",
              "    }\n",
              "\n",
              "    .colab-df-convert {\n",
              "      background-color: #E8F0FE;\n",
              "      border: none;\n",
              "      border-radius: 50%;\n",
              "      cursor: pointer;\n",
              "      display: none;\n",
              "      fill: #1967D2;\n",
              "      height: 32px;\n",
              "      padding: 0 0 0 0;\n",
              "      width: 32px;\n",
              "    }\n",
              "\n",
              "    .colab-df-convert:hover {\n",
              "      background-color: #E2EBFA;\n",
              "      box-shadow: 0px 1px 2px rgba(60, 64, 67, 0.3), 0px 1px 3px 1px rgba(60, 64, 67, 0.15);\n",
              "      fill: #174EA6;\n",
              "    }\n",
              "\n",
              "    .colab-df-buttons div {\n",
              "      margin-bottom: 4px;\n",
              "    }\n",
              "\n",
              "    [theme=dark] .colab-df-convert {\n",
              "      background-color: #3B4455;\n",
              "      fill: #D2E3FC;\n",
              "    }\n",
              "\n",
              "    [theme=dark] .colab-df-convert:hover {\n",
              "      background-color: #434B5C;\n",
              "      box-shadow: 0px 1px 3px 1px rgba(0, 0, 0, 0.15);\n",
              "      filter: drop-shadow(0px 1px 2px rgba(0, 0, 0, 0.3));\n",
              "      fill: #FFFFFF;\n",
              "    }\n",
              "  </style>\n",
              "\n",
              "    <script>\n",
              "      const buttonEl =\n",
              "        document.querySelector('#df-791925c8-e68d-4bc5-9b3d-5896526c7e33 button.colab-df-convert');\n",
              "      buttonEl.style.display =\n",
              "        google.colab.kernel.accessAllowed ? 'block' : 'none';\n",
              "\n",
              "      async function convertToInteractive(key) {\n",
              "        const element = document.querySelector('#df-791925c8-e68d-4bc5-9b3d-5896526c7e33');\n",
              "        const dataTable =\n",
              "          await google.colab.kernel.invokeFunction('convertToInteractive',\n",
              "                                                    [key], {});\n",
              "        if (!dataTable) return;\n",
              "\n",
              "        const docLinkHtml = 'Like what you see? Visit the ' +\n",
              "          '<a target=\"_blank\" href=https://colab.research.google.com/notebooks/data_table.ipynb>data table notebook</a>'\n",
              "          + ' to learn more about interactive tables.';\n",
              "        element.innerHTML = '';\n",
              "        dataTable['output_type'] = 'display_data';\n",
              "        await google.colab.output.renderOutput(dataTable, element);\n",
              "        const docLink = document.createElement('div');\n",
              "        docLink.innerHTML = docLinkHtml;\n",
              "        element.appendChild(docLink);\n",
              "      }\n",
              "    </script>\n",
              "  </div>\n",
              "\n",
              "\n",
              "<div id=\"df-f3e683bb-dc83-4c9e-b064-16b75b2c5426\">\n",
              "  <button class=\"colab-df-quickchart\" onclick=\"quickchart('df-f3e683bb-dc83-4c9e-b064-16b75b2c5426')\"\n",
              "            title=\"Suggest charts\"\n",
              "            style=\"display:none;\">\n",
              "\n",
              "<svg xmlns=\"http://www.w3.org/2000/svg\" height=\"24px\"viewBox=\"0 0 24 24\"\n",
              "     width=\"24px\">\n",
              "    <g>\n",
              "        <path d=\"M19 3H5c-1.1 0-2 .9-2 2v14c0 1.1.9 2 2 2h14c1.1 0 2-.9 2-2V5c0-1.1-.9-2-2-2zM9 17H7v-7h2v7zm4 0h-2V7h2v10zm4 0h-2v-4h2v4z\"/>\n",
              "    </g>\n",
              "</svg>\n",
              "  </button>\n",
              "\n",
              "<style>\n",
              "  .colab-df-quickchart {\n",
              "      --bg-color: #E8F0FE;\n",
              "      --fill-color: #1967D2;\n",
              "      --hover-bg-color: #E2EBFA;\n",
              "      --hover-fill-color: #174EA6;\n",
              "      --disabled-fill-color: #AAA;\n",
              "      --disabled-bg-color: #DDD;\n",
              "  }\n",
              "\n",
              "  [theme=dark] .colab-df-quickchart {\n",
              "      --bg-color: #3B4455;\n",
              "      --fill-color: #D2E3FC;\n",
              "      --hover-bg-color: #434B5C;\n",
              "      --hover-fill-color: #FFFFFF;\n",
              "      --disabled-bg-color: #3B4455;\n",
              "      --disabled-fill-color: #666;\n",
              "  }\n",
              "\n",
              "  .colab-df-quickchart {\n",
              "    background-color: var(--bg-color);\n",
              "    border: none;\n",
              "    border-radius: 50%;\n",
              "    cursor: pointer;\n",
              "    display: none;\n",
              "    fill: var(--fill-color);\n",
              "    height: 32px;\n",
              "    padding: 0;\n",
              "    width: 32px;\n",
              "  }\n",
              "\n",
              "  .colab-df-quickchart:hover {\n",
              "    background-color: var(--hover-bg-color);\n",
              "    box-shadow: 0 1px 2px rgba(60, 64, 67, 0.3), 0 1px 3px 1px rgba(60, 64, 67, 0.15);\n",
              "    fill: var(--button-hover-fill-color);\n",
              "  }\n",
              "\n",
              "  .colab-df-quickchart-complete:disabled,\n",
              "  .colab-df-quickchart-complete:disabled:hover {\n",
              "    background-color: var(--disabled-bg-color);\n",
              "    fill: var(--disabled-fill-color);\n",
              "    box-shadow: none;\n",
              "  }\n",
              "\n",
              "  .colab-df-spinner {\n",
              "    border: 2px solid var(--fill-color);\n",
              "    border-color: transparent;\n",
              "    border-bottom-color: var(--fill-color);\n",
              "    animation:\n",
              "      spin 1s steps(1) infinite;\n",
              "  }\n",
              "\n",
              "  @keyframes spin {\n",
              "    0% {\n",
              "      border-color: transparent;\n",
              "      border-bottom-color: var(--fill-color);\n",
              "      border-left-color: var(--fill-color);\n",
              "    }\n",
              "    20% {\n",
              "      border-color: transparent;\n",
              "      border-left-color: var(--fill-color);\n",
              "      border-top-color: var(--fill-color);\n",
              "    }\n",
              "    30% {\n",
              "      border-color: transparent;\n",
              "      border-left-color: var(--fill-color);\n",
              "      border-top-color: var(--fill-color);\n",
              "      border-right-color: var(--fill-color);\n",
              "    }\n",
              "    40% {\n",
              "      border-color: transparent;\n",
              "      border-right-color: var(--fill-color);\n",
              "      border-top-color: var(--fill-color);\n",
              "    }\n",
              "    60% {\n",
              "      border-color: transparent;\n",
              "      border-right-color: var(--fill-color);\n",
              "    }\n",
              "    80% {\n",
              "      border-color: transparent;\n",
              "      border-right-color: var(--fill-color);\n",
              "      border-bottom-color: var(--fill-color);\n",
              "    }\n",
              "    90% {\n",
              "      border-color: transparent;\n",
              "      border-bottom-color: var(--fill-color);\n",
              "    }\n",
              "  }\n",
              "</style>\n",
              "\n",
              "  <script>\n",
              "    async function quickchart(key) {\n",
              "      const quickchartButtonEl =\n",
              "        document.querySelector('#' + key + ' button');\n",
              "      quickchartButtonEl.disabled = true;  // To prevent multiple clicks.\n",
              "      quickchartButtonEl.classList.add('colab-df-spinner');\n",
              "      try {\n",
              "        const charts = await google.colab.kernel.invokeFunction(\n",
              "            'suggestCharts', [key], {});\n",
              "      } catch (error) {\n",
              "        console.error('Error during call to suggestCharts:', error);\n",
              "      }\n",
              "      quickchartButtonEl.classList.remove('colab-df-spinner');\n",
              "      quickchartButtonEl.classList.add('colab-df-quickchart-complete');\n",
              "    }\n",
              "    (() => {\n",
              "      let quickchartButtonEl =\n",
              "        document.querySelector('#df-f3e683bb-dc83-4c9e-b064-16b75b2c5426 button');\n",
              "      quickchartButtonEl.style.display =\n",
              "        google.colab.kernel.accessAllowed ? 'block' : 'none';\n",
              "    })();\n",
              "  </script>\n",
              "</div>\n",
              "\n",
              "    </div>\n",
              "  </div>\n"
            ],
            "application/vnd.google.colaboratory.intrinsic+json": {
              "type": "dataframe",
              "summary": "{\n  \"name\": \"df_reviews\",\n  \"rows\": 5,\n  \"fields\": [\n    {\n      \"column\": \"movie_id\",\n      \"properties\": {\n        \"dtype\": \"number\",\n        \"std\": 454,\n        \"min\": 380,\n        \"max\": 1511,\n        \"num_unique_values\": 5,\n        \"samples\": [\n          1067,\n          380,\n          523\n        ],\n        \"semantic_type\": \"\",\n        \"description\": \"\"\n      }\n    },\n    {\n      \"column\": \"movie_title\",\n      \"properties\": {\n        \"dtype\": \"string\",\n        \"num_unique_values\": 5,\n        \"samples\": [\n          \"Bottle Rocket (1996)\",\n          \"Star Trek: Generations (1994)\",\n          \"Cool Hand Luke (1967)\"\n        ],\n        \"semantic_type\": \"\",\n        \"description\": \"\"\n      }\n    },\n    {\n      \"column\": \"review\",\n      \"properties\": {\n        \"dtype\": \"string\",\n        \"num_unique_values\": 5,\n        \"samples\": [\n          \"Bottle Rocket (1996)\",\n          \"What makes did you see in theaters as a kid?For me from ages 3 to 12\\n\\nThe Black Cauldron (at age 3 being the first movie i ever saw in theaters), Ghostbusters 85 re-issue, Gremlins 85 re-issue, Godzilla 1985 aka Return of godzilla, 101 Dalmatians 85 re-issueRocky IV, Hey There, it's Yogi Bear 1986 re-issue, Sleeping Beauty 1986 re-issue, Top Gun (on my 4th birthday), The Karate Kid part 2 (saw the first 3 days before seeing the second in theaters)Labyrinth, Short Circuit, The Great Mouse Detective (saw it in both 86 and 1992 releases at ages 4 and 10 as i saw the first release 3 times and second release 2 times), Big Trouble in Little China, Howard The Duck, One Crazy Summer with Transformers The Movie (on the same day with my 10 year old brother), Stand by Me.\\n\\nMaking Contact aka Joey, Link, Crocodile Dundee, An American Tail (3 times), Lady and the Tramp 1986 re-issue (2 times), Little Shop of Horrors, Three Amigos,  Star Trek 4, Song of the South 86 re-issue, The Golden Child, Critical Condition, Lethal Weapon, Raising Arizona, The Gate, Creepshow 2 (saw the first one on video with my family 3 months prior to the sequel's theatrical release), The Chipmunk Adventure,  Over the Top, Ernest goes to Camp, Aristocats 87 re-issue (2 times), Witches of Eastwick,  Harry and the Hendersons (twice), Predator (on my 5th birthday after my family and i had my birthday party at a local city showbiz and went to see the movie at a theater),  La Bamba, Adventures  in Babysitting, Police Academy 4,  Born in East LA, Dragnet, Roxanne, The Living Daylights, Snow White 87 re-issue (3 times), Innerspace, Robocop, Beverly Hills Cop 2 (saw the first on video with my family 2 months before the sequel's release), Spaceballs, The Lost Boys, Jaws the revenge (saw the first Jaws on HBO in June 35 years ago even Jaws 2 on TV when Jaws revenge came out), Superman 4,  The Garbage Pail Kids movie, Benji the hunted,  The Monster Squad (twice), Masters of the Universe, Near Dark, House 2 (saw the first movie with my family on HBO 4 months prior to House 2's theatrical release), Hellraiser, Prince of Darkness,  The Princess Bride, Cinderella 87 re-issue, The Running Man, Throw Mama from the Train, 3 men and a baby, Planes Trains and Automobiles, Good Morning Vietnam, Overboard, Pinocchio and the Emperor of the Night, Return of the Living Dead part 2 (saw the first on HBO with my 10 year old brother a year before the sequel got released in theaters), Bloodsport, Above the Law.\\n\\nBeetlejuice (twice), Fox and The Hound 88 re-issue (2 times), Dead Heat, Critters 2 (saw the first on HBO the previous year), Colors, Action Jackson,  Lady in White, Red Heat,  Rambo III (saw the first 2 on HBO at age 4 with my family), Shakedown, Willow (3 times), Crocodile Dundee 2, Funny Farm, Monkey Shines,  Friday The 13th part 6 (I saw the first 4 on USA Network at age 5 even saw parts 5 and 6 on video with my brother at that age), Die Hard, The Bear, The Blob, Phantasm 2 (saw the first one on video with my brother and dad the previous year), The Great Outdoors (on my 6th birthday), Coming to America, Who Framed Roger Rabbit (4 times), A Nightmare on Elm Street 4 (saw the first 2 on HBO the previous year with my family and saw part 3 on video the previous year too with my family too), License to Drive, Young Guns, Mac and Me, Vice Versa, Alien Nation, Cocoon the Return, Short Circuit 2, Bambi 88 re-issue (2 times), They Live, Halloween 4 (saw the first 3 movies on video with my dad and brother the previous year), Child's Play, They Live, Twins, Ernest Saves Christmas (twice), Hellbound Hellraiser 2, The Land Before Time (3 times with first being on a field trip), Oliver and Company (3 times), Naked Gun, Major League, The Fly 2 (saw the first remake on HBO at age 5 with my family), The Rescuers 1989 re-issue (3 times), Lean on Me, Renegade, DeepStar Six, Bill and Ted's Excellent Adventure (twice), Leviathan, Pet Sematary, Indiana Jones and The Last Crusade (2 times),  Karate Kid 3, Batman (4 times), Honey I Shrunk the Kids (twice), Lethal Weapon 2, Cyborg, Ghostbusters 2 (twice as first was on my 7th birthday), Road House, UHF, Lockup, Little Monsters, The Abyss, Milo and Otis, Uncle Buck, See no Evil Hear no Evil, Star Trek 5, Look Who's Talking, Friday The 13th part 8, Elm Street 5, Halloween 5, Turner and Hooch, Weekend at Bernies, Parenthood, Peter Pan 89 re-issue (2 times), Shocker, All Dogs Go to Heaven, Little Mermaid (twice), Back to the Future 2 (twice), The Wizard, Christmas Vacation (twice), Tango and Cash.\\n\\nLeatherface: Texas Chainsaw Massacre 3 (saw the first 2 on video at age 6 with my dad and brother), Teenage Mutant Ninja Turtles (3 times), Tremors, Nightbreed, Hard to Kill, House party, Ernest goes to Jail,  Hunt for Red October, Tales from the Darkside the movie, Bird on a Wire, Back to the Future 3 (twice), Dick Tracy, Another 48 Hours, Total Recall (on my 8th birthday after we had my birthday party), Gremlins 2 (2 times), Jungle Book 1990 re-issue (twice), Fantasia 1990 re-issue (2 times), The Exorcist 3 (saw the first on TV at age 6), Robocop 2, Days of Thunder, Jetsons the movie, Ghost, Die Hard 2, Archnophobia, Problem Child, Flatliners, Darkman, The Witches, Marked for Death, Night of the Living Dead remake, Graveyard Shift, Child's Play 2, Ducktales the movie (2 times), Rescuers down Under (2 times), Home Alone (3 times even on a field trip), Predator 2, Misery, Edward Scissorhands (twice), Kindergarten Cop, Silence of the Lambs, The Hard Way, New Jack City, Teenage Mutant Ninja Turtles 2, Out for Justice, Drop Dead Fred, Oscar, Toy Soldiers, What about Bob?, Backdraft, Hudson Hawk, Thelma and Louise, City Slickers, Don't Tell Mom the Babysitter's Dead (i just turned 9), Robin Hood Prince of Thieves, Naked Gun 2, The Rocketeer, Problem Child 2, Terminator 2 (saw first movie on ABC at age 5), 101 Dalmatians 1991 re-issue (twice), Boyz in the Hood, Point Break, Bill and Ted's Bogus Journey (2 times),  Hot Shots, Body Parts,  Doc Hollywood, Double Impact, Warlock,  Child's Play 3, Freddy's Dead The Final Nightmare (in 3D), Ernest Scared Stupid, The People under the Stairs, Beauty and the Beast (3 times even on a field trip), American Tail Fievel Goes West, Cape Fear, The Addams Family, Star Trek 6, The Last Boyscout.\\n\\n&#x200B;\\n\\nThe Great Mouse Detective 92 re-issue (2 times), Wayne's World, Memoirs of an Invisible Man, Lawnmower Man, My Cousin Vinny, White Men Can't Jump, Ferngully The Last Rainforest (on a field trip), Rock a Doodle, Sleepwalkers, Lethal Weapon 3, Alien 3 (saw the first 2 Alien movies on HBO at age 5), Encino Man, Sister Act, Patriot Games, Batman Returns (3 times as i turned 10), Pinocchio re-issue (2 times), A League of their Own, Boomerang, Universal Soldier, Honey i Blew up the Kid, Death Becomes Her, 3 Ninjas, Raising Cane, Stay Tuned, Little Nemo Adventures in Slumberland, Rapid Fire, Pet Sematary 2, Captain Ron, Last of the Mohicans, The Mighty Ducks (2 times), Candyman, Under Siege, Dr Giggles, Passenger 57, Bram Stoker's Dracula, Aladdin (3 times even on a field trip), Home Alone 2 (2 times), Muppets Christmas Carol (twice), Toys, Leprechaun, Loaded Weapon 1, Groundhog Day, Army of Darkness, Ninja Turtles 3, The Adventures of Huck Finn, The Sandlot (twice), The Dark Half, Dave, Dragon The Bruce Lee Story, Hot Shots Part Deux (twice), Cliffhanger, Super Mario Brothers, Jurassic Park (saw it first time when my truck driving dad took me to California to Disneyland and Universal as we saw it at Universal City at night and i saw it 2 more times in my city as i just turned 11), Last Action Hero, Dennis the Menace, Snow White 93 re-issue (twice),  In the Line of Fire, Son-in-Law, Free Willy, Coneheads, Rising Sun, Hocus Pocus, So I Married an Axe Murderer, The Fugitive, Searching for Bobby Fisher, Jason Goes to Hell the Final Friday, Hard Target, Surf Ninjas, The Good Son, Cool Runnings, Demolition Man, The Beverly Hillbillies, The Nightmare Before Christmas (3 times), Robocop 3, The Three Musketeers, Addams Family Values (twice), Mrs Doubtfire (3 times even first time on a field trip), Batman Mask of the Phantasm, Wayne's World 2, Sister Act 2, Tombstone.\\n\\nAce Ventura, Blank Check, Naked Gun 3 1/2 the Final Insult, D2 The Mighty Ducks 2, Brainscan, PCU, The Crow, Maverick, Beverly Hills Cop 3, The Flintstones, Speed, Wolf (on my 12th birthday), The Lion King (4 times), The Shadow, Forrest Gump, True Lies, Angels in the Outfield, The Mask (twice), Clear and Present Danger, The Little Rascals, Airheads, In The Army Now, The Next Karate Kid, Timecop, Quiz Show, Pulp Fiction, The Shawshank Redemption, Ed Wood, Clerks, Wes Craven's New Nightmare, Stargate, Interview with the Vampire, The Santa Clause, Miracle on 34th Street 1994, Leon The Professional, Star Trek Generations, Junior, The Pagemaster, Dumb and Dumber, Street Fighter and Jungle Book 1994.\",\n          \"Using the average scores from IMDb, Rotten Tomatoes (Critic & Users), Metacritic (Critic & Users) and Letterboxd, as well as data from iCheckMovies and IMDb, I was able to come up with the 1001 GREATEST MOVIES OF ALL TIME.**AFTER RECEIVING ENORMOUS AMOUNTS OF FEEDBACK, I HAVE CHOSEN TO UPDATE THE BELOW LIST. YOU CAN FIND THE CHANGES (AND REASONING)** [HERE](https://www.reddit.com/r/movies/comments/3hbiio/update_1001_greatest_movies_of_all_time_plus/)\\n\\n\\nSo over the past few months I have been carefully creating a system using the most popular movie rating systems available online, as well as general movie data, to determine the greatest movies of all time.  \\n  \\nI started off by gathering ratings from **IMDB (User/Critic Average), Rotten Tomatoes (Tomatometer, Critic Average, Audience Score, User Average), Metacritic (Critic Average, User Average) and Letterboxd (User Average).** I was then able to determine a rating (out of 10) for each individual rating and therefore come up with an average rating for each site. Each site\\u2019s average rating was then weighted fairly so that no site\\u2019s ratings were favored above the rest.  \\nThe next step was to make sure that each film was treated fairly. Other top movie list\\u2019s like IMDb\\u2019s Top 250 removes films that have under a certain viewing number (25,000 I think), but rather than ruling out films that may have been overlooked by the general audience (especially older films), I opted to alter these films score by carefully deducting points depending on how many people have seen it, and therefore voted on it. I also thought it was needed to make sure that recent films (released within the past 36 months) were also not favored, as it usually takes 3 years for the average rating to settle down. So I also added a deduction to these films that fell under this rule.  \\n  \\nThis process took a lot of tweaking to get right, but I am more than happy with the final result. Hopefully you all are to.  \\n  \\n***NOTE:*** As I went over Reddit\\u2019s maximum character limit trying to show you the full 1001 movie list, I have opted to show you the first 250 movies.   \\n\\n**You can find the full 1001 Movie list in the following online lists, as well as a list outlining the available films on NETFLIX (US):** \\n \\n[iCheckMovies: 1001 Greatest Movies of All Time](https://www.icheckmovies.com/lists/top10ners+1001+greatest+movies+of+all+time/top10ner/)  \\n[Letterboxd: 1001 Greatest Movies of All Time](http://letterboxd.com/top10ner/list/top10ners-1001-greatest-movies-of-all-time/)  \\n[IMDb: 1001 Greatest Movies of All Time](http://www.imdb.com/list/ls074674014/)  \\n  \\n**ANYWAY, without further ado, I present you the 250(of 1001) Greatest Movies of All Time:**\\n\\nRank | Title | Year | Director |\\n---|---|----|----|----\\n1\\t|\\tThe Godfather\\t|\\t1972\\t|\\tFrancis Ford Coppola\\n2\\t|\\tSeven Samurai\\t|\\t1954\\t|\\tAkira Kurosawa\\n3\\t|\\tThe Godfather: Part II\\t|\\t1974\\t|\\tFrancis Ford Coppola\\n4\\t|\\tPulp Fiction\\t|\\t1994\\t|\\tQuentin Tarantino\\n5\\t|\\t12 Angry Men\\t|\\t1957\\t|\\tSidney Lumet\\n6\\t|\\tThe Good, the Bad and the Ugly\\t|\\t1966\\t|\\tSergio Leone\\n7\\t|\\tThe Shawshank Redemption\\t|\\t1994\\t|\\tFrank Darabont\\n8\\t|\\tSunset Blvd.\\t|\\t1950\\t|\\tBilly Wilder\\n9\\t|\\tSchindler's List\\t|\\t1993\\t|\\tSteven Spielberg\\n10\\t|\\tSpirited Away\\t|\\t2001\\t|\\tHayao Miyazaki\\n11\\t|\\tModern Times\\t|\\t1936\\t|\\tCharlie Chaplin\\n12\\t|\\tCity Lights\\t|\\t1931\\t|\\tCharles Chaplin\\n13\\t|\\tGoodfellas\\t|\\t1990\\t|\\tMartin Scorsese\\n14\\t|\\tM\\t|\\t1931\\t|\\tFritz Lang\\n15\\t|\\tDr. Strangelove or: How I Learned to Stop Worrying and Love the Bomb\\t|\\t1964\\t|\\tStanley Kubrick\\n16\\t|\\tOnce Upon a Time in the West\\t|\\t1968\\t|\\tSergio Leone\\n17\\t|\\tLawrence of Arabia\\t|\\t1962\\t|\\tDavid Lean\\n18\\t|\\tRear Window\\t|\\t1954\\t|\\tAlfred Hitchcock\\n19\\t|\\tThe Dark Knight\\t|\\t2008\\t|\\tChristopher Nolan\\n20\\t|\\tStar Wars: Episode V - The Empire Strikes Back\\t|\\t1980\\t|\\tIrvin Kershner\\n21\\t|\\tCasablanca\\t|\\t1942\\t|\\tMichael Curtiz\\n22\\t|\\tApocalypse Now\\t|\\t1979\\t|\\tFrancis Coppola\\n23\\t|\\tOne Flew Over the Cuckoo's Nest\\t|\\t1975\\t|\\tMilos Forman\\n24\\t|\\tRashomon\\t|\\t1950\\t|\\tAkira Kurosawa\\n25\\t|\\tTaxi Driver\\t|\\t1976\\t|\\tMartin Scorsese\\n26\\t|\\tA Separation\\t|\\t2011\\t|\\tAsghar Farhadi\\n27\\t|\\tThe 400 Blows\\t|\\t1959\\t|\\tFran\\u00c3\\u00a7ois Truffaut\\n28\\t|\\tThe Third Man\\t|\\t1949\\t|\\tCarol Reed\\n29\\t|\\tPaths of Glory\\t|\\t1957\\t|\\tStanley Kubrick\\n30\\t|\\tBicycle Thieves\\t|\\t1948\\t|\\tVittorio De Sica\\n31\\t|\\tGrave of the Fireflies\\t|\\t1988\\t|\\tIsao Takahata\\n32\\t|\\tRaiders of the Lost Ark\\t|\\t1981\\t|\\tSteven Spielberg\\n33\\t|\\tIkiru\\t|\\t1952\\t|\\tAkira Kurosawa\\n34\\t|\\tCitizen Kane\\t|\\t1941\\t|\\tOrson Welles\\n35\\t|\\tPersona\\t|\\t1966\\t|\\tIngmar Bergman\\n36\\t|\\tChinatown\\t|\\t1974\\t|\\tRoman Polanski\\n37\\t|\\tThe Night of the Hunter\\t|\\t1955\\t|\\tCharles Laughton\\n38\\t|\\tYojimbo\\t|\\t1961\\t|\\tAkira Kurosawa\\n39\\t|\\tDouble Indemnity\\t|\\t1944\\t|\\tBilly Wilder\\n40\\t|\\tPsycho\\t|\\t1960\\t|\\tAlfred Hitchcock\\n41\\t|\\tVertigo\\t|\\t1958\\t|\\tAlfred Hitchcock\\n42\\t|\\tStalker\\t|\\t1979\\t|\\tAndrey Tarkovskiy\\n43\\t|\\tSingin' in the Rain\\t|\\t1952\\t|\\tStanley Donen, Gene Kelly\\n44\\t|\\tMetropolis\\t|\\t1927\\t|\\tFritz Lang\\n45\\t|\\tAll About Eve\\t|\\t1950\\t|\\tJoseph L. Mankiewicz\\n46\\t|\\tOn the Waterfront\\t|\\t1954\\t|\\tElia Kazan\\n47\\t|\\tRan\\t|\\t1985\\t|\\tAkira Kurosawa\\n48\\t|\\tFanny and Alexander\\t|\\t1982\\t|\\tIngmar Bergman\\n49\\t|\\tCity of God\\t|\\t2002\\t|\\tFernando Meirelles, K\\u00c3\\u00a1tia Lund\\n50\\t|\\tIt's a Wonderful Life\\t|\\t1946\\t|\\tFrank Capra\\n51\\t|\\tThe Lord of the Rings: The Fellowship of the Ring\\t|\\t2001\\t|\\tPeter Jackson\\n52\\t|\\tThe Lord of the Rings: The Two Towers\\t|\\t2002\\t|\\tPeter Jackson\\n53\\t|\\tToy Story 3\\t|\\t2010\\t|\\tLee Unkrich\\n54\\t|\\tNorth by Northwest\\t|\\t1959\\t|\\tAlfred Hitchcock\\n55\\t|\\tStar Wars: Episode IV - A New Hope\\t|\\t1977\\t|\\tGeorge Lucas\\n56\\t|\\tThe Seventh Seal\\t|\\t1957\\t|\\tIngmar Bergman\\n57\\t|\\tThe Lives of Others\\t|\\t2006\\t|\\tFlorian Henckel von Donnersmarck\\n58\\t|\\tThe Lord of the Rings: The Return of the King\\t|\\t2003\\t|\\tPeter Jackson\\n59\\t|\\tWild Strawberries\\t|\\t1957\\t|\\tIngmar Bergman\\n60\\t|\\tRaging Bull\\t|\\t1980\\t|\\tMartin Scorsese\\n61\\t|\\tThe Treasure of the Sierra Madre\\t|\\t1948\\t|\\tJohn Huston\\n62\\t|\\tAlien\\t|\\t1979\\t|\\tRidley Scott\\n63\\t|\\tEternal Sunshine of the Spotless Mind\\t|\\t2004\\t|\\tMichel Gondry\\n64\\t|\\tThree Colors: Red\\t|\\t1994\\t|\\tKrzysztof Kieslowski\\n65\\t|\\tThe Apartment\\t|\\t1960\\t|\\tBilly Wilder\\n66\\t|\\tThe Wages of Fear\\t|\\t1953\\t|\\tHenri-Georges Clouzot\\n67\\t|\\tThe Silence of the Lambs\\t|\\t1991\\t|\\tJonathan Demme\\n68\\t|\\tThe Great Dictator\\t|\\t1940\\t|\\tCharles Chaplin\\n69\\t|\\tWALL\\u00b7E\\t|\\t2008\\t|\\tAndrew Stanton\\n70\\t|\\tToy Story\\t|\\t1995\\t|\\tJohn Lasseter\\n71\\t|\\tWhiplash\\t|\\t2014\\t|\\tDamien Chazelle\\n72\\t|\\tThe Kid\\t|\\t1921\\t|\\tCharlie Chaplin\\n73\\t|\\tDas Boot\\t|\\t1981\\t|\\tWolfgang Petersen\\n74\\t|\\tBack to the Future\\t|\\t1985\\t|\\tRobert Zemeckis\\n75\\t|\\tPan's Labyrinth\\t|\\t2006\\t|\\tGuillermo del Toro\\n76\\t|\\t2001: A Space Odyssey\\t|\\t1968\\t|\\tStanley Kubrick\\n77\\t|\\tMonty Python and the Holy Grail\\t|\\t1975\\t|\\tTerry Gilliam, Terry Jones\\n78\\t|\\tWitness for the Prosecution\\t|\\t1957\\t|\\tBilly Wilder\\n79\\t|\\t8\\u00bd\\t|\\t1963\\t|\\tFederico Fellini\\n80\\t|\\tCinema Paradiso\\t|\\t1988\\t|\\tGiuseppe Tornatore\\n81\\t|\\tThe General\\t|\\t1926\\t|\\tClyde Bruckman, Buster Keaton\\n82\\t|\\tTokyo Story\\t|\\t1953\\t|\\tYasujir\\u00f4 Ozu\\n83\\t|\\tAliens\\t|\\t1986\\t|\\tJames Cameron\\n84\\t|\\tThe Shining\\t|\\t1980\\t|\\tStanley Kubrick\\n85\\t|\\tThe Battle of Algiers\\t|\\t1966\\t|\\tGillo Pontecorvo\\n86\\t|\\tAmadeus\\t|\\t1984\\t|\\tMilos Forman\\n87\\t|\\tThe Gold Rush\\t|\\t1925\\t|\\tCharles Chaplin\\n88\\t|\\tSaving Private Ryan\\t|\\t1998\\t|\\tSteven Spielberg\\n89\\t|\\tSome Like It Hot\\t|\\t1959\\t|\\tBilly Wilder\\n90\\t|\\tIt Happened One Night\\t|\\t1934\\t|\\tFrank Capra\\n91\\t|\\tTouch of Evil\\t|\\t1958\\t|\\tOrson Welles\\n92\\t|\\tMy Neighbor Totoro\\t|\\t1988\\t|\\tHayao Miyazaki\\n93\\t|\\tAnnie Hall\\t|\\t1977\\t|\\tWoody Allen\\n94\\t|\\tL.A. Confidential\\t|\\t1997\\t|\\tCurtis Hanson\\n95\\t|\\tLa Dolce Vita\\t|\\t1960\\t|\\tFederico Fellini\\n96\\t|\\tParis, Texas\\t|\\t1984\\t|\\tWim Wenders\\n97\\t|\\tReservoir Dogs\\t|\\t1992\\t|\\tQuentin Tarantino\\n98\\t|\\tFight Club\\t|\\t1999\\t|\\tDavid Fincher\\n99\\t|\\tWings of Desire\\t|\\t1987\\t|\\tWim Wenders\\n100\\t|\\tThe Bridge on the River Kwai\\t|\\t1957\\t|\\tDavid Lean\\n101\\t|\\tCool Hand Luke\\t|\\t1967\\t|\\tStuart Rosenberg\\n102\\t|\\tIn the Mood for Love\\t|\\t2000\\t|\\tKar Wai Wong\\n103\\t|\\tSunrise\\t|\\t1927\\t|\\tF.W. Murnau\\n104\\t|\\tBefore Sunset\\t|\\t2004\\t|\\tRichard Linklater\\n105\\t|\\tBefore Sunrise\\t|\\t1995\\t|\\tRichard Linklater\\n106\\t|\\tLa Haine\\t|\\t1995\\t|\\tMathieu Kassovitz\\n107\\t|\\tThe Pianist\\t|\\t2002\\t|\\tRoman Polanski\\n108\\t|\\tHarakiri\\t|\\t1962\\t|\\tMasaki Kobayashi\\n109\\t|\\tMemento\\t|\\t2000\\t|\\tChristopher Nolan\\n110\\t|\\tBlade Runner\\t|\\t1982\\t|\\tRidley Scott\\n111\\t|\\tThree Colors: Blue\\t|\\t1993\\t|\\tKrzysztof Kieslowski\\n112\\t|\\tMad Max: Fury Road\\t|\\t2015\\t|\\tGeorge Miller\\n113\\t|\\tThe Passion of Joan of Arc\\t|\\t1928\\t|\\tCarl Th. Dreyer\\n114\\t|\\tPrincess Mononoke\\t|\\t1997\\t|\\tHayao Miyazaki\\n115\\t|\\tThe Wizard of Oz\\t|\\t1939\\t|\\tVictor Fleming\\n116\\t|\\tCome and See\\t|\\t1985\\t|\\tE. Klimov\\n117\\t|\\tUnforgiven\\t|\\t1992\\t|\\tClint Eastwood\\n118\\t|\\tNotorious\\t|\\t1946\\t|\\tAlfred Hitchcock\\n119\\t|\\tThe Hunt\\t|\\t2012\\t|\\tThomas Vinterberg\\n120\\t|\\tThe Maltese Falcon\\t|\\t1941\\t|\\tJohn Huston\\n121\\t|\\tUp\\t|\\t2009\\t|\\tPete Docter, Bob Peterson\\n122\\t|\\tThe Conversation\\t|\\t1974\\t|\\tFrancis Ford Coppola\\n123\\t|\\tFargo\\t|\\t1996\\t|\\tJoel Coen\\n124\\t|\\tBrazil\\t|\\t1985\\t|\\tTerry Gilliam\\n125\\t|\\tBadlands\\t|\\t1973\\t|\\tTerrence Malick\\n126\\t|\\tOnce Upon a Time in America\\t|\\t1984\\t|\\tSergio Leone\\n127\\t|\\tAmelie\\t|\\t2001\\t|\\tJean-Pierre Jeunet\\n128\\t|\\tA Clockwork Orange\\t|\\t1971\\t|\\tStanley Kubrick\\n129\\t|\\tNetwork\\t|\\t1976\\t|\\tSidney Lumet\\n130\\t|\\t12 Years a Slave\\t|\\t2013\\t|\\tSteve McQueen\\n131\\t|\\tRebecca\\t|\\t1940\\t|\\tAlfred Hitchcock\\n132\\t|\\tInception\\t|\\t2010\\t|\\tChristopher Nolan\\n133\\t|\\tAguirre, the Wrath of God\\t|\\t1972\\t|\\tWerner Herzog\\n134\\t|\\tThere Will Be Blood\\t|\\t2007\\t|\\tPaul Thomas Anderson\\n135\\t|\\tLa strada\\t|\\t1954\\t|\\tFederico Fellini\\n136\\t|\\tSolaris\\t|\\t1972\\t|\\tAndrey Tarkovskiy\\n137\\t|\\tStrangers on a Train\\t|\\t1951\\t|\\tAlfred Hitchcock\\n138\\t|\\tThe Wild Bunch\\t|\\t1969\\t|\\tSam Peckinpah\\n139\\t|\\tFull Metal Jacket\\t|\\t1987\\t|\\tStanley Kubrick\\n140\\t|\\tThe Departed\\t|\\t2006\\t|\\tMartin Scorsese\\n141\\t|\\tThe Sting\\t|\\t1973\\t|\\tGeorge Roy Hill\\n142\\t|\\tThe Manchurian Candidate\\t|\\t1962\\t|\\tJohn Frankenheimer\\n143\\t|\\tAll the President's Men\\t|\\t1976\\t|\\tAlan J. Pakula\\n144\\t|\\tTo Kill a Mockingbird\\t|\\t1962\\t|\\tRobert Mulligan\\n145\\t|\\tThe Lion King\\t|\\t1994\\t|\\tRoger Allers, Rob Minkoff\\n146\\t|\\tFesten\\t|\\t1998\\t|\\tThomas Vinterberg\\n147\\t|\\tAndrei Rublev\\t|\\t1966\\t|\\tAndrey Tarkovskiy\\n148\\t|\\tThe Usual Suspects\\t|\\t1995\\t|\\tBryan Singer\\n149\\t|\\tManhattan\\t|\\t1979\\t|\\tWoody Allen\\n150\\t|\\tBarry Lyndon\\t|\\t1975\\t|\\tStanley Kubrick\\n151\\t|\\tThe Best of Youth\\t|\\t2003\\t|\\tMarco Tullio Giordana\\n152\\t|\\tDo the Right Thing\\t|\\t1989\\t|\\tSpike Lee\\n153\\t|\\tThe Philadelphia Story\\t|\\t1940\\t|\\tGeorge Cukor\\n154\\t|\\tLet the Right One In\\t|\\t2008\\t|\\tTomas Alfredson\\n155\\t|\\tThe Hustler\\t|\\t1961\\t|\\tRobert Rossen\\n156\\t|\\tDjango Unchained\\t|\\t2012\\t|\\tQuentin Tarantino\\n157\\t|\\tDiabolique\\t|\\t1955\\t|\\tH.G. Clouzot\\n158\\t|\\tWho's Afraid of Virginia Woolf?\\t|\\t1966\\t|\\tMike Nichols\\n159\\t|\\tSpring, Summer, Autumn, Winter... and Spring\\t|\\t2003\\t|\\tKi-duk Kim\\n160\\t|\\tBefore Midnight\\t|\\t2013\\t|\\tRichard Linklater\\n161\\t|\\tThe Killing\\t|\\t1956\\t|\\tStanley Kubrick\\n162\\t|\\tMary and Max\\t|\\t2009\\t|\\tAdam Elliot\\n163\\t|\\tThe Diving Bell and the Butterfly\\t|\\t2007\\t|\\tJulian Schnabel\\n164\\t|\\tThe Deer Hunter\\t|\\t1978\\t|\\tMichael Cimino\\n165\\t|\\tDog Day Afternoon\\t|\\t1975\\t|\\tSidney Lumet\\n166\\t|\\tThe Big Sleep\\t|\\t1946\\t|\\tHoward Hawks\\n167\\t|\\tDie Hard\\t|\\t1988\\t|\\tJohn McTiernan\\n168\\t|\\tA Prophet\\t|\\t2009\\t|\\tJacques Audiard\\n169\\t|\\tSe7en\\t|\\t1995\\t|\\tDavid Fincher\\n170\\t|\\tThe Nights of Cabiria|\\t1957\\t|\\tFederico Fellini\\n171\\t|\\tTerminator 2: Judgment Day\\t|\\t1991\\t|\\tJames Cameron\\n172\\t|\\tLa Grande Illusion\\t|\\t1937\\t|\\tJean Renoir\\n173\\t|\\tIncendies\\t|\\t2010\\t|\\tDenis Villeneuve\\n174\\t|\\tNo Country for Old Men\\t|\\t2007\\t|\\tEthan Coen, Joel Coen\\n175\\t|\\tThe Grapes of Wrath\\t|\\t1940\\t|\\tJohn Ford\\n176\\t|\\tMr. Smith Goes to Washington\\t|\\t1939\\t|\\tFrank Capra\\n177\\t|\\tAmerican Beauty\\t|\\t1999\\t|\\tSam Mendes\\n178\\t|\\tThis Is Spinal Tap\\t|\\t1984\\t|\\tRob Reiner\\n179\\t|\\tThe Best Years of Our Lives\\t|\\t1946\\t|\\tWilliam Wyler\\n180\\t|\\tThe Man Who Shot Liberty Valance\\t|\\t1962\\t|\\tJohn Ford\\n181\\t|\\tThe Princess Bride\\t|\\t1987\\t|\\tRob Reiner\\n182\\t|\\tThe Mirror\\t|\\t1975\\t|\\tAndrey Tarkovskiy\\n183\\t|\\tThe Searchers\\t|\\t1956\\t|\\tJohn Ford\\n184\\t|\\tOldboy\\t|\\t2003\\t|\\tChan-wook Park\\n185\\t|\\tAnatomy of a Murder\\t|\\t1959\\t|\\tOtto Preminger\\n186\\t|\\tThe Secret in Their Eyes\\t|\\t2009\\t|\\tJuan Jos\\u00e9 Campanella\\n187\\t|\\tBoyhood\\t|\\t2014\\t|\\tRichard Linklater\\n188\\t|\\tFinding Nemo\\t|\\t2003\\t|\\tAndrew Stanton, Lee Unkrich\\n189\\t|\\tMemories of Murder\\t|\\t2003\\t|\\tJoon-ho Bong\\n190\\t|\\tRoman Holiday\\t|\\t1953\\t|\\tWilliam Wyler\\n191\\t|\\tA Man Escaped\\t|\\t1956\\t|\\tRobert Bresson\\n192\\t|\\tBreathless\\t|\\t1960\\t|\\tJean-Luc Godard\\n193\\t|\\tDays of Heaven\\t|\\t1978\\t|\\tTerrence Malick\\n194\\t|\\tPersepolis\\t|\\t2007\\t|\\tVincent Paronnaud, Marjane Satrapi\\n195\\t|\\tShort Term 12\\t|\\t2013\\t|\\tDestin Daniel Cretton\\n196\\t|\\tThe French Connection\\t|\\t1971\\t|\\tWilliam Friedkin\\n197\\t|\\tThe Great Escape\\t|\\t1963\\t|\\tJohn Sturges\\n198\\t|\\tJaws\\t|\\t1975\\t|\\tSteven Spielberg\\n199\\t|\\tRosemary's Baby\\t|\\t1968\\t|\\tRoman Polanski\\n200\\t|\\tThe Social Network\\t|\\t2010\\t|\\tDavid Fincher\\n201\\t|\\tChildren of Paradise\\t|\\t1945\\t|\\tMarcel Carn\\u00e9\\n202\\t|\\tThe Man with No Name 2: For a Few Dollars More\\t|\\t1965\\t|\\tSergio Leone\\n203\\t|\\tGone with the Wind\\t|\\t1939\\t|\\tVictor Fleming\\n204\\t|\\tLe Samoura\\u00ef\\t|\\t1967\\t|\\tJean-Pierre Melville\\n205\\t|\\tDownfall\\t|\\t2004\\t|\\tOliver Hirschbiegel\\n206\\t|\\tThe Army of Shadows\\t|\\t1969\\t|\\tJean-Pierre Melville\\n207\\t|\\tThe King's Speech\\t|\\t2010\\t|\\tTom Hooper\\n208\\t|\\tHigh Noon\\t|\\t1952\\t|\\tFred Zinnemann\\n209\\t|\\tLife of Brian\\t|\\t1979\\t|\\tTerry Jones\\n210\\t|\\tThrone of Blood\\t|\\t1957\\t|\\tAkira Kurosawa\\n211\\t|\\tPatton: A Salute to a Rebel\\t|\\t1970\\t|\\tFranklin J. Schaffner\\n212\\t|\\tThe Red Shoes\\t|\\t1948\\t|\\tMichael Powell, Emeric Pressburger\\n213\\t|\\tThe Last Picture Show\\t|\\t1971\\t|\\tPeter Bogdanovich\\n214\\t|\\tLife Is Beautiful\\t|\\t1997\\t|\\tRoberto Benigni\\n215\\t|\\tHis Girl Friday\\t|\\t1940\\t|\\tHoward Hawks\\n216\\t|\\tHigh and Low\\t|\\t1963\\t|\\tAkira Kurosawa\\n217\\t|\\tUgetsu \\t|\\t1953\\t|\\tKenji Mizoguchi\\n218\\t|\\tKind Hearts and Coronets\\t|\\t1949\\t|\\tRobert Hamer\\n219\\t|\\tRatatouille\\t|\\t2007\\t|\\tBrad Bird, Jan Pinkava\\n220\\t|\\tHannah and Her Sisters\\t|\\t1986\\t|\\tWoody Allen\\n221\\t|\\tThe Cabinet of Dr. Caligari\\t|\\t1920\\t|\\tRobert Wiene\\n222\\t|\\tTrainspotting\\t|\\t1996\\t|\\tDanny Boyle\\n223\\t|\\tThe Straight Story\\t|\\t1999\\t|\\tDavid Lynch\\n224\\t|\\tThe Artist\\t|\\t2011\\t|\\tMichel Hazanavicius\\n225\\t|\\tHow to Train Your Dragon\\t|\\t2010\\t|\\tDean DeBlois, Chris Sanders\\n226\\t|\\tThe Elephant Man\\t|\\t1980\\t|\\tDavid Lynch\\n227\\t|\\tYoung Frankenstein\\t|\\t1974\\t|\\tMel Brooks\\n228\\t|\\tA Streetcar Named Desire\\t|\\t1951\\t|\\tElia Kazan\\n229\\t|\\tRio Bravo\\t|\\t1959\\t|\\tHoward Hawks\\n230\\t|\\tBeing There\\t|\\t1979\\t|\\tHal Ashby\\n231\\t|\\t4 Months, 3 Weeks & 2 Days\\t|\\t2007\\t|\\tCristian Mungiu\\n232\\t|\\tDuck Soup\\t|\\t1933\\t|\\tLeo McCarey\\n233\\t|\\tThe Hole\\t|\\t1960\\t|\\tJacques Becker\\n234\\t|\\tBlue Velvet\\t|\\t1986\\t|\\tDavid Lynch\\n235\\t|\\tChungking Express\\t|\\t1994\\t|\\tKar Wai Wong\\n236\\t|\\tShadow of a Doubt\\t|\\t1943\\t|\\tAlfred Hitchcock\\n237\\t|\\tGood Will Hunting\\t|\\t1997\\t|\\tGus Van Sant\\n238\\t|\\tAll About My Mother\\t|\\t1999\\t|\\tPedro Almod\\u00f3var\\n239\\t|\\tTalk to Her\\t|\\t2002\\t|\\tPedro Almod\\u00f3var\\n240\\t|\\tInfernal Affairs\\t|\\t2002\\t|\\tAndrew Lau, Alan Mak\\n241\\t|\\tAmour\\t|\\t2012\\t|\\tMichael Haneke\\n242\\t|\\tHer\\t|\\t2013\\t|\\tSpike Jonze\\n243\\t|\\tOnce\\t|\\t2006\\t|\\tJohn Carney\\n244\\t|\\tThe Rules of the Game \\t|\\t1939\\t|\\tJean Renoir\\n245\\t|\\tRififi\\t|\\t1955\\t|\\tJules Dassin\\n246\\t|\\tAmerican History X\\t|\\t1998\\t|\\tTony Kaye\\n247\\t|\\tTo Be or Not to Be\\t|\\t1942\\t|\\tErnst Lubitsch\\n248\\t|\\tInglourious Basterds\\t|\\t2009\\t|\\tQuentin Tarantino\\n249\\t|\\tAmores perros\\t|\\t2000\\t|\\tAlejandro Gonz\\u00e1lez I\\u00f1\\u00e1rritu\\n250\\t|\\tHeat\\t|\\t1995\\t|\\tMichael Mann\\n  \\nI apologies for not having links for each film available above, but with Reddit's character limit it won't allow me to.  \\n  \\n**EDIT: For those who would like to see *just* the Top 250 I have made additional lists to make your checking off process easier.**\\n\\n[iCheckMovies: 250 Greatest Movies of All Time](https://www.icheckmovies.com/lists/top10ners+250+greatest+movies+of+all+time/top10ner/)  \\n[Letterboxd: 250 Greatest Movies of All Time](http://letterboxd.com/top10ner/list/top10ners-250-greatest-movies-of-all-time/)  \\n  \\n**EDIT2: First of all thanks for all the kind words. And gold! You people are awesome.** I made this list originally for myself, but I always was looking forward to sharing it with you all. Glad some of you like it. As for the rest...\\n\\nI'm sorry for labeling this list the \\\"Greatest of All Time\\\". It seem's to have ruffled a few feathers. I get it, greatness is not something you can put down to ratings. This is just a list with 1001 movies that the majority of voters enjoyed. One could argue that that's what make them 'great', that there are so well liked, but yeah, I get it, its a multi-meaning word. \\n\"\n        ],\n        \"semantic_type\": \"\",\n        \"description\": \"\"\n      }\n    }\n  ]\n}"
            }
          },
          "metadata": {},
          "execution_count": 35
        }
      ]
    },
    {
      "cell_type": "code",
      "source": [
        "df_reviews.shape"
      ],
      "metadata": {
        "id": "hEB0PiSVY2G1",
        "colab": {
          "base_uri": "https://localhost:8080/"
        },
        "outputId": "3ae0dc66-6311-4ac2-e3da-1fe0c2831316"
      },
      "execution_count": 36,
      "outputs": [
        {
          "output_type": "execute_result",
          "data": {
            "text/plain": [
              "(6846, 3)"
            ]
          },
          "metadata": {},
          "execution_count": 36
        }
      ]
    },
    {
      "cell_type": "markdown",
      "source": [],
      "metadata": {
        "id": "M8t0hvEYAI2p"
      }
    },
    {
      "cell_type": "markdown",
      "source": [
        "**Data Preprocessing**"
      ],
      "metadata": {
        "id": "Lm5rWYjVV7dt"
      }
    },
    {
      "cell_type": "code",
      "source": [
        "pip install nltk"
      ],
      "metadata": {
        "colab": {
          "base_uri": "https://localhost:8080/"
        },
        "id": "YkMQ-qSaV0c-",
        "outputId": "33015f31-e971-464c-c2b5-c77f5d7efcaa"
      },
      "execution_count": 37,
      "outputs": [
        {
          "output_type": "stream",
          "name": "stdout",
          "text": [
            "Requirement already satisfied: nltk in /usr/local/lib/python3.10/dist-packages (3.9.1)\n",
            "Requirement already satisfied: click in /usr/local/lib/python3.10/dist-packages (from nltk) (8.1.7)\n",
            "Requirement already satisfied: joblib in /usr/local/lib/python3.10/dist-packages (from nltk) (1.4.2)\n",
            "Requirement already satisfied: regex>=2021.8.3 in /usr/local/lib/python3.10/dist-packages (from nltk) (2024.9.11)\n",
            "Requirement already satisfied: tqdm in /usr/local/lib/python3.10/dist-packages (from nltk) (4.66.6)\n"
          ]
        }
      ]
    },
    {
      "cell_type": "code",
      "source": [
        "import nltk\n",
        "import re\n",
        "import string\n",
        "nltk.download('punkt')\n",
        "nltk.download('punkt_tab')\n",
        "from nltk.sentiment.vader import SentimentIntensityAnalyzer\n",
        "from tqdm import tqdm"
      ],
      "metadata": {
        "colab": {
          "base_uri": "https://localhost:8080/"
        },
        "id": "iYZIblMDYj0t",
        "outputId": "70b6ac3f-0d05-4068-b087-fc60de1694bd"
      },
      "execution_count": 38,
      "outputs": [
        {
          "output_type": "stream",
          "name": "stderr",
          "text": [
            "[nltk_data] Downloading package punkt to /root/nltk_data...\n",
            "[nltk_data]   Unzipping tokenizers/punkt.zip.\n",
            "[nltk_data] Downloading package punkt_tab to /root/nltk_data...\n",
            "[nltk_data]   Unzipping tokenizers/punkt_tab.zip.\n"
          ]
        }
      ]
    },
    {
      "cell_type": "code",
      "source": [
        "#initialize sentiment analyzer\n",
        "nltk.download('vader_lexicon')\n",
        "analyzer = SentimentIntensityAnalyzer()\n",
        "\n",
        "def analyze_sentiment(text):\n",
        "\n",
        "    sentences = nltk.sent_tokenize(text)\n",
        "    compound_scores = []\n",
        "\n",
        "    for sentence in sentences:\n",
        "        sentiment = analyzer.polarity_scores(sentence)\n",
        "        compound_scores.append(sentiment['compound'])\n",
        "\n",
        "    if compound_scores:\n",
        "        avg_compound_score = np.mean(compound_scores)\n",
        "    else:\n",
        "        avg_compound_score = 0\n",
        "\n",
        "    return avg_compound_score"
      ],
      "metadata": {
        "colab": {
          "base_uri": "https://localhost:8080/"
        },
        "id": "WRh2piuDVvVo",
        "outputId": "fbefcf87-f37c-4325-d198-d584629eb51a"
      },
      "execution_count": 39,
      "outputs": [
        {
          "output_type": "stream",
          "name": "stderr",
          "text": [
            "[nltk_data] Downloading package vader_lexicon to /root/nltk_data...\n"
          ]
        }
      ]
    },
    {
      "cell_type": "markdown",
      "source": [
        "**Preprocess text **"
      ],
      "metadata": {
        "id": "3lL5soXVXnC1"
      }
    },
    {
      "cell_type": "code",
      "source": [
        "def remove_urls(desc):\n",
        "    return re.sub(r'(https:\\/\\/www\\.|http:\\/\\/www\\.|https:\\/\\/|http:\\/\\/)?[a-zA-Z]{2,}(\\.[a-zA-Z]{2,})(\\.[a-zA-Z]{2,})?\\/[a-zA-Z0-9]{2,}|((https:\\/\\/www\\.|http:\\/\\/www\\.|https:\\/\\/|http:\\/\\/)?[a-zA-Z]{2,}(\\.[a-zA-Z]{2,})(\\.[a-zA-Z]{2,})?)|(https:\\/\\/www\\.|http:\\/\\/www\\.|https:\\/\\/|http:\\/\\/)?[a-zA-Z0-9]{2,}\\.[a-zA-Z0-9]{2,}\\.[a-zA-Z0-9]{2,}(\\.[a-zA-Z0-9]{2,})?', ' ', desc)"
      ],
      "metadata": {
        "id": "5jP1wIJDXmBu"
      },
      "execution_count": 40,
      "outputs": []
    },
    {
      "cell_type": "code",
      "source": [
        "def remove_non_chrs(text):\n",
        "    return text.replace('\\xa0', ' ') #to remove anything followed by /+"
      ],
      "metadata": {
        "id": "8f7GyafBXmFK"
      },
      "execution_count": 41,
      "outputs": []
    },
    {
      "cell_type": "code",
      "source": [
        "# replace multiple white sapaces with a signle space\n",
        "def remove_multiple_spaces(desc):\n",
        "    return re.sub(r'\\s+', ' ', desc)"
      ],
      "metadata": {
        "id": "qujoMJp-Xu57"
      },
      "execution_count": 42,
      "outputs": []
    },
    {
      "cell_type": "code",
      "source": [
        "# fuction to convert into lowercase\n",
        "def convert_to_lowercase(text):\n",
        "    return text.lower()"
      ],
      "metadata": {
        "id": "InWX9kL8Xu8R"
      },
      "execution_count": 43,
      "outputs": []
    },
    {
      "cell_type": "code",
      "source": [
        "# remove non english characters using regex\n",
        "def remove_non_eng_chrs(text):\n",
        "    return re.sub('[^a-zA-Z]', ' ', text)"
      ],
      "metadata": {
        "id": "-fzeOa7yXu-m"
      },
      "execution_count": 44,
      "outputs": []
    },
    {
      "cell_type": "code",
      "source": [
        "def punctuation_removal(text):\n",
        "    sp = string.punctuation\n",
        "    sp.join('“”’')\n",
        "    for p in sp:\n",
        "        text = text.replace(p, \"\")\n",
        "    return text"
      ],
      "metadata": {
        "id": "QDvPpxbUXvAq"
      },
      "execution_count": 45,
      "outputs": []
    },
    {
      "cell_type": "code",
      "source": [
        "def tokenization(text):\n",
        "    tokens = nltk.word_tokenize(text)\n",
        "    return tokens\n"
      ],
      "metadata": {
        "id": "CpaRGtyrX3i1"
      },
      "execution_count": 46,
      "outputs": []
    },
    {
      "cell_type": "code",
      "source": [
        "# function to fix spell\n",
        "def spell_len_fix(text):\n",
        "    return re.sub(r'(.)\\1{2,}', r'\\1\\1', text)"
      ],
      "metadata": {
        "id": "vcGNR1O6X3lI"
      },
      "execution_count": 47,
      "outputs": []
    },
    {
      "cell_type": "code",
      "source": [
        "# fucntion to preprocess data\n",
        "def text_preprocess_pipeline(desc):\n",
        "    if not isinstance(desc, str):\n",
        "        print(desc)\n",
        "        return []\n",
        "\n",
        "    text = remove_urls(desc)\n",
        "\n",
        "    text = remove_non_chrs(desc)\n",
        "    text = remove_multiple_spaces(desc)\n",
        "    text = convert_to_lowercase(desc)\n",
        "    text = remove_non_eng_chrs(desc)\n",
        "    text = spell_len_fix(text)\n",
        "    text = punctuation_removal(text)\n",
        "\n",
        "\n",
        "    return(text)"
      ],
      "metadata": {
        "id": "v-CWKZZ_X3p0"
      },
      "execution_count": 48,
      "outputs": []
    },
    {
      "cell_type": "code",
      "source": [
        "# preprocess text, using tqdm for displaying progress bar\n",
        "tqdm.pandas(desc=\"Pre-Processing Description\")\n",
        "df_reviews['preprocessed_description'] = df_reviews.review.progress_apply(text_preprocess_pipeline)"
      ],
      "metadata": {
        "id": "2Yn09e_3YO19"
      },
      "execution_count": null,
      "outputs": []
    },
    {
      "cell_type": "code",
      "source": [
        "#analyze_sentiment expects a string input, hence converting preprocessed_description to string\n",
        "df_reviews['preprocessed_description'] = df_reviews['preprocessed_description'].astype(str)\n"
      ],
      "metadata": {
        "id": "_BkW3IN4YDD2"
      },
      "execution_count": 50,
      "outputs": []
    },
    {
      "cell_type": "code",
      "source": [
        "df_reviews['movie_id'].nunique()"
      ],
      "metadata": {
        "colab": {
          "base_uri": "https://localhost:8080/"
        },
        "id": "ZiJKUaRXyjDz",
        "outputId": "1191f893-a8cc-4623-bde0-368e8cebb1d3"
      },
      "execution_count": 51,
      "outputs": [
        {
          "output_type": "execute_result",
          "data": {
            "text/plain": [
              "1682"
            ]
          },
          "metadata": {},
          "execution_count": 51
        }
      ]
    },
    {
      "cell_type": "code",
      "source": [
        "tqdm.pandas(desc=\"Analyze Sentiment\")\n",
        "#df_reviews['polarity']= df_reviews['review'].progress_apply(analyze_sentiment)\n",
        "df_reviews['polarity']= df_reviews['preprocessed_description'].apply(analyze_sentiment)"
      ],
      "metadata": {
        "id": "PN8SvLW0Vveh"
      },
      "execution_count": 52,
      "outputs": []
    },
    {
      "cell_type": "code",
      "source": [
        "df_reviews.isna().sum()"
      ],
      "metadata": {
        "colab": {
          "base_uri": "https://localhost:8080/",
          "height": 241
        },
        "id": "j-PZjbeFy9Vi",
        "outputId": "e2bb7c1a-e723-4527-95e2-997aefc539b4"
      },
      "execution_count": 53,
      "outputs": [
        {
          "output_type": "execute_result",
          "data": {
            "text/plain": [
              "movie_id                      0\n",
              "movie_title                   0\n",
              "review                      151\n",
              "preprocessed_description      0\n",
              "polarity                      0\n",
              "dtype: int64"
            ],
            "text/html": [
              "<div>\n",
              "<style scoped>\n",
              "    .dataframe tbody tr th:only-of-type {\n",
              "        vertical-align: middle;\n",
              "    }\n",
              "\n",
              "    .dataframe tbody tr th {\n",
              "        vertical-align: top;\n",
              "    }\n",
              "\n",
              "    .dataframe thead th {\n",
              "        text-align: right;\n",
              "    }\n",
              "</style>\n",
              "<table border=\"1\" class=\"dataframe\">\n",
              "  <thead>\n",
              "    <tr style=\"text-align: right;\">\n",
              "      <th></th>\n",
              "      <th>0</th>\n",
              "    </tr>\n",
              "  </thead>\n",
              "  <tbody>\n",
              "    <tr>\n",
              "      <th>movie_id</th>\n",
              "      <td>0</td>\n",
              "    </tr>\n",
              "    <tr>\n",
              "      <th>movie_title</th>\n",
              "      <td>0</td>\n",
              "    </tr>\n",
              "    <tr>\n",
              "      <th>review</th>\n",
              "      <td>151</td>\n",
              "    </tr>\n",
              "    <tr>\n",
              "      <th>preprocessed_description</th>\n",
              "      <td>0</td>\n",
              "    </tr>\n",
              "    <tr>\n",
              "      <th>polarity</th>\n",
              "      <td>0</td>\n",
              "    </tr>\n",
              "  </tbody>\n",
              "</table>\n",
              "</div><br><label><b>dtype:</b> int64</label>"
            ]
          },
          "metadata": {},
          "execution_count": 53
        }
      ]
    },
    {
      "cell_type": "code",
      "source": [
        "df_reviews.describe()"
      ],
      "metadata": {
        "colab": {
          "base_uri": "https://localhost:8080/",
          "height": 300
        },
        "id": "HGiscLBHQ5Ud",
        "outputId": "48380dae-5357-498c-b8c3-8b9ee572dc2a"
      },
      "execution_count": 71,
      "outputs": [
        {
          "output_type": "execute_result",
          "data": {
            "text/plain": [
              "          movie_id     polarity\n",
              "count  6846.000000  6846.000000\n",
              "mean    784.194128     0.214053\n",
              "std     475.588452     0.857476\n",
              "min       1.000000    -0.999900\n",
              "25%     372.000000    -0.917600\n",
              "50%     755.000000     0.748600\n",
              "75%    1176.750000     0.996700\n",
              "max    1682.000000     1.000000"
            ],
            "text/html": [
              "\n",
              "  <div id=\"df-bd86cb6c-97ad-433d-9917-b7c4fc572617\" class=\"colab-df-container\">\n",
              "    <div>\n",
              "<style scoped>\n",
              "    .dataframe tbody tr th:only-of-type {\n",
              "        vertical-align: middle;\n",
              "    }\n",
              "\n",
              "    .dataframe tbody tr th {\n",
              "        vertical-align: top;\n",
              "    }\n",
              "\n",
              "    .dataframe thead th {\n",
              "        text-align: right;\n",
              "    }\n",
              "</style>\n",
              "<table border=\"1\" class=\"dataframe\">\n",
              "  <thead>\n",
              "    <tr style=\"text-align: right;\">\n",
              "      <th></th>\n",
              "      <th>movie_id</th>\n",
              "      <th>polarity</th>\n",
              "    </tr>\n",
              "  </thead>\n",
              "  <tbody>\n",
              "    <tr>\n",
              "      <th>count</th>\n",
              "      <td>6846.000000</td>\n",
              "      <td>6846.000000</td>\n",
              "    </tr>\n",
              "    <tr>\n",
              "      <th>mean</th>\n",
              "      <td>784.194128</td>\n",
              "      <td>0.214053</td>\n",
              "    </tr>\n",
              "    <tr>\n",
              "      <th>std</th>\n",
              "      <td>475.588452</td>\n",
              "      <td>0.857476</td>\n",
              "    </tr>\n",
              "    <tr>\n",
              "      <th>min</th>\n",
              "      <td>1.000000</td>\n",
              "      <td>-0.999900</td>\n",
              "    </tr>\n",
              "    <tr>\n",
              "      <th>25%</th>\n",
              "      <td>372.000000</td>\n",
              "      <td>-0.917600</td>\n",
              "    </tr>\n",
              "    <tr>\n",
              "      <th>50%</th>\n",
              "      <td>755.000000</td>\n",
              "      <td>0.748600</td>\n",
              "    </tr>\n",
              "    <tr>\n",
              "      <th>75%</th>\n",
              "      <td>1176.750000</td>\n",
              "      <td>0.996700</td>\n",
              "    </tr>\n",
              "    <tr>\n",
              "      <th>max</th>\n",
              "      <td>1682.000000</td>\n",
              "      <td>1.000000</td>\n",
              "    </tr>\n",
              "  </tbody>\n",
              "</table>\n",
              "</div>\n",
              "    <div class=\"colab-df-buttons\">\n",
              "\n",
              "  <div class=\"colab-df-container\">\n",
              "    <button class=\"colab-df-convert\" onclick=\"convertToInteractive('df-bd86cb6c-97ad-433d-9917-b7c4fc572617')\"\n",
              "            title=\"Convert this dataframe to an interactive table.\"\n",
              "            style=\"display:none;\">\n",
              "\n",
              "  <svg xmlns=\"http://www.w3.org/2000/svg\" height=\"24px\" viewBox=\"0 -960 960 960\">\n",
              "    <path d=\"M120-120v-720h720v720H120Zm60-500h600v-160H180v160Zm220 220h160v-160H400v160Zm0 220h160v-160H400v160ZM180-400h160v-160H180v160Zm440 0h160v-160H620v160ZM180-180h160v-160H180v160Zm440 0h160v-160H620v160Z\"/>\n",
              "  </svg>\n",
              "    </button>\n",
              "\n",
              "  <style>\n",
              "    .colab-df-container {\n",
              "      display:flex;\n",
              "      gap: 12px;\n",
              "    }\n",
              "\n",
              "    .colab-df-convert {\n",
              "      background-color: #E8F0FE;\n",
              "      border: none;\n",
              "      border-radius: 50%;\n",
              "      cursor: pointer;\n",
              "      display: none;\n",
              "      fill: #1967D2;\n",
              "      height: 32px;\n",
              "      padding: 0 0 0 0;\n",
              "      width: 32px;\n",
              "    }\n",
              "\n",
              "    .colab-df-convert:hover {\n",
              "      background-color: #E2EBFA;\n",
              "      box-shadow: 0px 1px 2px rgba(60, 64, 67, 0.3), 0px 1px 3px 1px rgba(60, 64, 67, 0.15);\n",
              "      fill: #174EA6;\n",
              "    }\n",
              "\n",
              "    .colab-df-buttons div {\n",
              "      margin-bottom: 4px;\n",
              "    }\n",
              "\n",
              "    [theme=dark] .colab-df-convert {\n",
              "      background-color: #3B4455;\n",
              "      fill: #D2E3FC;\n",
              "    }\n",
              "\n",
              "    [theme=dark] .colab-df-convert:hover {\n",
              "      background-color: #434B5C;\n",
              "      box-shadow: 0px 1px 3px 1px rgba(0, 0, 0, 0.15);\n",
              "      filter: drop-shadow(0px 1px 2px rgba(0, 0, 0, 0.3));\n",
              "      fill: #FFFFFF;\n",
              "    }\n",
              "  </style>\n",
              "\n",
              "    <script>\n",
              "      const buttonEl =\n",
              "        document.querySelector('#df-bd86cb6c-97ad-433d-9917-b7c4fc572617 button.colab-df-convert');\n",
              "      buttonEl.style.display =\n",
              "        google.colab.kernel.accessAllowed ? 'block' : 'none';\n",
              "\n",
              "      async function convertToInteractive(key) {\n",
              "        const element = document.querySelector('#df-bd86cb6c-97ad-433d-9917-b7c4fc572617');\n",
              "        const dataTable =\n",
              "          await google.colab.kernel.invokeFunction('convertToInteractive',\n",
              "                                                    [key], {});\n",
              "        if (!dataTable) return;\n",
              "\n",
              "        const docLinkHtml = 'Like what you see? Visit the ' +\n",
              "          '<a target=\"_blank\" href=https://colab.research.google.com/notebooks/data_table.ipynb>data table notebook</a>'\n",
              "          + ' to learn more about interactive tables.';\n",
              "        element.innerHTML = '';\n",
              "        dataTable['output_type'] = 'display_data';\n",
              "        await google.colab.output.renderOutput(dataTable, element);\n",
              "        const docLink = document.createElement('div');\n",
              "        docLink.innerHTML = docLinkHtml;\n",
              "        element.appendChild(docLink);\n",
              "      }\n",
              "    </script>\n",
              "  </div>\n",
              "\n",
              "\n",
              "<div id=\"df-e64278c5-d3a4-489c-b3de-8261d9052fb5\">\n",
              "  <button class=\"colab-df-quickchart\" onclick=\"quickchart('df-e64278c5-d3a4-489c-b3de-8261d9052fb5')\"\n",
              "            title=\"Suggest charts\"\n",
              "            style=\"display:none;\">\n",
              "\n",
              "<svg xmlns=\"http://www.w3.org/2000/svg\" height=\"24px\"viewBox=\"0 0 24 24\"\n",
              "     width=\"24px\">\n",
              "    <g>\n",
              "        <path d=\"M19 3H5c-1.1 0-2 .9-2 2v14c0 1.1.9 2 2 2h14c1.1 0 2-.9 2-2V5c0-1.1-.9-2-2-2zM9 17H7v-7h2v7zm4 0h-2V7h2v10zm4 0h-2v-4h2v4z\"/>\n",
              "    </g>\n",
              "</svg>\n",
              "  </button>\n",
              "\n",
              "<style>\n",
              "  .colab-df-quickchart {\n",
              "      --bg-color: #E8F0FE;\n",
              "      --fill-color: #1967D2;\n",
              "      --hover-bg-color: #E2EBFA;\n",
              "      --hover-fill-color: #174EA6;\n",
              "      --disabled-fill-color: #AAA;\n",
              "      --disabled-bg-color: #DDD;\n",
              "  }\n",
              "\n",
              "  [theme=dark] .colab-df-quickchart {\n",
              "      --bg-color: #3B4455;\n",
              "      --fill-color: #D2E3FC;\n",
              "      --hover-bg-color: #434B5C;\n",
              "      --hover-fill-color: #FFFFFF;\n",
              "      --disabled-bg-color: #3B4455;\n",
              "      --disabled-fill-color: #666;\n",
              "  }\n",
              "\n",
              "  .colab-df-quickchart {\n",
              "    background-color: var(--bg-color);\n",
              "    border: none;\n",
              "    border-radius: 50%;\n",
              "    cursor: pointer;\n",
              "    display: none;\n",
              "    fill: var(--fill-color);\n",
              "    height: 32px;\n",
              "    padding: 0;\n",
              "    width: 32px;\n",
              "  }\n",
              "\n",
              "  .colab-df-quickchart:hover {\n",
              "    background-color: var(--hover-bg-color);\n",
              "    box-shadow: 0 1px 2px rgba(60, 64, 67, 0.3), 0 1px 3px 1px rgba(60, 64, 67, 0.15);\n",
              "    fill: var(--button-hover-fill-color);\n",
              "  }\n",
              "\n",
              "  .colab-df-quickchart-complete:disabled,\n",
              "  .colab-df-quickchart-complete:disabled:hover {\n",
              "    background-color: var(--disabled-bg-color);\n",
              "    fill: var(--disabled-fill-color);\n",
              "    box-shadow: none;\n",
              "  }\n",
              "\n",
              "  .colab-df-spinner {\n",
              "    border: 2px solid var(--fill-color);\n",
              "    border-color: transparent;\n",
              "    border-bottom-color: var(--fill-color);\n",
              "    animation:\n",
              "      spin 1s steps(1) infinite;\n",
              "  }\n",
              "\n",
              "  @keyframes spin {\n",
              "    0% {\n",
              "      border-color: transparent;\n",
              "      border-bottom-color: var(--fill-color);\n",
              "      border-left-color: var(--fill-color);\n",
              "    }\n",
              "    20% {\n",
              "      border-color: transparent;\n",
              "      border-left-color: var(--fill-color);\n",
              "      border-top-color: var(--fill-color);\n",
              "    }\n",
              "    30% {\n",
              "      border-color: transparent;\n",
              "      border-left-color: var(--fill-color);\n",
              "      border-top-color: var(--fill-color);\n",
              "      border-right-color: var(--fill-color);\n",
              "    }\n",
              "    40% {\n",
              "      border-color: transparent;\n",
              "      border-right-color: var(--fill-color);\n",
              "      border-top-color: var(--fill-color);\n",
              "    }\n",
              "    60% {\n",
              "      border-color: transparent;\n",
              "      border-right-color: var(--fill-color);\n",
              "    }\n",
              "    80% {\n",
              "      border-color: transparent;\n",
              "      border-right-color: var(--fill-color);\n",
              "      border-bottom-color: var(--fill-color);\n",
              "    }\n",
              "    90% {\n",
              "      border-color: transparent;\n",
              "      border-bottom-color: var(--fill-color);\n",
              "    }\n",
              "  }\n",
              "</style>\n",
              "\n",
              "  <script>\n",
              "    async function quickchart(key) {\n",
              "      const quickchartButtonEl =\n",
              "        document.querySelector('#' + key + ' button');\n",
              "      quickchartButtonEl.disabled = true;  // To prevent multiple clicks.\n",
              "      quickchartButtonEl.classList.add('colab-df-spinner');\n",
              "      try {\n",
              "        const charts = await google.colab.kernel.invokeFunction(\n",
              "            'suggestCharts', [key], {});\n",
              "      } catch (error) {\n",
              "        console.error('Error during call to suggestCharts:', error);\n",
              "      }\n",
              "      quickchartButtonEl.classList.remove('colab-df-spinner');\n",
              "      quickchartButtonEl.classList.add('colab-df-quickchart-complete');\n",
              "    }\n",
              "    (() => {\n",
              "      let quickchartButtonEl =\n",
              "        document.querySelector('#df-e64278c5-d3a4-489c-b3de-8261d9052fb5 button');\n",
              "      quickchartButtonEl.style.display =\n",
              "        google.colab.kernel.accessAllowed ? 'block' : 'none';\n",
              "    })();\n",
              "  </script>\n",
              "</div>\n",
              "\n",
              "    </div>\n",
              "  </div>\n"
            ],
            "application/vnd.google.colaboratory.intrinsic+json": {
              "type": "dataframe",
              "summary": "{\n  \"name\": \"df_reviews\",\n  \"rows\": 8,\n  \"fields\": [\n    {\n      \"column\": \"movie_id\",\n      \"properties\": {\n        \"dtype\": \"number\",\n        \"std\": 2215.286738723617,\n        \"min\": 1.0,\n        \"max\": 6846.0,\n        \"num_unique_values\": 8,\n        \"samples\": [\n          784.1941279579316,\n          755.0,\n          6846.0\n        ],\n        \"semantic_type\": \"\",\n        \"description\": \"\"\n      }\n    },\n    {\n      \"column\": \"polarity\",\n      \"properties\": {\n        \"dtype\": \"number\",\n        \"std\": 2420.3307189723355,\n        \"min\": -0.9999,\n        \"max\": 6846.0,\n        \"num_unique_values\": 8,\n        \"samples\": [\n          0.21405292141396437,\n          0.7485999999999999,\n          6846.0\n        ],\n        \"semantic_type\": \"\",\n        \"description\": \"\"\n      }\n    }\n  ]\n}"
            }
          },
          "metadata": {},
          "execution_count": 71
        }
      ]
    },
    {
      "cell_type": "markdown",
      "source": [],
      "metadata": {
        "id": "B98IwgHLy8za"
      }
    },
    {
      "cell_type": "code",
      "source": [
        "average_polarity = df_reviews.groupby('movie_id')['polarity'].mean().reset_index()\n",
        "average_polarity.rename(columns={'polarity': 'sentiment_score'}, inplace=True)"
      ],
      "metadata": {
        "id": "MFyCbkulVvmB"
      },
      "execution_count": 54,
      "outputs": []
    },
    {
      "cell_type": "code",
      "source": [
        "average_polarity.shape"
      ],
      "metadata": {
        "colab": {
          "base_uri": "https://localhost:8080/"
        },
        "id": "HZeBUrQCy2sk",
        "outputId": "3af5afb7-e2d0-4754-ed6b-db355b372606"
      },
      "execution_count": 55,
      "outputs": [
        {
          "output_type": "execute_result",
          "data": {
            "text/plain": [
              "(1682, 2)"
            ]
          },
          "metadata": {},
          "execution_count": 55
        }
      ]
    },
    {
      "cell_type": "code",
      "source": [
        "def sentiments_classification(compound_score):\n",
        "    if compound_score >= 0.05:\n",
        "        sentiment = 'pos'\n",
        "    elif compound_score<=-0.05:\n",
        "        sentiment = 'neg'\n",
        "    else:\n",
        "        sentiment = 'neu'\n",
        "    return sentiment"
      ],
      "metadata": {
        "id": "J2KUgWxWbUGS"
      },
      "execution_count": 56,
      "outputs": []
    },
    {
      "cell_type": "code",
      "source": [
        "average_polarity['Sentiments']=average_polarity['sentiment_score'].apply(sentiments_classification)"
      ],
      "metadata": {
        "id": "ItrCjkiObbpo"
      },
      "execution_count": 57,
      "outputs": []
    },
    {
      "cell_type": "code",
      "source": [
        "average_polarity.head()"
      ],
      "metadata": {
        "colab": {
          "base_uri": "https://localhost:8080/",
          "height": 206
        },
        "id": "YRqE81SpbqNp",
        "outputId": "6f902b8f-4251-424a-abba-0031590f1b22"
      },
      "execution_count": 58,
      "outputs": [
        {
          "output_type": "execute_result",
          "data": {
            "text/plain": [
              "   movie_id  sentiment_score Sentiments\n",
              "0         1          0.24264        pos\n",
              "1         2         -0.67438        neg\n",
              "2         3         -0.20806        neg\n",
              "3         4         -0.23356        neg\n",
              "4         5         -0.52534        neg"
            ],
            "text/html": [
              "\n",
              "  <div id=\"df-94496550-87bf-4810-b30b-3d348fca5d5c\" class=\"colab-df-container\">\n",
              "    <div>\n",
              "<style scoped>\n",
              "    .dataframe tbody tr th:only-of-type {\n",
              "        vertical-align: middle;\n",
              "    }\n",
              "\n",
              "    .dataframe tbody tr th {\n",
              "        vertical-align: top;\n",
              "    }\n",
              "\n",
              "    .dataframe thead th {\n",
              "        text-align: right;\n",
              "    }\n",
              "</style>\n",
              "<table border=\"1\" class=\"dataframe\">\n",
              "  <thead>\n",
              "    <tr style=\"text-align: right;\">\n",
              "      <th></th>\n",
              "      <th>movie_id</th>\n",
              "      <th>sentiment_score</th>\n",
              "      <th>Sentiments</th>\n",
              "    </tr>\n",
              "  </thead>\n",
              "  <tbody>\n",
              "    <tr>\n",
              "      <th>0</th>\n",
              "      <td>1</td>\n",
              "      <td>0.24264</td>\n",
              "      <td>pos</td>\n",
              "    </tr>\n",
              "    <tr>\n",
              "      <th>1</th>\n",
              "      <td>2</td>\n",
              "      <td>-0.67438</td>\n",
              "      <td>neg</td>\n",
              "    </tr>\n",
              "    <tr>\n",
              "      <th>2</th>\n",
              "      <td>3</td>\n",
              "      <td>-0.20806</td>\n",
              "      <td>neg</td>\n",
              "    </tr>\n",
              "    <tr>\n",
              "      <th>3</th>\n",
              "      <td>4</td>\n",
              "      <td>-0.23356</td>\n",
              "      <td>neg</td>\n",
              "    </tr>\n",
              "    <tr>\n",
              "      <th>4</th>\n",
              "      <td>5</td>\n",
              "      <td>-0.52534</td>\n",
              "      <td>neg</td>\n",
              "    </tr>\n",
              "  </tbody>\n",
              "</table>\n",
              "</div>\n",
              "    <div class=\"colab-df-buttons\">\n",
              "\n",
              "  <div class=\"colab-df-container\">\n",
              "    <button class=\"colab-df-convert\" onclick=\"convertToInteractive('df-94496550-87bf-4810-b30b-3d348fca5d5c')\"\n",
              "            title=\"Convert this dataframe to an interactive table.\"\n",
              "            style=\"display:none;\">\n",
              "\n",
              "  <svg xmlns=\"http://www.w3.org/2000/svg\" height=\"24px\" viewBox=\"0 -960 960 960\">\n",
              "    <path d=\"M120-120v-720h720v720H120Zm60-500h600v-160H180v160Zm220 220h160v-160H400v160Zm0 220h160v-160H400v160ZM180-400h160v-160H180v160Zm440 0h160v-160H620v160ZM180-180h160v-160H180v160Zm440 0h160v-160H620v160Z\"/>\n",
              "  </svg>\n",
              "    </button>\n",
              "\n",
              "  <style>\n",
              "    .colab-df-container {\n",
              "      display:flex;\n",
              "      gap: 12px;\n",
              "    }\n",
              "\n",
              "    .colab-df-convert {\n",
              "      background-color: #E8F0FE;\n",
              "      border: none;\n",
              "      border-radius: 50%;\n",
              "      cursor: pointer;\n",
              "      display: none;\n",
              "      fill: #1967D2;\n",
              "      height: 32px;\n",
              "      padding: 0 0 0 0;\n",
              "      width: 32px;\n",
              "    }\n",
              "\n",
              "    .colab-df-convert:hover {\n",
              "      background-color: #E2EBFA;\n",
              "      box-shadow: 0px 1px 2px rgba(60, 64, 67, 0.3), 0px 1px 3px 1px rgba(60, 64, 67, 0.15);\n",
              "      fill: #174EA6;\n",
              "    }\n",
              "\n",
              "    .colab-df-buttons div {\n",
              "      margin-bottom: 4px;\n",
              "    }\n",
              "\n",
              "    [theme=dark] .colab-df-convert {\n",
              "      background-color: #3B4455;\n",
              "      fill: #D2E3FC;\n",
              "    }\n",
              "\n",
              "    [theme=dark] .colab-df-convert:hover {\n",
              "      background-color: #434B5C;\n",
              "      box-shadow: 0px 1px 3px 1px rgba(0, 0, 0, 0.15);\n",
              "      filter: drop-shadow(0px 1px 2px rgba(0, 0, 0, 0.3));\n",
              "      fill: #FFFFFF;\n",
              "    }\n",
              "  </style>\n",
              "\n",
              "    <script>\n",
              "      const buttonEl =\n",
              "        document.querySelector('#df-94496550-87bf-4810-b30b-3d348fca5d5c button.colab-df-convert');\n",
              "      buttonEl.style.display =\n",
              "        google.colab.kernel.accessAllowed ? 'block' : 'none';\n",
              "\n",
              "      async function convertToInteractive(key) {\n",
              "        const element = document.querySelector('#df-94496550-87bf-4810-b30b-3d348fca5d5c');\n",
              "        const dataTable =\n",
              "          await google.colab.kernel.invokeFunction('convertToInteractive',\n",
              "                                                    [key], {});\n",
              "        if (!dataTable) return;\n",
              "\n",
              "        const docLinkHtml = 'Like what you see? Visit the ' +\n",
              "          '<a target=\"_blank\" href=https://colab.research.google.com/notebooks/data_table.ipynb>data table notebook</a>'\n",
              "          + ' to learn more about interactive tables.';\n",
              "        element.innerHTML = '';\n",
              "        dataTable['output_type'] = 'display_data';\n",
              "        await google.colab.output.renderOutput(dataTable, element);\n",
              "        const docLink = document.createElement('div');\n",
              "        docLink.innerHTML = docLinkHtml;\n",
              "        element.appendChild(docLink);\n",
              "      }\n",
              "    </script>\n",
              "  </div>\n",
              "\n",
              "\n",
              "<div id=\"df-9b93aa5c-af78-4da0-a734-15612e47651a\">\n",
              "  <button class=\"colab-df-quickchart\" onclick=\"quickchart('df-9b93aa5c-af78-4da0-a734-15612e47651a')\"\n",
              "            title=\"Suggest charts\"\n",
              "            style=\"display:none;\">\n",
              "\n",
              "<svg xmlns=\"http://www.w3.org/2000/svg\" height=\"24px\"viewBox=\"0 0 24 24\"\n",
              "     width=\"24px\">\n",
              "    <g>\n",
              "        <path d=\"M19 3H5c-1.1 0-2 .9-2 2v14c0 1.1.9 2 2 2h14c1.1 0 2-.9 2-2V5c0-1.1-.9-2-2-2zM9 17H7v-7h2v7zm4 0h-2V7h2v10zm4 0h-2v-4h2v4z\"/>\n",
              "    </g>\n",
              "</svg>\n",
              "  </button>\n",
              "\n",
              "<style>\n",
              "  .colab-df-quickchart {\n",
              "      --bg-color: #E8F0FE;\n",
              "      --fill-color: #1967D2;\n",
              "      --hover-bg-color: #E2EBFA;\n",
              "      --hover-fill-color: #174EA6;\n",
              "      --disabled-fill-color: #AAA;\n",
              "      --disabled-bg-color: #DDD;\n",
              "  }\n",
              "\n",
              "  [theme=dark] .colab-df-quickchart {\n",
              "      --bg-color: #3B4455;\n",
              "      --fill-color: #D2E3FC;\n",
              "      --hover-bg-color: #434B5C;\n",
              "      --hover-fill-color: #FFFFFF;\n",
              "      --disabled-bg-color: #3B4455;\n",
              "      --disabled-fill-color: #666;\n",
              "  }\n",
              "\n",
              "  .colab-df-quickchart {\n",
              "    background-color: var(--bg-color);\n",
              "    border: none;\n",
              "    border-radius: 50%;\n",
              "    cursor: pointer;\n",
              "    display: none;\n",
              "    fill: var(--fill-color);\n",
              "    height: 32px;\n",
              "    padding: 0;\n",
              "    width: 32px;\n",
              "  }\n",
              "\n",
              "  .colab-df-quickchart:hover {\n",
              "    background-color: var(--hover-bg-color);\n",
              "    box-shadow: 0 1px 2px rgba(60, 64, 67, 0.3), 0 1px 3px 1px rgba(60, 64, 67, 0.15);\n",
              "    fill: var(--button-hover-fill-color);\n",
              "  }\n",
              "\n",
              "  .colab-df-quickchart-complete:disabled,\n",
              "  .colab-df-quickchart-complete:disabled:hover {\n",
              "    background-color: var(--disabled-bg-color);\n",
              "    fill: var(--disabled-fill-color);\n",
              "    box-shadow: none;\n",
              "  }\n",
              "\n",
              "  .colab-df-spinner {\n",
              "    border: 2px solid var(--fill-color);\n",
              "    border-color: transparent;\n",
              "    border-bottom-color: var(--fill-color);\n",
              "    animation:\n",
              "      spin 1s steps(1) infinite;\n",
              "  }\n",
              "\n",
              "  @keyframes spin {\n",
              "    0% {\n",
              "      border-color: transparent;\n",
              "      border-bottom-color: var(--fill-color);\n",
              "      border-left-color: var(--fill-color);\n",
              "    }\n",
              "    20% {\n",
              "      border-color: transparent;\n",
              "      border-left-color: var(--fill-color);\n",
              "      border-top-color: var(--fill-color);\n",
              "    }\n",
              "    30% {\n",
              "      border-color: transparent;\n",
              "      border-left-color: var(--fill-color);\n",
              "      border-top-color: var(--fill-color);\n",
              "      border-right-color: var(--fill-color);\n",
              "    }\n",
              "    40% {\n",
              "      border-color: transparent;\n",
              "      border-right-color: var(--fill-color);\n",
              "      border-top-color: var(--fill-color);\n",
              "    }\n",
              "    60% {\n",
              "      border-color: transparent;\n",
              "      border-right-color: var(--fill-color);\n",
              "    }\n",
              "    80% {\n",
              "      border-color: transparent;\n",
              "      border-right-color: var(--fill-color);\n",
              "      border-bottom-color: var(--fill-color);\n",
              "    }\n",
              "    90% {\n",
              "      border-color: transparent;\n",
              "      border-bottom-color: var(--fill-color);\n",
              "    }\n",
              "  }\n",
              "</style>\n",
              "\n",
              "  <script>\n",
              "    async function quickchart(key) {\n",
              "      const quickchartButtonEl =\n",
              "        document.querySelector('#' + key + ' button');\n",
              "      quickchartButtonEl.disabled = true;  // To prevent multiple clicks.\n",
              "      quickchartButtonEl.classList.add('colab-df-spinner');\n",
              "      try {\n",
              "        const charts = await google.colab.kernel.invokeFunction(\n",
              "            'suggestCharts', [key], {});\n",
              "      } catch (error) {\n",
              "        console.error('Error during call to suggestCharts:', error);\n",
              "      }\n",
              "      quickchartButtonEl.classList.remove('colab-df-spinner');\n",
              "      quickchartButtonEl.classList.add('colab-df-quickchart-complete');\n",
              "    }\n",
              "    (() => {\n",
              "      let quickchartButtonEl =\n",
              "        document.querySelector('#df-9b93aa5c-af78-4da0-a734-15612e47651a button');\n",
              "      quickchartButtonEl.style.display =\n",
              "        google.colab.kernel.accessAllowed ? 'block' : 'none';\n",
              "    })();\n",
              "  </script>\n",
              "</div>\n",
              "\n",
              "    </div>\n",
              "  </div>\n"
            ],
            "application/vnd.google.colaboratory.intrinsic+json": {
              "type": "dataframe",
              "variable_name": "average_polarity",
              "summary": "{\n  \"name\": \"average_polarity\",\n  \"rows\": 1682,\n  \"fields\": [\n    {\n      \"column\": \"movie_id\",\n      \"properties\": {\n        \"dtype\": \"number\",\n        \"std\": 485,\n        \"min\": 1,\n        \"max\": 1682,\n        \"num_unique_values\": 1682,\n        \"samples\": [\n          1394,\n          744,\n          1606\n        ],\n        \"semantic_type\": \"\",\n        \"description\": \"\"\n      }\n    },\n    {\n      \"column\": \"sentiment_score\",\n      \"properties\": {\n        \"dtype\": \"number\",\n        \"std\": 0.49871003887431925,\n        \"min\": -0.9999,\n        \"max\": 0.9998,\n        \"num_unique_values\": 1420,\n        \"samples\": [\n          -0.36802,\n          -0.20407999999999998,\n          0.86908\n        ],\n        \"semantic_type\": \"\",\n        \"description\": \"\"\n      }\n    },\n    {\n      \"column\": \"Sentiments\",\n      \"properties\": {\n        \"dtype\": \"category\",\n        \"num_unique_values\": 3,\n        \"samples\": [\n          \"pos\",\n          \"neg\",\n          \"neu\"\n        ],\n        \"semantic_type\": \"\",\n        \"description\": \"\"\n      }\n    }\n  ]\n}"
            }
          },
          "metadata": {},
          "execution_count": 58
        }
      ]
    },
    {
      "cell_type": "code",
      "source": [
        "average_polarity.shape"
      ],
      "metadata": {
        "colab": {
          "base_uri": "https://localhost:8080/"
        },
        "id": "DIxs9TKcwL8-",
        "outputId": "e0ead160-1f9f-4416-972b-5a261049ea57"
      },
      "execution_count": 59,
      "outputs": [
        {
          "output_type": "execute_result",
          "data": {
            "text/plain": [
              "(1682, 3)"
            ]
          },
          "metadata": {},
          "execution_count": 59
        }
      ]
    },
    {
      "cell_type": "code",
      "source": [
        "average_polarity.to_csv('average_polarity.csv')"
      ],
      "metadata": {
        "id": "qhD-TckWw68B"
      },
      "execution_count": 60,
      "outputs": []
    },
    {
      "cell_type": "code",
      "source": [
        "palette4 = ['#FE4A49','#2AB7CA','#FED766','#03CEA4']\n",
        "x = average_polarity['Sentiments'].value_counts().plot(kind='bar', title = 'Count of sentiments',xlabel = 'Sentiments', ylabel = 'Count',color= palette4, figsize = (15,6))\n",
        "for bar in x.patches:\n",
        "    plt.annotate(str(bar.get_height()), xy=(bar.get_x() + bar.get_width() / 2, bar.get_height()),\n",
        "             xytext=(0, 1.25),\n",
        "             textcoords=\"offset points\",\n",
        "             ha='center', va='bottom')\n",
        "plt.xticks(rotation=0)\n"
      ],
      "metadata": {
        "colab": {
          "base_uri": "https://localhost:8080/",
          "height": 581
        },
        "id": "lazr8oVUbqQf",
        "outputId": "f4fd1743-d89a-466e-bcb2-b102e24fe92c"
      },
      "execution_count": 61,
      "outputs": [
        {
          "output_type": "execute_result",
          "data": {
            "text/plain": [
              "(array([0, 1, 2]), [Text(0, 0, 'pos'), Text(1, 0, 'neg'), Text(2, 0, 'neu')])"
            ]
          },
          "metadata": {},
          "execution_count": 61
        },
        {
          "output_type": "display_data",
          "data": {
            "text/plain": [
              "<Figure size 1500x600 with 1 Axes>"
            ],
            "image/png": "[encoded data removed]"
          },
          "metadata": {}
        }
      ]
    },
    {
      "cell_type": "code",
      "source": [
        "def plot_sentiment_pie(data):\n",
        "    sentiment_counts = data['Sentiments'].value_counts()\n",
        "\n",
        "    plt.figure(figsize=(4, 4))\n",
        "    plt.pie(sentiment_counts.values, labels=sentiment_counts.index, autopct='%1.1f%%', colors=['#66b3ff','#99ff99','#ff9999'])\n",
        "    plt.title('Sentiment Proportions')\n",
        "    plt.show()\n",
        "\n",
        "plot_sentiment_pie(average_polarity)"
      ],
      "metadata": {
        "colab": {
          "base_uri": "https://localhost:8080/",
          "height": 367
        },
        "id": "aDP7SEK0b_Tb",
        "outputId": "0a6d3a73-3640-457b-e966-c98d2c888945"
      },
      "execution_count": 62,
      "outputs": [
        {
          "output_type": "display_data",
          "data": {
            "text/plain": [
              "<Figure size 400x400 with 1 Axes>"
            ],
            "image/png": "[encoded data removed]"
          },
          "metadata": {}
        }
      ]
    },
    {
      "cell_type": "code",
      "source": [
        "df_reviews.to_csv('df_reviews_sentiments.csv')"
      ],
      "metadata": {
        "id": "USG7Wj3AZ8Bn"
      },
      "execution_count": 63,
      "outputs": []
    },
    {
      "cell_type": "markdown",
      "source": [],
      "metadata": {
        "id": "66vNLJzt3GNs"
      }
    },
    {
      "cell_type": "markdown",
      "source": [
        "citation\n",
        "1. https://www.kaggle.com/code/arushikhokharr/a-beginner-s-guide-to-recommendation-systems"
      ],
      "metadata": {
        "id": "RMpbbAcnwha5"
      }
    },
    {
      "cell_type": "markdown",
      "source": [],
      "metadata": {
        "id": "lYy0ROL_vZS9"
      }
    }
  ]
}