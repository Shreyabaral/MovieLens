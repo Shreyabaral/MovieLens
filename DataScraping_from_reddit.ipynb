{
  "nbformat": 4,
  "nbformat_minor": 0,
  "metadata": {
    "colab": {
      "provenance": []
    },
    "kernelspec": {
      "name": "python3",
      "display_name": "Python 3"
    },
    "language_info": {
      "name": "python"
    }
  },
  "cells": [
    {
      "cell_type": "code",
      "execution_count": 1,
      "metadata": {
        "colab": {
          "base_uri": "https://localhost:8080/"
        },
        "id": "HupWfB4JEysP",
        "outputId": "0153c812-b122-435c-9cd0-ffab14135c99"
      },
      "outputs": [
        {
          "output_type": "stream",
          "name": "stdout",
          "text": [
            "Collecting praw\n",
            "  Downloading praw-7.8.1-py3-none-any.whl.metadata (9.4 kB)\n",
            "Collecting vaderSentiment\n",
            "  Downloading vaderSentiment-3.3.2-py2.py3-none-any.whl.metadata (572 bytes)\n",
            "Requirement already satisfied: tqdm in /usr/local/lib/python3.10/dist-packages (4.66.6)\n",
            "Collecting prawcore<3,>=2.4 (from praw)\n",
            "  Downloading prawcore-2.4.0-py3-none-any.whl.metadata (5.0 kB)\n",
            "Collecting update_checker>=0.18 (from praw)\n",
            "  Downloading update_checker-0.18.0-py3-none-any.whl.metadata (2.3 kB)\n",
            "Requirement already satisfied: websocket-client>=0.54.0 in /usr/local/lib/python3.10/dist-packages (from praw) (1.8.0)\n",
            "Requirement already satisfied: requests in /usr/local/lib/python3.10/dist-packages (from vaderSentiment) (2.32.3)\n",
            "Requirement already satisfied: charset-normalizer<4,>=2 in /usr/local/lib/python3.10/dist-packages (from requests->vaderSentiment) (3.4.0)\n",
            "Requirement already satisfied: idna<4,>=2.5 in /usr/local/lib/python3.10/dist-packages (from requests->vaderSentiment) (3.10)\n",
            "Requirement already satisfied: urllib3<3,>=1.21.1 in /usr/local/lib/python3.10/dist-packages (from requests->vaderSentiment) (2.2.3)\n",
            "Requirement already satisfied: certifi>=2017.4.17 in /usr/local/lib/python3.10/dist-packages (from requests->vaderSentiment) (2024.8.30)\n",
            "Downloading praw-7.8.1-py3-none-any.whl (189 kB)\n",
            "\u001b[2K   \u001b[90m━━━━━━━━━━━━━━━━━━━━━━━━━━━━━━━━━━━━━━━━\u001b[0m \u001b[32m189.3/189.3 kB\u001b[0m \u001b[31m6.2 MB/s\u001b[0m eta \u001b[36m0:00:00\u001b[0m\n",
            "\u001b[?25hDownloading vaderSentiment-3.3.2-py2.py3-none-any.whl (125 kB)\n",
            "\u001b[2K   \u001b[90m━━━━━━━━━━━━━━━━━━━━━━━━━━━━━━━━━━━━━━━━\u001b[0m \u001b[32m126.0/126.0 kB\u001b[0m \u001b[31m7.4 MB/s\u001b[0m eta \u001b[36m0:00:00\u001b[0m\n",
            "\u001b[?25hDownloading prawcore-2.4.0-py3-none-any.whl (17 kB)\n",
            "Downloading update_checker-0.18.0-py3-none-any.whl (7.0 kB)\n",
            "Installing collected packages: vaderSentiment, update_checker, prawcore, praw\n",
            "Successfully installed praw-7.8.1 prawcore-2.4.0 update_checker-0.18.0 vaderSentiment-3.3.2\n"
          ]
        }
      ],
      "source": [
        "pip install praw vaderSentiment tqdm"
      ]
    },
    {
      "cell_type": "code",
      "source": [
        "import praw\n",
        "from tqdm import tqdm\n",
        "import csv\n",
        "import pandas as pd\n",
        "\n",
        "import warnings\n",
        "\n",
        "# Suppress specific warning type (e.g., DeprecationWarning)\n",
        "warnings.filterwarnings('ignore', category=DeprecationWarning)"
      ],
      "metadata": {
        "id": "OH1a8uJWE62V"
      },
      "execution_count": 33,
      "outputs": []
    },
    {
      "cell_type": "code",
      "source": [
        "# 2. Initialize Reddit API client using PRAW\n",
        "reddit = praw.Reddit(\n",
        "    client_id='pPsx95TX-i0nWFf0_jXygg',\n",
        "    client_secret='OSwboGqfZY_-MkgxAjGgGIyjxX_DZA',\n",
        "    user_agent='testscript by u/fakebot3'\n",
        ")"
      ],
      "metadata": {
        "id": "zNaM4stcE1b-"
      },
      "execution_count": 3,
      "outputs": []
    },
    {
      "cell_type": "code",
      "source": [
        "df=pd.read_csv('df.csv')"
      ],
      "metadata": {
        "id": "N1Jl5AqNFQK7"
      },
      "execution_count": 5,
      "outputs": []
    },
    {
      "cell_type": "code",
      "source": [
        "import numpy as np\n",
        "from tqdm import tqdm\n",
        "\n",
        "def get_reddit_posts(tagword, limit=10):\n",
        "    \"\"\"\n",
        "    Searches Reddit for posts related to the given tagword.\n",
        "    Returns a list of dictionaries with post details.\n",
        "    \"\"\"\n",
        "    posts = []\n",
        "    for submission in reddit.subreddit('movies').search(tagword, limit=limit, sort='relevance'):\n",
        "        posts.append({\n",
        "            'title': submission.title,\n",
        "            'selftext': submission.selftext,\n",
        "            'subreddit': submission.subreddit.display_name,\n",
        "            'url': submission.url\n",
        "        })\n",
        "\n",
        "    # If no posts are found, return NaN entries\n",
        "    if not posts:\n",
        "        posts.append({\n",
        "            'title': np.nan,\n",
        "            'selftext': np.nan,\n",
        "            'subreddit': np.nan,\n",
        "            'url': np.nan\n",
        "        })\n",
        "    return posts\n",
        "\n",
        "results = []\n",
        "for movie_id, movie_title in tqdm(df[['movie_id', 'movie_title']].drop_duplicates().values[999:], desc=\"Fetching Reddit Posts\"): #can only scrape 999 at one time hence , we run this function twice with[:999] and [999:]\n",
        "    #tagword = movie_title.split('(')[0].strip()  # generate tagword from movie title\n",
        "    tagword = movie_title\n",
        "\n",
        "    # Get related posts from Reddit\n",
        "    posts = get_reddit_posts(tagword, limit=5)\n",
        "\n",
        "    # If no posts were found, make sure to append a NaN post\n",
        "    if not posts:\n",
        "        posts = [{\n",
        "            'movie_id': movie_id,\n",
        "            'movie_title': movie_title,\n",
        "            'title': np.nan,\n",
        "            'selftext': np.nan,\n",
        "            'subreddit': np.nan,\n",
        "            'url': np.nan\n",
        "        }]\n",
        "\n",
        "    for post in posts:\n",
        "        post['movie_id'] = movie_id\n",
        "        post['movie_title'] = movie_title\n",
        "        results.append(post)\n",
        "\n"
      ],
      "metadata": {
        "id": "oqEu2Hq6E1g5"
      },
      "execution_count": null,
      "outputs": []
    },
    {
      "cell_type": "code",
      "source": [
        "# Check if the number of unique movie_ids remains the same\n",
        "unique_movie_ids = len(set([result['movie_id'] for result in results]))\n",
        "print(f\"Unique movie_ids: {unique_movie_ids}\")"
      ],
      "metadata": {
        "colab": {
          "base_uri": "https://localhost:8080/"
        },
        "id": "lCtU10nOVE2E",
        "outputId": "4b38d366-8a48-4782-dfd6-025d7ab62afe"
      },
      "execution_count": 65,
      "outputs": [
        {
          "output_type": "stream",
          "name": "stdout",
          "text": [
            "Unique movie_ids: 683\n"
          ]
        }
      ]
    },
    {
      "cell_type": "code",
      "source": [
        "df_1= pd.DataFrame(results)\n",
        "df_1.to_csv(\"reddit_posts_2.csv\", index=False)"
      ],
      "metadata": {
        "id": "fHjH47QME1jN"
      },
      "execution_count": 41,
      "outputs": []
    },
    {
      "cell_type": "code",
      "source": [
        "df_1=pd.read_csv('reddit_posts_1.csv')\n",
        "df_2=pd.read_csv('reddit_posts_2.csv')\n",
        "df_sentiments=pd.concat([df_1,df_2])"
      ],
      "metadata": {
        "id": "O3P0JM6LSnvH"
      },
      "execution_count": 52,
      "outputs": []
    },
    {
      "cell_type": "code",
      "source": [
        "df_sentiments['movie_id'].nunique()"
      ],
      "metadata": {
        "colab": {
          "base_uri": "https://localhost:8080/"
        },
        "id": "QE5HaLFuE1lk",
        "outputId": "4e2ea6b1-b606-4818-c650-48ba9e134c73"
      },
      "execution_count": 53,
      "outputs": [
        {
          "output_type": "execute_result",
          "data": {
            "text/plain": [
              "1682"
            ]
          },
          "metadata": {},
          "execution_count": 53
        }
      ]
    },
    {
      "cell_type": "code",
      "source": [
        "df_sentiments.isna().sum()"
      ],
      "metadata": {
        "colab": {
          "base_uri": "https://localhost:8080/",
          "height": 272
        },
        "id": "3ULoakykGocr",
        "outputId": "fc846c51-64b5-48fd-ab27-dd09c4a173f0"
      },
      "execution_count": 54,
      "outputs": [
        {
          "output_type": "execute_result",
          "data": {
            "text/plain": [
              "title          151\n",
              "selftext       683\n",
              "subreddit      151\n",
              "url            151\n",
              "movie_id         0\n",
              "movie_title      0\n",
              "dtype: int64"
            ],
            "text/html": [
              "<div>\n",
              "<style scoped>\n",
              "    .dataframe tbody tr th:only-of-type {\n",
              "        vertical-align: middle;\n",
              "    }\n",
              "\n",
              "    .dataframe tbody tr th {\n",
              "        vertical-align: top;\n",
              "    }\n",
              "\n",
              "    .dataframe thead th {\n",
              "        text-align: right;\n",
              "    }\n",
              "</style>\n",
              "<table border=\"1\" class=\"dataframe\">\n",
              "  <thead>\n",
              "    <tr style=\"text-align: right;\">\n",
              "      <th></th>\n",
              "      <th>0</th>\n",
              "    </tr>\n",
              "  </thead>\n",
              "  <tbody>\n",
              "    <tr>\n",
              "      <th>title</th>\n",
              "      <td>151</td>\n",
              "    </tr>\n",
              "    <tr>\n",
              "      <th>selftext</th>\n",
              "      <td>683</td>\n",
              "    </tr>\n",
              "    <tr>\n",
              "      <th>subreddit</th>\n",
              "      <td>151</td>\n",
              "    </tr>\n",
              "    <tr>\n",
              "      <th>url</th>\n",
              "      <td>151</td>\n",
              "    </tr>\n",
              "    <tr>\n",
              "      <th>movie_id</th>\n",
              "      <td>0</td>\n",
              "    </tr>\n",
              "    <tr>\n",
              "      <th>movie_title</th>\n",
              "      <td>0</td>\n",
              "    </tr>\n",
              "  </tbody>\n",
              "</table>\n",
              "</div><br><label><b>dtype:</b> int64</label>"
            ]
          },
          "metadata": {},
          "execution_count": 54
        }
      ]
    },
    {
      "cell_type": "code",
      "source": [
        "df_sentiments['review'] = df_sentiments['title'].fillna('') + df_sentiments['selftext'].fillna('')"
      ],
      "metadata": {
        "id": "Ot4CRJN7HWvY"
      },
      "execution_count": 55,
      "outputs": []
    },
    {
      "cell_type": "code",
      "source": [
        "col_drop=['title','selftext','subreddit','url']\n",
        "df_sentiments.drop(col_drop,axis=1,inplace=True)"
      ],
      "metadata": {
        "id": "H9-samaXTAaz"
      },
      "execution_count": 57,
      "outputs": []
    },
    {
      "cell_type": "code",
      "source": [
        "df_sentiments.sample(5)"
      ],
      "metadata": {
        "colab": {
          "base_uri": "https://localhost:8080/",
          "height": 206
        },
        "id": "go0gQVL_THZS",
        "outputId": "f7de9b4c-cb81-4c83-f9e7-88f878dee28c"
      },
      "execution_count": 64,
      "outputs": [
        {
          "output_type": "execute_result",
          "data": {
            "text/plain": [
              "      movie_id                  movie_title  \\\n",
              "3632       804       Jimmy Hollywood (1994)   \n",
              "1993      1549             Dream Man (1995)   \n",
              "1693      1456        Beat the Devil (1954)   \n",
              "3643       806     Menace II Society (1993)   \n",
              "3141       690  Seven Years in Tibet (1997)   \n",
              "\n",
              "                                                 review  \n",
              "3632  Full Daily Turner Classic Movie (U.S.) Schedul...  \n",
              "1993  List of YouTube Free Movies w/ Rotten Tomatoes...  \n",
              "1693  Turner Classic Movies (U.S.) Full Daily Schedu...  \n",
              "3643  Best year for film in the last 50 years?I’ve g...  \n",
              "3141  123 lesser-known movies from 1976-2016 that ar...  "
            ],
            "text/html": [
              "\n",
              "  <div id=\"df-eaa4a38b-6af3-46c2-9049-e1fb3491ecfc\" class=\"colab-df-container\">\n",
              "    <div>\n",
              "<style scoped>\n",
              "    .dataframe tbody tr th:only-of-type {\n",
              "        vertical-align: middle;\n",
              "    }\n",
              "\n",
              "    .dataframe tbody tr th {\n",
              "        vertical-align: top;\n",
              "    }\n",
              "\n",
              "    .dataframe thead th {\n",
              "        text-align: right;\n",
              "    }\n",
              "</style>\n",
              "<table border=\"1\" class=\"dataframe\">\n",
              "  <thead>\n",
              "    <tr style=\"text-align: right;\">\n",
              "      <th></th>\n",
              "      <th>movie_id</th>\n",
              "      <th>movie_title</th>\n",
              "      <th>review</th>\n",
              "    </tr>\n",
              "  </thead>\n",
              "  <tbody>\n",
              "    <tr>\n",
              "      <th>3632</th>\n",
              "      <td>804</td>\n",
              "      <td>Jimmy Hollywood (1994)</td>\n",
              "      <td>Full Daily Turner Classic Movie (U.S.) Schedul...</td>\n",
              "    </tr>\n",
              "    <tr>\n",
              "      <th>1993</th>\n",
              "      <td>1549</td>\n",
              "      <td>Dream Man (1995)</td>\n",
              "      <td>List of YouTube Free Movies w/ Rotten Tomatoes...</td>\n",
              "    </tr>\n",
              "    <tr>\n",
              "      <th>1693</th>\n",
              "      <td>1456</td>\n",
              "      <td>Beat the Devil (1954)</td>\n",
              "      <td>Turner Classic Movies (U.S.) Full Daily Schedu...</td>\n",
              "    </tr>\n",
              "    <tr>\n",
              "      <th>3643</th>\n",
              "      <td>806</td>\n",
              "      <td>Menace II Society (1993)</td>\n",
              "      <td>Best year for film in the last 50 years?I’ve g...</td>\n",
              "    </tr>\n",
              "    <tr>\n",
              "      <th>3141</th>\n",
              "      <td>690</td>\n",
              "      <td>Seven Years in Tibet (1997)</td>\n",
              "      <td>123 lesser-known movies from 1976-2016 that ar...</td>\n",
              "    </tr>\n",
              "  </tbody>\n",
              "</table>\n",
              "</div>\n",
              "    <div class=\"colab-df-buttons\">\n",
              "\n",
              "  <div class=\"colab-df-container\">\n",
              "    <button class=\"colab-df-convert\" onclick=\"convertToInteractive('df-eaa4a38b-6af3-46c2-9049-e1fb3491ecfc')\"\n",
              "            title=\"Convert this dataframe to an interactive table.\"\n",
              "            style=\"display:none;\">\n",
              "\n",
              "  <svg xmlns=\"http://www.w3.org/2000/svg\" height=\"24px\" viewBox=\"0 -960 960 960\">\n",
              "    <path d=\"M120-120v-720h720v720H120Zm60-500h600v-160H180v160Zm220 220h160v-160H400v160Zm0 220h160v-160H400v160ZM180-400h160v-160H180v160Zm440 0h160v-160H620v160ZM180-180h160v-160H180v160Zm440 0h160v-160H620v160Z\"/>\n",
              "  </svg>\n",
              "    </button>\n",
              "\n",
              "  <style>\n",
              "    .colab-df-container {\n",
              "      display:flex;\n",
              "      gap: 12px;\n",
              "    }\n",
              "\n",
              "    .colab-df-convert {\n",
              "      background-color: #E8F0FE;\n",
              "      border: none;\n",
              "      border-radius: 50%;\n",
              "      cursor: pointer;\n",
              "      display: none;\n",
              "      fill: #1967D2;\n",
              "      height: 32px;\n",
              "      padding: 0 0 0 0;\n",
              "      width: 32px;\n",
              "    }\n",
              "\n",
              "    .colab-df-convert:hover {\n",
              "      background-color: #E2EBFA;\n",
              "      box-shadow: 0px 1px 2px rgba(60, 64, 67, 0.3), 0px 1px 3px 1px rgba(60, 64, 67, 0.15);\n",
              "      fill: #174EA6;\n",
              "    }\n",
              "\n",
              "    .colab-df-buttons div {\n",
              "      margin-bottom: 4px;\n",
              "    }\n",
              "\n",
              "    [theme=dark] .colab-df-convert {\n",
              "      background-color: #3B4455;\n",
              "      fill: #D2E3FC;\n",
              "    }\n",
              "\n",
              "    [theme=dark] .colab-df-convert:hover {\n",
              "      background-color: #434B5C;\n",
              "      box-shadow: 0px 1px 3px 1px rgba(0, 0, 0, 0.15);\n",
              "      filter: drop-shadow(0px 1px 2px rgba(0, 0, 0, 0.3));\n",
              "      fill: #FFFFFF;\n",
              "    }\n",
              "  </style>\n",
              "\n",
              "    <script>\n",
              "      const buttonEl =\n",
              "        document.querySelector('#df-eaa4a38b-6af3-46c2-9049-e1fb3491ecfc button.colab-df-convert');\n",
              "      buttonEl.style.display =\n",
              "        google.colab.kernel.accessAllowed ? 'block' : 'none';\n",
              "\n",
              "      async function convertToInteractive(key) {\n",
              "        const element = document.querySelector('#df-eaa4a38b-6af3-46c2-9049-e1fb3491ecfc');\n",
              "        const dataTable =\n",
              "          await google.colab.kernel.invokeFunction('convertToInteractive',\n",
              "                                                    [key], {});\n",
              "        if (!dataTable) return;\n",
              "\n",
              "        const docLinkHtml = 'Like what you see? Visit the ' +\n",
              "          '<a target=\"_blank\" href=https://colab.research.google.com/notebooks/data_table.ipynb>data table notebook</a>'\n",
              "          + ' to learn more about interactive tables.';\n",
              "        element.innerHTML = '';\n",
              "        dataTable['output_type'] = 'display_data';\n",
              "        await google.colab.output.renderOutput(dataTable, element);\n",
              "        const docLink = document.createElement('div');\n",
              "        docLink.innerHTML = docLinkHtml;\n",
              "        element.appendChild(docLink);\n",
              "      }\n",
              "    </script>\n",
              "  </div>\n",
              "\n",
              "\n",
              "<div id=\"df-7164db14-8bf5-48a0-ba7f-eea3be81c707\">\n",
              "  <button class=\"colab-df-quickchart\" onclick=\"quickchart('df-7164db14-8bf5-48a0-ba7f-eea3be81c707')\"\n",
              "            title=\"Suggest charts\"\n",
              "            style=\"display:none;\">\n",
              "\n",
              "<svg xmlns=\"http://www.w3.org/2000/svg\" height=\"24px\"viewBox=\"0 0 24 24\"\n",
              "     width=\"24px\">\n",
              "    <g>\n",
              "        <path d=\"M19 3H5c-1.1 0-2 .9-2 2v14c0 1.1.9 2 2 2h14c1.1 0 2-.9 2-2V5c0-1.1-.9-2-2-2zM9 17H7v-7h2v7zm4 0h-2V7h2v10zm4 0h-2v-4h2v4z\"/>\n",
              "    </g>\n",
              "</svg>\n",
              "  </button>\n",
              "\n",
              "<style>\n",
              "  .colab-df-quickchart {\n",
              "      --bg-color: #E8F0FE;\n",
              "      --fill-color: #1967D2;\n",
              "      --hover-bg-color: #E2EBFA;\n",
              "      --hover-fill-color: #174EA6;\n",
              "      --disabled-fill-color: #AAA;\n",
              "      --disabled-bg-color: #DDD;\n",
              "  }\n",
              "\n",
              "  [theme=dark] .colab-df-quickchart {\n",
              "      --bg-color: #3B4455;\n",
              "      --fill-color: #D2E3FC;\n",
              "      --hover-bg-color: #434B5C;\n",
              "      --hover-fill-color: #FFFFFF;\n",
              "      --disabled-bg-color: #3B4455;\n",
              "      --disabled-fill-color: #666;\n",
              "  }\n",
              "\n",
              "  .colab-df-quickchart {\n",
              "    background-color: var(--bg-color);\n",
              "    border: none;\n",
              "    border-radius: 50%;\n",
              "    cursor: pointer;\n",
              "    display: none;\n",
              "    fill: var(--fill-color);\n",
              "    height: 32px;\n",
              "    padding: 0;\n",
              "    width: 32px;\n",
              "  }\n",
              "\n",
              "  .colab-df-quickchart:hover {\n",
              "    background-color: var(--hover-bg-color);\n",
              "    box-shadow: 0 1px 2px rgba(60, 64, 67, 0.3), 0 1px 3px 1px rgba(60, 64, 67, 0.15);\n",
              "    fill: var(--button-hover-fill-color);\n",
              "  }\n",
              "\n",
              "  .colab-df-quickchart-complete:disabled,\n",
              "  .colab-df-quickchart-complete:disabled:hover {\n",
              "    background-color: var(--disabled-bg-color);\n",
              "    fill: var(--disabled-fill-color);\n",
              "    box-shadow: none;\n",
              "  }\n",
              "\n",
              "  .colab-df-spinner {\n",
              "    border: 2px solid var(--fill-color);\n",
              "    border-color: transparent;\n",
              "    border-bottom-color: var(--fill-color);\n",
              "    animation:\n",
              "      spin 1s steps(1) infinite;\n",
              "  }\n",
              "\n",
              "  @keyframes spin {\n",
              "    0% {\n",
              "      border-color: transparent;\n",
              "      border-bottom-color: var(--fill-color);\n",
              "      border-left-color: var(--fill-color);\n",
              "    }\n",
              "    20% {\n",
              "      border-color: transparent;\n",
              "      border-left-color: var(--fill-color);\n",
              "      border-top-color: var(--fill-color);\n",
              "    }\n",
              "    30% {\n",
              "      border-color: transparent;\n",
              "      border-left-color: var(--fill-color);\n",
              "      border-top-color: var(--fill-color);\n",
              "      border-right-color: var(--fill-color);\n",
              "    }\n",
              "    40% {\n",
              "      border-color: transparent;\n",
              "      border-right-color: var(--fill-color);\n",
              "      border-top-color: var(--fill-color);\n",
              "    }\n",
              "    60% {\n",
              "      border-color: transparent;\n",
              "      border-right-color: var(--fill-color);\n",
              "    }\n",
              "    80% {\n",
              "      border-color: transparent;\n",
              "      border-right-color: var(--fill-color);\n",
              "      border-bottom-color: var(--fill-color);\n",
              "    }\n",
              "    90% {\n",
              "      border-color: transparent;\n",
              "      border-bottom-color: var(--fill-color);\n",
              "    }\n",
              "  }\n",
              "</style>\n",
              "\n",
              "  <script>\n",
              "    async function quickchart(key) {\n",
              "      const quickchartButtonEl =\n",
              "        document.querySelector('#' + key + ' button');\n",
              "      quickchartButtonEl.disabled = true;  // To prevent multiple clicks.\n",
              "      quickchartButtonEl.classList.add('colab-df-spinner');\n",
              "      try {\n",
              "        const charts = await google.colab.kernel.invokeFunction(\n",
              "            'suggestCharts', [key], {});\n",
              "      } catch (error) {\n",
              "        console.error('Error during call to suggestCharts:', error);\n",
              "      }\n",
              "      quickchartButtonEl.classList.remove('colab-df-spinner');\n",
              "      quickchartButtonEl.classList.add('colab-df-quickchart-complete');\n",
              "    }\n",
              "    (() => {\n",
              "      let quickchartButtonEl =\n",
              "        document.querySelector('#df-7164db14-8bf5-48a0-ba7f-eea3be81c707 button');\n",
              "      quickchartButtonEl.style.display =\n",
              "        google.colab.kernel.accessAllowed ? 'block' : 'none';\n",
              "    })();\n",
              "  </script>\n",
              "</div>\n",
              "\n",
              "    </div>\n",
              "  </div>\n"
            ],
            "application/vnd.google.colaboratory.intrinsic+json": {
              "type": "dataframe",
              "summary": "{\n  \"name\": \"df_sentiments\",\n  \"rows\": 5,\n  \"fields\": [\n    {\n      \"column\": \"movie_id\",\n      \"properties\": {\n        \"dtype\": \"number\",\n        \"std\": 407,\n        \"min\": 690,\n        \"max\": 1549,\n        \"num_unique_values\": 5,\n        \"samples\": [\n          1549,\n          690,\n          1456\n        ],\n        \"semantic_type\": \"\",\n        \"description\": \"\"\n      }\n    },\n    {\n      \"column\": \"movie_title\",\n      \"properties\": {\n        \"dtype\": \"string\",\n        \"num_unique_values\": 5,\n        \"samples\": [\n          \"Dream Man (1995)\",\n          \"Seven Years in Tibet (1997)\",\n          \"Beat the Devil (1954)\"\n        ],\n        \"semantic_type\": \"\",\n        \"description\": \"\"\n      }\n    },\n    {\n      \"column\": \"review\",\n      \"properties\": {\n        \"dtype\": \"string\",\n        \"num_unique_values\": 5,\n        \"samples\": [\n          \"List of YouTube Free Movies w/ Rotten Tomatoes ScoresPulled together a list of the [movies available for free on YouTube](https://www.reddit.com/r/movies/comments/9xw7b2/\\n), along with their Rotten Tomatoes critic and audience scores. Combined score is an average of the critic score (if available), and the audience score adjusted for the number of ratings using the [SteamDB Rating](https://steamdb.info/blog/steamdb-rating/) equation.\\n\\nDaily reminder that the RT score is the percentage of critics that gave a positive review, not the average critic score. [Fresh is 60% or higher, certified fresh gets a plus mark](https://www.rottentomatoes.com/about#whatisthetomatometer).\\n\\nTitle|Year|Score|Certified|Audience|Ratings|Duration|Link|Combined\\n---|---|---|---|---|---|---|---|---\\nJiro Dreams of Sushi|2012|99|+|92|29905|1:22:28|https://youtu.be/Gr09oEJqnfI|94.56\\nThe Terminator|1984|100|+|89|774969|1:47:13|https://youtu.be/s7_qI6_mIXc|94.17\\nI Wish|2012|93|+|85|2230|2:08:29|https://youtu.be/ryEBdxXsKEg|87.28\\nBig Star: Nothing Can Hurt Me|2013|92||82|1990|1:51:18|https://youtu.be/nuU23sDT6hY|85.37\\nDirty Rotten Scoundrels|1988|88||84|48551|1:50:23|https://youtu.be/c_Kh7jxrlfM|85.34\\nThe World's Fastest Indian|2005|82|+|89|35758|2:07:01|https://youtu.be/5fK1pZ38lqw|84.67\\nDrug War|2013|94|+|77|2559|1:46:46|https://youtu.be/i1FQTxpAQ4Q|84.23\\nFour Weddings and a Funeral|1994|95|+|74|184795|1:57:53|https://youtu.be/LpJr6yuxr_E|84.19\\nJesus Camp|2006|88|+|80|67567|1:24:32|https://youtu.be/zG1o95oqkqI|83.47\\nRocky|1976|93|+|69|33403693|1:59:33|https://youtu.be/Etojf-AFVXI|80.95\\nA Place at the Table|2013|90|+|72|5280|1:24:24|https://youtu.be/UbfS_AJP-Iw|80.17\\nKano|2014|||89|119|3:04:38|https://youtu.be/0CyMLLajsJQ|79.77\\nGood Ol' Freda|2013|85||78|618|1:26:49|https://youtu.be/bsaICbLWlD0|79.48\\nRocky II|1979|74||82|345974|1:59:10|https://youtu.be/bYiMLwgJTa8|77.66\\nOcean Heaven (Haiyang tiantang)|2010|||82|671|1:37:21|https://youtu.be/E34L54sJW5A|77.49\\nMystery Road|2013|91||65|4184|2:01:21|https://youtu.be/yw23Ks_SEoo|77.39\\nGreat World of Sound|2007|81|+|72|1636|1:46:43|https://youtu.be/0IUWkdNhVfE|75.31\\nCountdown to Zero|2010|80|+|72|2487|1:28:58|https://youtu.be/Js-CxhYO590|74.95\\nNew World|2013|67||86|1131|2:15:13|https://youtu.be/vYvtEOS3VIA|74.33\\nThe Timber|2015|||80|244|1:20:21|https://youtu.be/r0FQeGjni6Y|74.27\\nBallet 422|2015|87|+|62|1072|1:15:12|https://youtu.be/I0qU7ZLzoMQ|73.77\\nExperimenter|2015|86|+|61|6942|1:38:04|https://youtu.be/o8XriePFEug|73.12\\nVenus And Serena|2013|77||69|2070|1:39:30|https://youtu.be/8c_w_q60NcM|72.05\\nDumbstruck|2011|71||78|204|1:24:31|https://youtu.be/yegPNJi6No0|71.68\\nWith Great Power: The Stan Lee Story|2010|||76|336|1:20:21|https://youtu.be/Ct9VTQnPa5c|71.49\\nThe Suspect (Yong-eui-ja)|2014|75||71|106|2:17:22|https://youtu.be/R-DAkKeqGZk|70.43\\nLegally Blonde|2001|69||72|972052|1:36:01|https://youtu.be/D-WS5NTuls0|70.33\\nPainted Skin: The Resurrection|2012|83||57|608|2:11:42|https://youtu.be/bWtpRPiOdr8|69.49\\nReturn to Me|2000|61||79|46887|1:55:54|https://youtu.be/nbY5a71f4-U|69.43\\nSaved!|2004|61||78|111590|1:32:37|https://youtu.be/zU-wfZwGmcQ|69.08\\nEuropa Report|2013|81|+|57|17471|1:30:14|https://youtu.be/MLBxd2xxnZ4|68.82\\nRocky III|1982|65||73|345152|1:39:36|https://youtu.be/2D6jy0z49_s|68.75\\nBlackthorn|2011|76|+|61|2238|1:42:23|https://youtu.be/Svtk8-041LE|67.96\\nThe Thieves|2012|67||71|1395|2:16:08|https://youtu.be/hESLMFHkSPo|67.81\\nThe Assassin|2015|81|+|47|5413|1:45:28|https://youtu.be/hRpySnuJfus|64.11\\nKung Fu Killer|2015|72||57|1234|1:40:18|https://youtu.be/suWJdEJ6e3k|64.09\\nRejoice & Shout|2011|77||||1:55:29|https://youtu.be/5cd7uFaqkkc|63.50\\nGrand Piano|2014|79|+|47|9978|1:30:15|https://youtu.be/tjNG5tH6FTk|63.09\\nMonsters|2010|73||53|41441|1:33:58|https://youtu.be/PH-quh5DQVk|62.94\\nMemories of the Sword|2015|75||51|406|2:00:16|https://youtu.be/HmYqUl3bSPU|62.92\\nOut of Time|2003|64||58|58779|1:45:24|https://youtu.be/yk9mZAJY9g0|60.85\\nIp Man: The Final Fight|2013|67||55|4576|1:40:31|https://youtu.be/qGGGLYVxp4Q|60.80\\nThe Great Buck Howard|2009|72||49|32190|1:30:06|https://youtu.be/dTYJ25PoEFE|60.52\\nFrackNation|2013|50||73|287|1:16:49|https://youtu.be/1TaNNX1iCck|59.41\\nThe Last Tycoon|2012|||61|177|1:58:54|https://youtu.be/mHiUvfj2qwo|58.69\\nAll Dogs Go To Heaven|1989|55||62|404333|1:24:37|https://youtu.be/Xiu62ETFlyk|58.38\\nRocky IV|1985|38||79|352195|1:31:31|https://youtu.be/uQaoPz3nuQ0|58.19\\nThrow Momma from the Train|1987|62||54|40484|1:27:43|https://youtu.be/9Ej5gc8xLoQ|57.92\\nInto The White|2013|50||67|1322|1:44:20|https://youtu.be/SBBNav-zkr4|57.52\\nSomtum (Muay Thai Giant)|2008|||59|106|1:42:03|https://youtu.be/tTjq-EO2DfY|56.80\\nTai Chi Zero|2012|61||52|2895|1:38:16|https://youtu.be/obcO6i7TKMc|56.41\\nA Company Man|2013|||56|257|1:36:23|https://youtu.be/zXiGWnseAbM|54.87\\nFlawless|2008|55||54|12567|1:48:43|https://youtu.be/BWdKdp7BVlc|54.38\\nThe Pirates|2014|57||51|482|2:09:56|https://youtu.be/dQ1aErDfnEQ|53.92\\nThe Woods|2006|69||37|25316|1:31:06|https://youtu.be/-fZVhbpjTBI|53.31\\nDino King (Tarbosaurus 3D)|2012|||52|33|1:28:47|https://youtu.be/4SLNdp-uFIg|51.31\\nHackers|1995|32||68|122214|1:45:24|https://youtu.be/5T_CqqjOPDc|49.74\\nTai Chi Hero|2013|50||48|741|1:42:39|https://youtu.be/ILCEY97hpZ0|49.14\\nThe Wrath of Vajra|2013|||48|136|1:51:42|https://youtu.be/CbcuVtb1on4|48.45\\nCommitment|2013|40||58|197|1:52:57|https://youtu.be/84Ja_PZmdho|48.19\\nThe Magic of Belle Isle|2012|30||62|3852|1:49:19|https://youtu.be/TlflQmjlRxQ|45.50\\nThe Lost City|2005|25||64|25934|2:24:18|https://youtu.be/vdIGvm26rRk|44.17\\nThe Man in the Iron Mask|1998|33||55|318914|2:12:00|https://youtu.be/vRSUdXhOIzo|43.94\\nThe Good Heart|2010|30||58|1588|1:39:26|https://youtu.be/U9QZa3X_wx4|43.57\\nGood Boy!|2003|44||39|11884|1:27:43|https://youtu.be/8I-bENXPu0s|41.83\\nThe Assassins (Tong que tai)|2012|||39|186|1:47:15|https://youtu.be/SQaEcA7HEtY|41.28\\nAnd While We Were Here|2013|43||36|723|1:23:31|https://youtu.be/iawb2Lc-508|40.46\\nLegally Blonde 2 - Red, White & Blonde|2003|37||43|471803|1:34:38|https://youtu.be/JuppD-oQKp8|40.07\\nBai she chuan shuo (The Sorcerer and the White Snake)|2013|31||49|6308|1:33:52|https://youtu.be/UJrXBda-7w0|40.04\\nVengeance Of An Assassin|2014|||31|21|1:29:58|https://youtu.be/OSdyW4MV2mI|38.49\\nIgor|2008|37||37|82482|1:26:31|https://youtu.be/QtIreEZYPaE|37.22\\nThe Hero of Color City|2014|25||49|325|1:17:04|https://youtu.be/bSrf4_mQrkQ|37.09\\nUptown Girls|2003|13||60|369642|1:32:30|https://youtu.be/WybszDOC3tQ|36.39\\nSpecial ID|2014|44||25|540|1:39:14|https://youtu.be/5jFNE8nMbxI|36.38\\nAgent Cody Banks|2003|39||31|418345|1:42:11|https://youtu.be/bYpzAPG8mOw|35.19\\nThe Truth About Emanuel|2014|34||34|2576|1:35:44|https://youtu.be/-I5jbIE1GBE|34.75\\nI'll Follow You Down|2014|33||34|489|1:32:49|https://youtu.be/E8Rgw2h5CjE|34.74\\nSleepover|2004|15||54|86979|1:29:29|https://youtu.be/3vRr-A-_j7E|34.43\\nSkating to New York|2014|||29|104|1:33:22|https://youtu.be/WzlGrjph9u4|34.17\\nWu Dang|2012|||25|80|1:40:33|https://youtu.be/nN0zA48bifc|31.66\\nMain Street|2011|13||||1:33:58|https://youtu.be/sFPwtDXk1Es|31.50\\nA Long Way Down|2014|21||40|5762|1:35:53|https://youtu.be/WDWwHeEVi74|30.87\\nA Guy Thing|2003|24||35|73241|1:41:33|https://youtu.be/h2vaUr2OC-Y|29.76\\nTrail of the Pink Panther|1982|25||33|7908|1:36:50|https://youtu.be/n88fhvh9Jww|29.57\\nRocky V|1990|27||31|267953|1:44:09|https://youtu.be/Ih6rONrqkZY|29.22\\nCurse of the Pink Panther|1983|29||25|1918|1:50:26|https://youtu.be/mUPhN7t_ttw|28.28\\nZookeeper|2011|14||41|44634|1:41:50|https://youtu.be/jgOT-TJQ5AE|27.68\\nVery Good Girls|2014|20||34|4464|1:30:52|https://youtu.be/UUqvyX3BtGM|27.64\\nSwelter|2014|||21|156|1:40:13|https://youtu.be/Q1mtYvdbgTQ|27.33\\nPink Panther 2|2009|12||42|116247|1:32:01|https://youtu.be/XYpYi_sKal0|27.12\\nBio-Dome|1996|4||50|98414|1:34:49|https://youtu.be/vrsG-1FAp78|27.00\\nLegendaryazons|2011|||18|86|1:48:10|https://youtu.be/8v9MI2nBABk|26.34\\nSlightly Single in L.A.|2013|||18|216|1:28:18|https://youtu.be/DSaP_xZnBHU|24.34\\nPolice Story: Lockdown|2015|13||33|560|1:50:27|https://youtu.be/APUznaUmmHg|24.26\\nWhat's the Worst That Could Happen?|2001|10||35|17013|1:38:28|https://youtu.be/9LaZ6pqSnqM|22.90\\nAgent Cody Banks 2: Destination London|2004|14||30|219747|1:40:05|https://youtu.be/-llHxSH-hSE|22.25\\nMcCanick|2014|13||15|244|1:36:29|https://youtu.be/kPTTzSnWQcw|17.34\\nThe White Haired Witch of Lunar Kingdom|2014|0||20|114|1:44:02|https://youtu.be/aFnuFKdG1ok|13.60\\nSon of the Pink Panther|1993|6||18|5276|1:32:38|https://youtu.be/j5116xmA1TU|13.21\\n\",\n          \"123 lesser-known movies from 1976-2016 that are worth watching.**Edit**: The years 1950-1975 have been added, bringing the total to 201.\\n\\nI decided to divide these up according to year:\\n\\n**1950**:\\n \\n[No Way Out] (https://youtu.be/eEsRfQd9lbw) - A black doctor is assigned to treat two racist white, robbery suspects who are brothers, and when one dies, it causes tension that could start a race riot.\\n \\n[Stage Fright] (https://youtu.be/iNVlqWL4UnA) - A struggling actress tries to help a friend prove his innocence when he's accused of murdering the husband of a high society entertainer.\\n \\n[The Men] (https://youtu.be/346Kp86N4a4) - A paralized war vet tries to adjust to the world without the use of his limbs.\\n \\n**1951**:\\n \\n[The Browning Version] (https://youtu.be/Oexu0qFjUDw) - Forced to retire from an English public school, an unpopular professor must confront his failure as a teacher and husband.\\n \\n[The Tales of Hoffmann] (https://youtu.be/HN82DTbamkA) - A melancholy poet reflects on three women he loved and lost in the past: a mechanical performing doll, a Venetian courtesan, and the consumptive daughter of a celebrated composer.\\n \\n[Westward the Women] (https://youtu.be/F4uey4-H6wU) - A trail guide escorts a group of women from Chicago to California to marry men that have recently began settling there.\\n \\n**1952**:\\n \\n[Limelight] (https://youtu.be/I7KZbxd-_3k) - A fading comedian and a suicidally despondent ballet dancer must look to each other to find meaning and hope in their lives.\\n \\n[Scaramouche] (https://youtu.be/yzYEYyOsQtA) - In 18th century France, a man sets out to avenge the death of his friend at the hands of a master swordsman.\\n \\n[The Bad and the Beautiful] (https://youtu.be/yZMnVfVEx3I) - An unscrupulous movie producer uses an actress, a director and a writer to achieve success.\\n \\n**1953**:\\n \\n[I Confess] (https://youtu.be/NiajVY-f99s) - A priest who comes under suspicion for murder cannot clear his name without breaking the seal of the confessional.\\n \\n[Lili] (https://youtu.be/a95uzzFdDIY) - An orphaned young woman becomes part of a puppet act and forms a relationship with the anti-social puppeteer.\\n \\n[The Cruel Sea] (https://youtu.be/fCpAD949nlo) - The World War II adventures of a British convoy escort ship and its officers.\\n \\n**1954**:\\n \\n[Johnny Guitar] (https://youtu.be/7VypmdZ_vCQ) - After helping a wounded gang member, a strong-willed female saloon owner is wrongly suspected of murder and bank robbery by a lynch mob.\\n \\n[Journey to Italy] (https://youtu.be/XXJM3shx8WU) - An unhappily married couple attempts to find direction and insight while vacationing in Naples.\\n \\n[Salt of the Earth] (https://youtu.be/l6Ro8dvYpsM) - Based on an actual strike against the Empire Zinc Mine in New Mexico, the film deals with the prejudice against the Mexican-American workers, who struck to attain wage parity with Anglo workers in other mines and to be treated with dignity by the bosses.\\n \\n**1955**:\\n \\n[Bad Day at Black Rock] (https://youtu.be/kMpV93HPktk) - A one-armed stranger comes to a tiny town possessing a terrible past they want to keep secret, by violent means if necessary.\\n \\n[Blackboard Jungle] (https://youtu.be/03Vrx_kHa94) - A new English teacher at a violent, unruly inner-city school is determined to do his job, despite resistance from both students and faculty.\\n \\n[Confidential Report] (https://youtu.be/5PxVfC1dYWg) - An American adventurer investigates the past of mysterious tycoon Arkadin, placing himself in grave danger.\\n \\n**1956**:\\n \\n[Patterns] (https://youtu.be/B7oWRDpst6g) - When Fred Staples is recruited onto the board of a high-powered New York corporation, he finds his ethics and ambition at odds.\\n \\n[The Catered Affair] (https://youtu.be/S4FA32iitP0) - After Jane announces that she and Ralph are getting married the next week, Jane's mother attempts to give them a big wedding despite facing objections.\\n \\n[The Harder They Fall] (https://youtu.be/hLWbbQcW5js) - Down-on-his-luck ex-sportswriter Eddie Willis is hired by shady fight promoter Nick Benko to promote his unknown, but easily exploitable find from Argentina.\\n \\n**1957**:\\n \\n[3:10 to Yuma] (https://youtu.be/LDxWwFswo3k) - Broke small-time rancher Dan Evans is hired by the stagecoach line to put big-time captured outlaw leader Ben Wade on the 3:10 train to Yuma but Wade's gang tries to free him.\\n \\n[Abandon Ship] (https://youtu.be/xVm2dbMdXRs) - A ship's officer finds himself in command of a lifeboat full of survivors of a sunken luxury liner.\\n \\n[Big Time Operators] (https://youtu.be/j47GtisdS3I) - A young couple inherits a debt-ridden old movie theater, appropriately nicknamed \\\"The Flea Pit,\\\" and the three eccentric senior citizens who work there.\\n \\n**1958**:\\n \\n[Ice Cold in Alex] (https://youtu.be/qaJ5UBi4z2c) - During WW2 in North Africa, a medical field unit must cross the desert in their ambulance in order to reach the British lines in Alexandria.\\n \\n[The Big Country] (https://youtu.be/EUrD0In9FwU) - A New Englander arrives in the Old West, where he becomes embroiled in a feud between two families over a valuable patch of land.\\n \\n[The Inn of the Sixth Happiness] (https://youtu.be/ugjILfF6ftE) - Based on the true life exploits of Gladys Aylward who set off to China to work as a missionary and teacher.\\n \\n**1959**:\\n \\n[Look Back in Anger] (https://youtu.be/wKk5gzEhphY) - A disillusioned, angry university graduate comes to terms with his grudge against middle-class life and values.\\n \\n[Shadows] (https://youtu.be/6X4g-NtzwEE) - Cassavetes' jazz-scored improvisational film explores interracial friendships and relationships in Beat-Era (1950s) New York City.\\n \\n[Warlock] (https://youtu.be/qgLUMPjuHy4) - A famous gunman becomes the marshal of Warlock to end a gang's rampages, but is met with some opposition by a former gang member turned deputy sheriff who wants to follow only legal methods.\\n \\n**1960**:\\n \\n[Home from the Hill] (https://youtu.be/ywYo1BpyNdI) - The story of the influential Hunnicutt family set in Texas during the late 1950s.\\n \\n[Tunes of Glory] (https://youtu.be/nl_yraJydWQ) - Two senior officers conflict with each other in the cloistered environment of a Scottish military regiment.\\n \\n[Wild River] (https://youtu.be/mZm_Tfk-yD4) - A TVA bureaucrat comes to the river to do what none of his predecessors have been able to do - evict a stubborn octogenarian from her island before the rising waters engulf her.\\n \\n**1961**:\\n \\n[El Cid] (https://youtu.be/1ZzCrkIf5Sc) - The fabled Spanish hero Rodrigo Diaz (a.k.a. El Cid) faces obstacles regarding a family vendetta and court intrigue while attempting to defend Christian Spain against the Moors.\\n \\n[Splendor in the Grass] (https://youtu.be/s-CKnxqdRZg) - A fragile Kansas girl falls in love with a handsome young man from the town's most powerful family, but both face pressures within the relationship.\\n \\n[The Day the Earth Caught Fire] (https://youtu.be/IUFtgep9sj4) - When the U.S. and Russia unwittingly test atomic bombs at the same time, it alters the nutation (axis of rotation) of the Earth.\\n \\n**1962**:\\n \\n[Advise & Consent] (https://youtu.be/5eb1RQ7prJY) - Senate investigation into the President's newly nominated Secretary of State gives light to a secret from the past, which may not only ruin the candidate, but the President's character as well.\\n \\n[David and Lisa] (https://youtu.be/TAfhzGMOZIQ) - The story of a young man in a mental institution for teens who begins to understand his psychosis in the environment of others with mental and emotional problems.\\n \\n[Light in the Piazza] (https://youtu.be/7yw3DevLuZY) - The interactions between a young Italian man and young American woman, who has the mental capacity equivalent to that of a ten year old due to a mental disability caused by a head injury she received as a child.\\n \\n**1963**:\\n \\n[A Child Is Waiting] (https://youtu.be/GxXcopSTZXg) - When Jean Hansen comes to a school for disabled children to work there as a teacher, she becomes particularly interested in young Reuben, an autistic boy whose parents have not visited him for several years.\\n \\n[Love with the Proper Stranger] (https://youtu.be/OTQVQSt_rT8) - When Angie Rossini finds out she's pregnant, she tracks down Rocky Papasano the musician with whom she had a fling with.\\n \\n[Spencer's Mountain] (https://youtu.be/5SIPS9zKZBk) - The lives of Clay Spencer, his wife Olivia Spencer, and their nine children, who are the third and fourth generations of Spencers who have lived on Spencer's Mountain in the Snake River Valley nestled within the Grand Tetons of Wyoming.\\n \\n**1964**:\\n \\n[7 Faces of Dr. Lao] (https://youtu.be/ERVaBzEzzUs) - A mysterious circus comes to a western town bearing wonders and characters that entertain the inhabitants and teach valuable lessons.\\n \\n[Seven Days in May] (https://youtu.be/73rHOk0pUls) - United States military leaders plot to overthrow the President because he supports a nuclear disarmament treaty and they fear a Soviet sneak attack.\\n \\n[The Americanization of Emily] (https://youtu.be/qy7f6zH_yA8) - An American naval officer's talent for living the good life in wartime is challenged when he falls in love and is sent on a dangerous mission.\\n \\n**1965**:\\n \\n[In Harm's Way] (https://youtu.be/iZNGb745Euo) - A naval officer reprimanded after Pearl Harbor is later promoted to rear admiral and gets a second chance to prove himself against the Japanese.\\n \\n[The Flight of the Phoenix] (https://youtu.be/veQnGDl65bI) - After a plane crash in the Sahara, one of the survivors says he's an airplane designer and they can make a flyable plane from the wreckage.\\n \\n[The Great Race] (https://youtu.be/9biklE2wA6M) - A grand adventurous race takes place between the heroic Leslie and the despicable Professor Fate across three continents.\\n \\n**1966**:\\n \\n[Follow Me, Boys!] (https://youtu.be/wnW4E98OIcQ) - A traveling band member becomes scoutmaster of a scout troop and helps the youth of a small town.\\n \\n[Grand Prix] (https://youtu.be/UHkdux17PBs) - American Grand Prix driver Pete Aron is fired by his Jordan-BRM racing team after a crash at Monaco that injures his British teammate, Scott Stoddard.\\n \\n[The Chase] (https://youtu.be/_a4MR7qcTzI) - The escape of Bubber Reeves from prison affects the inhabitants of a small Southern town.\\n \\n**1967**:\\n \\n[Point Blank] (https://youtu.be/QahqI4OtY3s) - After being double-crossed and left for dead, a mysterious man named Walker single-mindedly tries to retrieve the rather inconsequential sum of money that was stolen from him.\\n \\n[To Sir, with Love] (https://youtu.be/yruJf79dudQ) - Focuses on an idealistic engineer-trainee and his experiences in teaching a group of rambunctious white high school students from the slums of London's East End.\\n \\n[Two for the Road] (https://youtu.be/EvMR85ykhdA) - Follows the lives of Joanna, a member of a touring girl's choir, and Mark, a struggling architect, after they first meet on the road in Europe.\\n \\n**1968**:\\n \\n[Charly] (https://youtu.be/bkqEe8Y4GPc) - Scientists try an experimental treatment on Charly, a good natured adult with a cognitive disability, which raises his IQ to genius levels but which does not give him emotional maturity.\\n \\n[Faces] (https://youtu.be/l_53iJ6JF68) - After a middle-aged man leaves his wife for a younger woman, his ex-wife also begins a relationship with a younger partner.\\n \\n[The Mercenary] (https://youtu.be/bbvUrq72T74) - While a Mexican revolutionary lies low as a U.S. rodeo clown, the cynical Polish mercenary who tutored the idealistic peasant tells how he and a dedicated female radical fought for the soul of the guerrilla general Paco, as Mexicans threw off repressive government and all-powerful landowners in the 1910s.\\n \\n**1969**:\\n \\n[Kes] (https://youtu.be/Q2BMFtefUag) - Bullied at school and ignored and abused at home by his indifferent mother and older brother, Billy Casper (David Bradley), a 15-year-old working-class Yorkshire boy, tames and trains his pet kestrel falcon whom he names Kes.\\n \\n[Medium Cool] (https://youtu.be/w_a7MH7_31A) - A TV news reporter finds himself becoming personally involved in the violence that erupts around the 1968 Democratic National Convention.\\n \\n[The Prime of Miss Jean Brodie] (https://youtu.be/xNrtml5D2Aw) - A headstrong young teacher in a private school in 1930s Edinburgh ignores the curriculum and influences her impressionable 12 year old charges with her over-romanticized world view.\\n \\n**1970**:\\n \\n[Husbands] (https://youtu.be/YRJ8VecuWEQ) - A common friend's sudden death brings three men, married with children, to reconsider their lives and ultimately leave together.\\n \\n[The Phantom Tollbooth] (https://youtu.be/gh2jQNNjpns) - Milo, a boy who is bored with life, comes home to find a toll booth in his room and gets in his toy car to drives through, only to emerge in a world full of adventure.\\n \\n[The Railway Children] (https://youtu.be/jCbFtn_ENVw) - After the enforced absence of their father, three children move with their mother to Yorkshire, where during their adventures they attempt to discover the reason for his disappearance.\\n \\n**1971**:\\n \\n[Minnie and Moskowitz] (https://youtu.be/hIPoCwux0kI) - After Minnie breaks up with her married boyfriend and becomes disillusioned, her feelings begin to change when she meets a crazy car-parker named Seymour.\\n \\n[Red Sun] (https://youtu.be/VJ0OiTGeCZ0) - In 1870, a gang robs a train and steals a ceremonial Japanese sword meant as a gift from Japan to the U.S. President, prompting a man hunt to retrieve it.\\n \\n[Walkabout] (https://youtu.be/pyMSzeXI5NE) - Two young siblings stranded in the Australian Outback are forced to cope on their own and meet an Australian boy on \\\"walkabout\\\": a ritual separation from his tribe.\\n \\n**1972**:\\n \\n[Across 110th Street] (https://youtu.be/Cxof6gidDO8) - Two New York City cops go after amateur crooks who are trying to rip off the Mafia and start a gang war.\\n \\n[The Culpepper Cattle Co.] (https://youtu.be/TSMFCJDVWms) - A young farmboy who always wanted to be a cowhand talks a tough trail boss into hiring him on a cattle drive.\\n \\n[The Effect of Gamma Rays on Man-in-the-Moon Marigolds] (https://youtu.be/G-qN-1YyFyY) - The story of a middle-aged widowed eccentric named Beatrice Hunsdorfer and her daughters, a rebellious epileptic named Ruth and a quiet science enthusiast named Matilda.\\n \\n**1973**:\\n \\n[Emperor of the North] (https://youtu.be/5jn-ZS7g8xs) - In 1933, during the Depression, Shack the brutal conductor of the number 19 train has a personal vendetta against the best train hopping hobo tramp in the Northwest, A No. 1.\\n \\n[Scarecrow] (https://youtu.be/RmOlDDUT6h0) - Max, an ex-con drifter with a penchant for brawling is amused by Lion, a homeless ex-sailor, and they partner up as they head east together.\\n \\n[The Last Detail] (https://youtu.be/6ZUfuN2DNJ0) - Two Navy men are ordered to bring a young offender to prison, but decide to show him one last good time along the way.\\n \\n**1974**:\\n \\n[A Woman Under the Influence] (https://youtu.be/d5O7ujg3VQU) - Mabel, a wife and mother, is loved by her husband Nick but her mental illness proves to be a problem in the marriage.\\n \\n[Conrack] (https://youtu.be/ZTePeZag_yI) - A young, white teacher is assigned to an isolated island off the coast of South Carolina populated mostly by poor black families.\\n \\n[The Yakuza] (https://youtu.be/y1lQd2lz7n8) - Harry Kilmer returns to Japan after several years in order to rescue his friend George's kidnapped daughter and ends up on the wrong side of the Yakuza, the notorious Japanese mafia.\\n \\n**1975**:\\n \\n[Night Moves] (https://youtu.be/YdvuugevTbs) - Los Angeles private detective Harry Moseby is hired by a client to find her runaway teenage daughter and he stumbles upon a case of murder and artifact smuggling.\\n \\n[The Sunshine Boys] (https://youtu.be/obJ8f3UBc1E) - A vaudeville duo agree to reunite for a TV special, but it turns out that they can't stand each other.\\n \\n[The Wind and the Lion] (https://youtu.be/1s587_qG8eg) - In early 20th century Morocco, a Sharif kidnaps an American woman and her children, forcing President Theodore Roosevelt to send in forces to conduct a rescue mission.\\n \\n**1976**:\\n \\n[Mikey and Nicky] (https://youtu.be/vYp0V-VVvJ8) - In Philadelphia, a small-time bookie who stole mob money is in hiding and he begs a childhood friend to help him evade the hit-man who's on his trail.\\n \\n[The Front] (https://youtu.be/QuAWRf1CmiQ) - In 1953, a cashier poses as a writer for blacklisted talents to submit their work through, but the injustice around him pushes him to take a stand.\\n \\n[The Shootist] (https://youtu.be/i7QQD5xoxfw) - A dying gunfighter spends his last days looking for a way to die with a minimum of pain and a maximum of dignity.\\n \\n**1977**:\\n \\n[Sorcerer] (https://youtu.be/3BDbIzovuos) - Four unfortunate men from different parts of the globe agree to risk their lives transporting gallons of nitroglycerin across dangerous South American jungle.\\n \\n[The Duellists] (https://youtu.be/9e6XE4E0Rvk) - A small feud between two Napoleonic officers evolves into a decades-long series of duels.\\n \\n[The Late Show] (https://youtu.be/BlVf6HZAbJg) - A grumpy semi-retired private investigator partners with a quirky female client to catch the people who murdered his partner.\\n \\n**1978**:\\n \\n[Big Wednesday] (https://youtu.be/BEdOnf1JhF8) - The lives of some California surfers from the early 1960s to the 1970s.\\n \\n[The Driver] (https://youtu.be/DHphfIAkAfg) - A getaway driver becomes the latest assignment for a tenancious detective.\\n \\n[The Silent Partner] (https://youtu.be/ZqwKzT19WQo) - A timid bank teller anticipates a bank robbery and steals the money himself before the crook arrives.\\n \\n**1979**:\\n \\n[Return of the Secaucus Seven] (https://youtu.be/ZlZxA9WdDBw) - Seven former college friends, along with a few new friends, gather for a weekend reunion at a summer house in New Hampshire to reminisce about the good old days, when they got arrested on the way to a protest in Washington, DC.\\n \\n[The China Syndrome] (https://youtu.be/UFMsnicAtiY) - A reporter finds what appears to be a cover-up of safety hazards at a nuclear power plant.\\n \\n[The Wanderers] (https://youtu.be/LacD6mHpBhY) - In 1963 New York, an Italian gang called the Wanderers attempt to defend their honor and turf against rival gangs.\\n \\n**1980**:\\n \\n[Brubaker] (https://www.youtube.com/watch?v=-eVzHtmJR7g) - The new warden of a small prison farm in Arkansas tries to clean it up of corruption after initially posing as an inmate.\\n \\n[Lion of the Desert] (https://youtu.be/Rsp5beaSgzw) - The story of the Libyan resistance leader, Omar Mukhtar, who led the Libyan resistance against the Italian opressors from 1911-1931.\\n \\n[The Long Riders] (https://youtu.be/4Y18SAwz1vI) - The origins, exploits and the ultimate fate of the Jesse James gang is told in a sympathetic portrayal of the bank robbers made up of brothers who begin their legendary bank raids because of revenge.\\n \\n**1981**:\\n \\n[American Pop] (https://youtu.be/6-UCLiQ5EdQ) - The story of four generations of a Russian Jewish immigrant family of musicians whose careers parallel the history of American popular music in the 20th century.\\n \\n[My Dinner with Andre] (https://youtu.be/n7hSY0QOkII) - Two old friends meet for dinner; as one tells anecdotes detailing his experiences, the other notices their differing worldviews.\\n \\n[Ragtime] (https://youtu.be/rmeMCzW-me4) - A young black pianist becomes embroiled in the lives of an upper-class white family set among the racial tensions, infidelity, violence, and other events in early 1900s New York City.\\n \\n**1982**:\\n \\n[Diner] (https://youtu.be/__Q6_27KKEc) - A group of college-age buddies struggle with their imminent passage into adulthood in 1959 Baltimore.\\n \\n[The Plague Dogs] (https://youtu.be/7B90X7NchOs) - Two dogs escape from a laboratory and are hunted as possible carriers of the bubonic plague.\\n \\n[The Year of Living Dangerously] (https://youtu.be/IL6BqLMZJyA) - A young Australian reporter tries to navigate the political turmoil of Indonesia during the rule of President Sukarno with the help of a diminutive photographer.\\n \\n**1983**:\\n \\n[Local Hero] (https://youtu.be/nufb3JysCgY) - An American oil company sends a man to Scotland to buy up an entire village where they want to build a refinery, but things don't go as expected.\\n \\n[Testament] (https://youtu.be/CQJy1465NSU) - The life of a suburban American family is scarred after a nuclear attack.\\n \\n[Under Fire] (https://youtu.be/iBV_ZNh1cNg) - Three journalists in a romantic triangle are involved in political intrigue during the last days of the corrupt Somozoa regime in Nicaragua before it falls to a popular revolution in 1979.\\n \\n**1984**:\\n \\n[Another Country] (https://youtu.be/fe9NP-e6p68) - Based on the life of the young Guy Burgess, who would become better known as one of the Cambridge Spies.\\n \\n[Broadway Danny Rose] (https://youtu.be/MQshyrB_sD8) - In his attempts to reconcile a lounge singer with his mistress, a hapless talent agent is mistaken as her lover by a jealous gangster.\\n \\n[Where the Green Ants Dream] (https://youtu.be/dddMp8iknTA) - A geologist employed by an Australian mining company finds himself disputing the rights of some aborigines who believe their land to be sacred.\\n \\n**1985**:\\n \\n[The Adventures of Mark Twain] (https://youtu.be/yE9GyJcVCdU) - Tom Sawyer, Becky Thatcher and Huck Finn join Mark Twain on his airship to meet Halley's Comet.\\n \\n[The Journey of Natty Gann] (https://youtu.be/leaqKfAB12o) - In the 1930s, a tomboyish girl runs away from her guardian to join her single father who is 2,000 miles away, because there was work there.\\n \\n[To Live and Die in L.A.] (https://youtu.be/I5JI_RclmIg) - A fearless Secret Service agent will stop at nothing to bring down the counterfeiter who killed his partner.\\n \\n**1986**:\\n \\n[Malcolm] (https://youtu.be/zH1EROqSx9s) - After getting fired for building his own tram, Malcolm gets Frank, who has just been released from jail, to move in to help pay the bills.\\n \\n[Salvador] (https://youtu.be/Od1wfZe6EvE) - An American photojournalist gets caught in a political struggle at El Salvador in 1980.\\n \\n[True Stories] (https://youtu.be/mhRgCsQf3CU) - A small but growing Texas town, filled with strange and musical characters, celebrates its sesquicentennial and converge on a local parade and talent show.\\n \\n**1987**:\\n \\n[Bagdad Cafe] (https://youtu.be/4G2MEszpox0) - A lonely German woman ends up in the most desolate motel on Earth and decides to make it brighter.\\n \\n[Matewan] (https://youtu.be/VCIoiHf_Lt4) - A labor union organizer comes to an embattled mining community brutally and violently dominated and harassed by the mining company.\\n \\n[Some Kind of Wonderful] (https://youtu.be/aNmP7z1Eemo) - When Keith goes out with Amanda, the girl of his dreams, Keith's best friend, tomboy Watts, realizes she has feelings for Keith.\\n \\n**1988**:\\n \\n[Bird] (https://youtu.be/2qaSYknbapk) - The troubled life and career of the jazz musician, Charlie \\\"Bird\\\" Parker.\\n \\n[Gorillas in the Mist] (https://youtu.be/-PPSIwe7sb8) - The story of Dian Fossey, a scientist who came to Africa to study the vanishing mountain gorillas, and later fought to protect them.\\n \\n[Miracle Mile] (https://youtu.be/V9qWKgDI7ps) - A young man hears a chance phone call telling him that a nuclear war has started and missiles will hit his city in 70 minutes.\\n \\n**1989**:\\n \\n[Henry V] (https://youtu.be/okxEzUlnn_0) - In the midst of the Hundred Years War, the young King Henry V of England embarks on the conquest of France in 1415.\\n \\n[Lean on Me] (https://youtu.be/evA9nkdOhKU) - The dedicated but tyrannical Joe Clark is appointed the principal of a decaying inner-city school and he is determined to improve by any and all means.\\n \\n[The Unbelievable Truth] (https://youtu.be/Sljkz-OS20s) - A man returns to his home town after serving a prison sentence for homicide, and finds that the details of the crime have been forgotten and replaced with local legends and rumors.\\n \\n**1990**:\\n \\n[Hidden Agenda] (https://www.youtube.com/watch?v=IIy6Cj8NYrQ) - When an American human rights lawyer is assassinated in Belfast, it remains for the man's girlfriend, as well as a tough, no nonsense, police detective to find the truth.\\n \\n[State of Grace] (https://youtu.be/PN_L96iEQfQ) - A New York cop is recruited to return to his hometown and infiltrate the mob ran by his best friend's brother.\\n \\n[The Field] (https://youtu.be/2Jr-70M6s4w) - \\\"Bull\\\" McCabe's family has farmed a field for generations, sacrificing endlessly for the sake of the land, and when the widow, who owns the field, decides to sell the field in a public auction, McCabe knows that he must own it, but runs into trouble with another bidder that wants the field to build a highway.\\n \\n**1991**:\\n \\n[Europa] (https://youtu.be/IHTttM5OSro) - Just after W.W.II, an American takes a railway job in Germany, but finds his position politically sensitive with various people trying to use him.\\n \\n[Riff-Raff] (https://youtu.be/6TkyRQkpEtI) - The story of a construction worker named Stevie and his unemployed pop singer girlfriend, which serves to show the living conditions of the British poor class.\\n \\n[The Indian Runner] (https://youtu.be/iEU3RsJdWGY) - A Vietnam vet comes home to his small town and finds himself in conflict with rules that his brother has vowed to uphold.\\n \\n**1992**:\\n \\n[American Me] (https://youtu.be/uS-kGp0Fjho) - A Mexican-American Mafia kingpin is released from prison, falls in love for the first time, and grows introspective about his gangster lifestyle.\\n \\n[One False Move] (https://youtu.be/PP-4dGY2gYc) - A small town police chief awaits the arrival of a gang of killers.\\n \\n[The Long Day Closes] (https://youtu.be/6Gd9IVdLX3Y) - The story of an 11-year-old named Bud, a sad and lonely boy who struggles through his days, with the movies that play at the local movie-house serving as his main source of solace.\\n \\n**1993**:\\n \\n[Fearless] (https://youtu.be/nnsdUVp06Dc) - A man's personality is dramatically changed after surviving a major airline crash.\\n \\n[The Secret Adventures of Tom Thumb] (https://youtu.be/t8G_imDKpVA) - A boy born the size of a small doll is kidnapped by a genetic lab, and meets a variety of strange creatures while finding a way back to his father.\\n \\n[Thirty Two Short Films About Glenn Gould] (https://youtu.be/myaI4OARKaw) - A collection of vignettes highlighting different aspects of the life, work, and character of the acclaimed Canadian classical pianist.\\n \\n**1994**:\\n \\n[Fresh] (https://youtu.be/a_9hTnNErbo) - Death and violence anger a 12-year-old drug courier, who sets his employers against each other.\\n \\n[Vanya on 42nd Street] (https://youtu.be/ooVAo8FIpXw) - New York actors rehearse Chekhov's \\\"Uncle Vanya\\\" in a dilapidated theatre.\\n \\n[War of the Buttons] (https://youtu.be/bvi5v0x88n0) - Rival gangs of young Irish kids enjoin in constantly escalating battles that ultimately entails the removal of the buttons from the clothes of captured losers.\\n \\n**1995**:\\n \\n[Institute Benjamenta, or This Dream That One Calls Human Life] (https://youtu.be/L3_A9X1XB44) - In a dreamlike and surreal world, a school for servants is visited by a young man whose presence impacts the people there, and possibly even the school itself.\\n \\n[Land and Freedom] (https://youtu.be/HDOzOhdazLQ) - David is an unemployed communist that comes to Spain in 1937 during the civil war to enroll the republicans and defend the democracy against the fascists.\\n \\n[Living in Oblivion] (https://youtu.be/QjoJjWvKiUY) - A film about filmmaking, which takes place during one day on the set of a low-budget movie.\\n \\n**1996**:\\n \\n[Lone Star] (https://youtu.be/UffK-IHM1B0) - When the skeleton of his murdered predecessor is found, Sheriff Sam Deeds unearths many other long-buried secrets in his Texas border town.\\n \\n[Small Faces] (https://youtu.be/BFwYPhGzNQ4) - Lex, a self-assured prankster in 1968 Glasgow, begins a downward spiral after he accidentally shoots the leader of his brother's gang, but Lex's cockiness and immaturity unfortunately prevent him from understanding the effect his subsequent crimes will have on both himself, and on those around him.\\n \\n[Some Mother's Son] (https://youtu.be/n0aYvlQbZz4) - Focuses on the mothers that struggle to save the lives of their sons that are involved in the 1981 hunger strike in a British prison, in which IRA prisoner Bobby Sands led a protest against the treatment of IRA prisoners as criminals rather than as prisoners of war.\\n \\n**1997**:\\n \\n[Gridlock'd] (https://youtu.be/Zz12rUg_15c) - After a friend overdoses, Spoon and Stretch decide to kick their drug habits and attempt to enroll in a government detox program, but their efforts are hampered by seemingly endless red tape, as they are shuffled from one office to another while being chased by drug dealers and the police.\\n \\n[Kundun] (https://youtu.be/cFm8oP9c9Hs) - From childhood to adulthood, Tibet's fourteenth Dalai Lama deals with Chinese oppression and other problems.\\n \\n[Niagara, Niagara] (https://youtu.be/86Zo2dfNrb4) - An outsider and a young woman plagued by Tourette's syndrome meet and together journey to Canada.\\n \\n**1998**:\\n \\n[Jinnah] (https://youtu.be/YoDjscRb5WM) - The story of Jinnah, the founder of Pakistan.\\n \\n[My Name Is Joe] (https://youtu.be/Yqt3PD4C9_k) - Two thirtysomethings, unemployed former alcoholic Joe and community health worker Sarah, start a romantic relationship in the one of the toughest Glasgow neighbourhoods.\\n \\n[This Is My Father] (https://youtu.be/0rifVRJqS94) - A middle-aged teacher discovers photos from his mother's past that convinces him that she has not told the truth about his real father.\\n \\n**1999**:\\n \\n[Sunshine] (https://youtu.be/MGoQb2N6dt0) - The fate of a Hungarian Jewish family throughout the 20th century.\\n \\n[Titus] (https://youtu.be/OvZRvKf78yY) - Titus returns victorious from war, only to plant the seeds of future turmoil for himself and his family.\\n \\n[Wonderland] (https://youtu.be/ElgIy7fkpQo) - Members of a working-class family each deal with their own relationship issues over the course of a long November weekend.\\n \\n**2000**:\\n \\n[Bread and Roses] (https://youtu.be/IrDpd4sCswY) - Two Latina sisters work as cleaners in a downtown office building, and fight for the right to unionize.\\n \\n[George Washington] (https://youtu.be/shVmpGH-YxA) - A group of children, in a depressed small town, band together to cover up a tragic mistake one summer.\\n \\n[Pollock] (https://youtu.be/HmoUIfcrfIE) - A film about the life and career of Jackson Pollock, an American painter struggling with drinking, insecurity, and stress.\\n \\n**2001**:\\n \\n[Manic] (https://youtu.be/-zVMC_eUsBo) - Lyle Jensen is subject to sudden and violent outbursts, and he is committed to the juvenile wing of the Northwood Mental Institution, where several other youths are there with a variety of serious problems.\\n \\n[Tape] (https://youtu.be/3AzZ6Fop4Eg) - Three old high school friends meet in a Michigan motel room to dissect painful memories from their past.\\n \\n[The Zookeeper] (https://youtu.be/hoInlOTu-Yc) - In the midst of a civil war in an Eastern European country, a disillusioned ex-Communist is left behind to take care of the animals in the capital's zoological gardens until a U.N. rescue force arrives.\\n \\n**2002**:\\n \\n[Bloody Sunday] (https://youtu.be/o6zvb0naOZo) - A dramatization of the Irish civil rights protest march and subsequent massacre by British troops on January 30, 1972.\\n \\n[Sweet Sixteen] (https://youtu.be/kzunVk_wJNc) - Determined to have a normal family life once his mother gets out of prison, a Scottish teenager from a tough background sets out to raise the money for a home.\\n \\n[The Dancer Upstairs] (https://youtu.be/ddZZ39dP3vg) - A police detective in a South American country is dedicated to hunting down a revolutionary guerilla leader.\\n \\n**2003**:\\n \\n[Baadasssss!] (https://youtu.be/1HIr4Wq4CVg) - Mario Van Peebles' half-documentary/half-homage to his father Melvin Van Peebles' movie Sweet Sweetback's Baadasssss Song.\\n \\n[Pieces of April] (https://youtu.be/3-bw5QJePG0) - A wayward daughter invites her dying mother and the rest of her estranged family to her apartment for Thanksgiving dinner.\\n \\n[Wondrous Oblivion] (https://youtu.be/aAfwzXrB5XY) - 11-year-old David Wiseman and his family run into problems after David befriends their new neighbors.\\n \\n**2004**:\\n \\n[Ae Fond Kiss...] (https://youtu.be/Y2YNgMqXh4I) - Sparks fly in Glasgow's south side when a young Asian man enters into a relationship with a Caucasian woman.\\n \\n[In My Father's Den] (https://youtu.be/49PBcjtKijU) - A disillusioned war journalist's return home is blighted when he becomes implicated in the mysterious disappearance of a teenage girl he has befriended.\\n \\n[Mickybo and Me] (https://youtu.be/y9JRRqqiVyc) - Two boys, whom share an obsession with Butch Cassidy and the Sundance Kid, also share an ambition of running away to Australia.\\n \\n**2005**:\\n \\n[Beyond the Gates] (https://youtu.be/QpsJEELgwq0) - An exhausted Catholic priest and a young idealistic English teacher find themselves caught in the 1994 Rwandan genocide.\\n \\n[Man Push Cart] (https://youtu.be/KRF1EUFdZow) - A night in the life of a former Pakistani rock star who now sells coffee from his push cart on the streets of Manhattan.\\n \\n[Parzania] (https://youtu.be/epy4hqEI4Ng) - A parsi family struggles to find their son during the 2002 Gujarat riots.\\n \\n**2006**:\\n \\n[A Guide to Recognizing Your Saints] (https://youtu.be/TVT_rJ0bRC8) - As his friends end up dead, on drugs, or in prison, a boy growing up in Astoria, New York during the 1980s comes to believe he has been saved from their fates by various so-called saints.\\n \\n[Just Like the Son] (https://youtu.be/s2HXIAhlCCg) - A petty thief's mentoring of an apparent orphan takes a profound turn when he kidnaps the boy from a foster home and drives him cross-country to his sister's house in Texas.\\n \\n[Kenny] (https://youtu.be/ZHjc0cu9CgU) - The daily life of Kenny Smyth, a portable toilet deliverer.\\n \\n**2007**:\\n \\n[California Dreamin'] (https://youtu.be/75NoNVMkQwU) - A railway chief delays a NATO train transporting military equipment during the war in Kosovo in 1999.\\n \\n[Chop Shop] (https://youtu.be/CRLqIVvcWuk) - Alejandro, a resourceful street orphan on the verge of adolescence, lives and works in an auto-body repair shop in a sprawling junkyard on the outskirts of Queens, New York.\\n \\n[Shotgun Stories] (https://youtu.be/EHgLR6TYyOQ) - In Southeast Arkansas, a feud erupts between two sets of half brothers following the death of their father.\\n \\n**2008**:\\n \\n[Ballast] (https://youtu.be/JGjIFG9miEw) - In the Mississippi delta, one man's suicide affects three people's lives.\\n \\n[Kisses] (https://youtu.be/lE1n6iY9-tQ) - Two kids, Dylan and Kylie, run away from home at Christmas and spend a night of magic and terror on the streets of inner-city Dublin.\\n \\n[The Black Balloon] (https://youtu.be/qNVV1L7kMRc) - The complicated relationship between Thomas and his autistic brother, Charlie.\\n \\n**2009**:\\n \\n[Balibo] (https://youtu.be/ZMw9gjiBU1o) - War correspondent Roger East and the young Jose Ramos-Horta travel to East Timor to investigate the murders of the Balibo Five in 1975.\\n \\n[Ink] (https://youtu.be/heD7kP5zF_4) - A mysterious creature, known as Ink, steals a child's soul in hopes of using it as a bargaining chip to join the Incubi, the group of supernatural beings responsible for creating nightmares.\\n \\n[Looking for Eric] (https://youtu.be/GgmTRuWMyeI) - Eric, a football fanatic postman whose life is descending into crisis, receives some life coaching from the famously philosophical Eric Cantona.\\n \\n**2010**:\\n \\n[Beneath Hill 60] (https://youtu.be/HH1lr2nLrd0) - In 1916, the 1st Australian Tunnelling Company is tunneling beneath German fortifications and bunkers to detonate massive explosive charges.\\n \\n[Boy] (https://youtu.be/yG4flWGqWzE) - Set on the east coast of New Zealand in 1984, Boy, an 11-year-old child and devout Michael Jackson fan, gets a chance to know his absentee criminal father, who has returned to find a bag of money he buried years ago.\\n \\n[The First Grader] (https://youtu.be/I73IY6k9xsw) - An 84-year-old Kenyan villager and ex Mau Mau veteran fights for his right to go to school for the first time to get the education he could never afford.\\n \\n**2011**:\\n \\n[Death of a Superhero] (https://youtu.be/J-kdFhHFK6s) - A 15-year-old boy draws stories of an invincible superhero as he struggles with his mortality.\\n \\n[The Lady] (https://youtu.be/hiHcHutbCvw) - The story of Aung San Suu Kyi's involvement in Burma's democracy movement, and her relationship with her husband, writer Michael Aris.\\n \\n[Wild Bill] (https://youtu.be/XHJ6rW3GrAY) - Out on parole after 8 years inside, Bill Hayward returns home to find his now 11 and 15-year-old sons abandoned by their mother and fending for themselves.\\n \\n**2012**:\\n \\n[Good Vibrations] (https://youtu.be/3YwVKmCvOUc) - A chronicle of Terri Hooley's life, a record-store owner instrumental in developing Belfast's punk-rock scene.\\n \\n[It's Such a Beautiful Day] (https://youtu.be/HC-zPWb7bQc) - Bill struggles to put together his shattered psyche.\\n \\n[Ship of Theseus] (https://youtu.be/tzw1ezTTVEY) - Explores questions of identity, justice, beauty, meaning and death through an experimental photographer, an ailing monk, and a young stockbroker.\\n \\n**2013**:\\n \\n[Josh] (https://youtu.be/-9i-BRFUI8M) - Fatima, a committed schoolteacher living the cosmopolitan high life in Karachi, has her life shattered when her nanny, Nusrat, inexplicably disappears.\\n \\n[The Inevitable Defeat of Mister & Pete] (https://youtu.be/Kdq4_UDykCs) - Two inner city boys are left to fend for themselves over the summer after their mothers are taken away by the authorities.\\n \\n[The Young and Prodigious T.S. Spivet] (https://youtu.be/AvzgMN4AMXQ) - A ten-year-old scientist secretly leaves his family's ranch in Montana where he lives with his cowboy father and scientist mother, and travels across the country aboard a freight train to receive an award at the Smithsonian Institute.\\n \\n**2014**:\\n \\n[Before I Disappear] (https://youtu.be/luAEkofzM0Q) - At the lowest point of his life, Richie gets a call from his estranged sister, asking him to look after his eleven-year old niece, Sophia, for a few hours.\\n \\n[The Prophet] (https://youtu.be/ewcLnD1Yy8Q) - Exiled artist and poet Mustafa embarks on a journey home with his housekeeper and her daughter.\\n \\n[Wheels] (https://youtu.be/hxZnTYmDBWg) - Two suicidal paraplegic junkies hustle their way through the city streets trying to find a reason to live.\\n \\n**2015**:\\n \\n[James White] (https://youtu.be/i1aVC6LJ3uc) - James, a twenty-something New Yorker, struggles to take control of his self-destructive behavior in the face of momentous family challenges.\\n \\n[Last Cab to Darwin] (https://youtu.be/kQOh1wJCpdI) - When Rex, a Broken Hill cab driver, is told he doesn't have long to live, he sets out on an epic journey to Darwin in a bid to die on his own terms.\\n \\n[The End of the Tour] (https://youtu.be/TI01XjzSwYI) - A five-day interview between Rolling Stone reporter David Lipsky and acclaimed novelist David Foster Wallace, which takes place right after the 1996 publication of Wallace's groundbreaking epic novel, 'Infinite Jest.'\\n \\n**2016**:\\n \\n[20th Century Women] (https://youtu.be/2f2n0ZdxZbs) - The story of a teenage boy, his mother, and two other women who help raise him among the love and freedom of Southern California of 1979.\\n \\n[Away] (https://youtu.be/7CGCkYKRq2U) - Set in the north English seaside town of Blackpool and centered on the interactions between two kindred spirits.\\n \\n[Ethel & Ernest] (https://youtu.be/n1DXpgaN2zA) - The life and times of two ordinary Londoners living through extraordinary events.\\n \\nThanks to IMDb for help with descriptions.\",\n          \"Turner Classic Movies (U.S.) Full Daily Schedule For October, 2022.(all airtimes E.S.T.)\\n\\n_____________________________________________________\\n\\n\\nSAT OCT 01\\n\\n(12:00AM) **Inherit the Wind** (1960/2h 7m/Drama/Stanley Kramer)\\n \\n(2:15AM) **What Really Happened to Baby Jane** (1963/0h 31m/Comedy/Ray Harrison) \\n\\n(3:15AM) **The Roman Springs on Mrs. Stone** (1963/0h 19m/Comedy/Ray Harrison) \\n \\n(3:30AM) **Spy on the Fly** (1967/0h 45m/Comedy/Ray Harrison)\\n \\n(4:00AM) **All About Alice** (1972/1h 15m/Comedy/Ray Harrison)\\n\\n(5:15AM) **Drug Stories** (2019/compilation/various)\\n \\n(6:15AM) **The Heavenly Body** (1943/1h 35m/Comedy/Alexander Hall)\\n \\n(8:00AM) **MGM CARTOONS: Jerky Turkey** (1945.6m/Comedy/Fred \\u201cTex\\u201d Avery)\\n  \\n(8:08AM) **The Face Behind the Mask** (1938/10m/Short/Jacques Tourneur)\\n \\n(8:19AM) **Visiting Virginia** (1947/0h 8m/Short/James H Smith)\\n\\n(8:28AM) **White Bondage** (1937/1h 0h/Drama/Nick Grinde)\\n\\n(9:30AM) **THE NEW ADVENTURES OF TARZAN: Crossed Trails** (1935/Serial/Edward Kull and Wilbur McGaugh)\\n \\n(10:00AM) **POPEYE: The Ace of Space** (1953/0h 6m/Animation/Jack Mercer)\\n \\n(10:08AM) **In Fast Company** (1946/1h 1m/Comedy/Del Lord)\\n \\n(11:30AM) **The Golden Equator** (1956/0h 17m/Documentary/Hamilton Wright)\\n \\n(12:00PM) **Captain Caution** (1940/1h 25m/Adventure/Richard Wallace)\\n \\n(1:45PM) **Gulliver's Travels** (1939/1h 14m/Adventure/Dave Fleischer)\\n \\n(3:15PM) **Ship of Fools** (1965/2h 29m/Drama/Stanley Kramer)\\n \\n(6:00PM) **On the Waterfront** (1954/1h 48m/Drama/Elia Kazan)\\n \\n(8:00PM) **Metropolis** (1926/2h 33m/Silent/Fritz Lang)\\n \\n(10:45PM) **Forbidden Planet** (1956/1h 38m/Science-Fiction/Fred Mcleod Wilcox)  \\n\\n________________________________________________________________________________________________________________________________________________________________________________________\\n\\nSUN OCT 02\\n\\n(12:30AM) **The Red House** (1947/1h 40m/Film-Noir/Delmer Daves)\\n \\n(2:30AM) **Trapeze** (1956/1h 45m/Drama/Carol Reed)\\n \\n(4:30AM) **At the Circus** (1939/1h 27m/Comedy/Edward Buzzell)\\n\\n(6:00AM) **The Housekeeper's Daughter** (1939/1h 11m/Comedy/Hal Roach)\\n \\n(7:30AM) **Rhapsody in Blue** (1945/2h 19m/Musical/Irving Rapper)\\n \\n(10:00AM) **The Red House** (1947/1h 40m/Drama/Delmer Daves)\\n \\n(12:00PM) **The Talk of the Town** (1942/1h 58m/Comedy/George Stevens)\\n \\n(2:15PM) **Flower Drum Song** (1961/2h 13m/Musical/Henry Koster)\\n \\n(4:45PM) **Fiddler on the Roof** (1971/3h 0m/Musical/Norman Jewison)\\n\\n(8:00PM) **The Brave One** (1956/1h 40m/Drama/Irving Rapper)\\n \\n(10:00PM) **Dime with a Halo** (1963/1h 34m/Comedy/Boris Sagal)\\n\\n________________________________________________________________________________________________________________________________________________________________\\n\\nMON OCT 03\\n\\n(12:00AM) **The Beloved Rogue** (1927/1h 43m/Silent/Alan Crosland)\\n\\n(2:00AM) **Kwaidan** (1965/2h 44m/Horror/Masaki Kobayashi)\\n \\n(5:00AM) **Hollywood: The Dream Factory** (1972/1h 0h/Documentary/Mark Woods)\\n \\n(6:00AM) **Les visiteurs du soir** (1942/1h 58m/Drama/Marcel Carnt)\\n \\n(8:15AM) **Traffic with the Devil** (1946/0h 18m/Short/Gunther V. Fritsch)\\n \\n(8:45AM) **Carnival of Sinners** (1943/1h 20m/Horror/Maurice Tourneur)\\n \\n(10:15AM) **Angel on My Shoulder** (1946/1h 41m/Adventure/Archie Mayo)\\n \\n(12:15PM) **Sylvia and the Phantom** (1946/1h 30m/Romance/Claude Autant-Lara)\\n \\n(2:15PM) **The Picture of Dorian Gray** (1945/1h 50m/Horror/Albert Lewin)\\n \\n(4:15PM) **All That Money Can Buy** (1941/1h 52m/Drama/William Dieterle)\\n \\n(6:15PM) **Blithe Spirit** (1945/1h 36m/Comedy/David Lean)\\n \\n(8:00PM) **Dead Ringer** (1964/1h 55m/Suspense/Paul Henreid)\\n \\n(10:15PM) **Possessed** (1947/1h 48m/Drama/Curtis Bernhardt)\\n\\n_________________________________________________________________________________________________________________________________________________________________\\n\\nTUE OCT 04\\n\\n(12:15AM) **The Devil's Own** (1966/1h 30m/Horror/Cyril Frankel)\\n \\n(2:00AM) **The Haunting** (1963/1h 52m/Horror/Robert Wise)\\n \\n(4:00AM) **Night Watch** (1973/1h 45m/Suspense/Brian G. Hutton)\\n \\n(5:45AM) **The Spiral Staircase** (1975/1h 26m/Adaptation/Peter Collinson)\\n \\n(7:15AM) **Going Highbrow** (1935/1h 7m/Comedy/Robert Florey)\\n \\n(8:30AM) **Sweepstakes Winner** (1939/0h 59m/Comedy/William McGann)\\n \\n(9:30AM) **Shopworn** (1932/1h 12m/Romance/Nicholas Grinde) \\n \\n(10:45AM) **Sweet Adeline** (1935/1h 27m/Musical/Mervyn Le Roy)\\n \\n(12:15PM) **Sally** (1930/1h 43m/Musical/John Francis Dillon)\\n \\n(2:00PM) **Return from the Sea** (1954/1h 19m/Romance/Lesley Selander) \\n \\n(3:30PM) **Good Girls Go to Paris** (1939/1h 15m/Comedy/Alexander Hall)\\n \\n(5:00PM) **Boy Meets Girl** (1938/1h 20m/Comedy/Lloyd Bacon) \\n \\n(6:30PM) **It's a Great Feeling** (1949/1h 25m/Comedy/David Butler)\\n \\n(8:00PM) **By Design: The Joe Caroff Story** (2022/?/Documentary/?)   \\n\\n(9:00PM) **Manhattan** (1979/1h 36m/Romance/Woody Allen)\\n \\n(11:00PM) **By Design: The Joe Caroff Story** (2022/?/Documentary/?) \\n\\n________________________________________________________________________________________________________________________________________________________________\\n\\nWED OCT 05\\n\\n\\n(12:00AM) **Cabaret** (1972/2h 4m/Musical/Bob Fosse)\\n \\n(2:15AM) **A Hard Day's Night** (1964/1h 32m/Musical/Richard Lester)\\n \\n(4:00AM) **Mrs. Brown, You've Got a Lovely Daughter** (1968/1h 35m/Musical/Saul Swimmer)\\n \\n(6:00AM) **The Bishop Murder Case** (1930/1h 28m/Mystery/David Burton)\\n \\n(7:45AM) **The Flirting Widow** (1930/1h 12m/Comedy/William Seiter)\\n \\n(9:15AM) **The Lady of Scandal** (1930/1h 16m/Romance/ Sidney Franklin)\\n \\n(10:45AM) **Sin Takes a Holiday** (1930/1h 21m/Comedy/Paul Stein)\\n \\n(12:15PM) **Kind Lady** (1935/1h 16m/Mystery/George B. Seitz)\\n \\n(1:45PM) **The Dawn Patrol** (1938/1h 43m/War/Edmund Goulding)\\n \\n(3:45PM) **Fingers at the Window** (1942/1h 20m/Suspense/Charles Lederer)\\n \\n(5:15PM) **The Woman in Green** (1945/1h 8m/Mystery/Roy William Neill)\\n \\n(6:30PM) **Sherlock Holmes in Dressed to Kill** (1946/1h 12m/Mystery/Roy William Neill)\\n \\n(8:00PM) **Reform School** (1939/0h 58m/Drama/Leo C. Popkin)\\n \\n(9:30PM) **Harlem on the Prairie** (1937/0h 46m/Western/Sam Newfield)\\n \\n(10:45PM) **Yamekraw** (1930/0h 9m/Musical/Murray Roth)\\n \\n(11:15PM) **Mr. Washington Goes to Town** (1940/1h 5m/Comedy/Jed Buell)\\n\\n___________________________________________________________________________________________________________________________________________________________________________\\n\\nTHU OCT 06\\n\\n(12:30AM) **Chameleon Street** (1989/1h 38m/Biography/Wendell B Harris)\\n \\n(2:15AM) **When We Were Kings** (1996/1h 30m/Documentary/Leon Gast)\\n \\n(4:00AM) **Freedom on My Mind** (1994/1h 45m/Documentary/Connie Field)\\n \\n(6:00AM) **MGM Parade Show #30** (1955/0h 25m/Documentary/?)\\n \\n(6:30AM) **Fools for Scandal** (1938/1h 21m/Comedy/Mervyn Le Roy)\\n \\n(8:00AM) **Vigil in the Night** (1940/1h 36m/Drama/George Stevens)\\n \\n(9:45AM) **In Name Only** (1939/1h 42m/Drama/John Cromwell)\\n \\n(11:45AM) **Swing High, Swing Low** (1937/1h 37m/Musical/Mitchell Leisen)\\n \\n(1:30PM) **The Gay Bride** (1934/1h 20m/Comedy/Jack Conway)\\n \\n(3:00PM) **Mr. and Mrs. Smith** (1941/1h 29m/Comedy/Alfred Hitchcock)\\n \\n(4:45PM) **Nothing Sacred** (1937/1h 15m/Comedy/William A. Wellman)\\n \\n(6:00PM) **To Be or Not to Be** (1942/1h 39m/Comedy/Ernst Lubitsch)\\n \\n(8:0PM) **The Red Shoes** (1948/2h 14m/Romance/Michael Powell)\\n \\n(10:30PM) **Gaslight** (1940/1h 24m/Suspense/Thorold Dickinson)\\n\\n___________________________________________________________________________________________________________________________________________________________________________\\n\\nFRI OCT 07\\n\\n(12:15AM) **La Ronde** (1950/1h 32m/Comedy/\\n \\n(2:00AM) **I Accuse!** (1958/1h 39m/Drama/Jose Ferrer)\\n \\n(4:00AM) **Suicide Squadron** (1942/1h 33m/Drama/Brian Desmond Hurst)\\n \\n(6:00AM) **Road Agent** (1952/1h 0m/Western/Lesley Selander)\\n \\n(7:15AM) **Beau Bandit** (1930/1h 8m/Western/Lambert Hillyer)\\n \\n(8:30AM) **The Bad Man** (1941/1h 10m/Western/Richard Thorpe)\\n \\n(9:45AM) **The Bad Man of Brimstone** (1937/1h 30m/Western/J. Walter Ruben)\\n \\n(11:30AM) **Barbary Coast Gent** (1944/1h 27m/Western/Roy Del Ruth)\\n \\n(1:00PM) **The Law and Jake Wade** (1958/1h 26m/Western/John Sturges)\\n \\n(2:30PM) **The Three Musketeers** (1973/1h 45m/Adventure/Richard Lester)\\n \\n(4:30PM) **The Adventures of Robin Hood** (1938/1h 42m/Adventure/Michael Curtiz)\\n \\n(6:15PM) **The Kissing Bandit** (19491h 42m/Musical/Laslo Benedek)\\n \\n(8:00PM) **All The President's Men** (1976/2h 18m/Drama/Alan J. Pakula)\\n \\n(10:30PM) **The Parallax View** (1974/1h 42m/Suspense/Alan J. Pakula)\\n\\n___________________________________________________________________________________________________________________________________________________________________________\\n\\nSAT OCT 08\\n\\n(12:30AM) **Klute** (1971/1h 54m/Suspense/Alan J. Pakula)\\n \\n(2:30AM) **The Velvet Vampire** (1971/1h 19m/Horror/Stephanie Rothman)\\n \\n(4:00AM) **The Hunger** (1983/1h 39m/Horror/Tony Scott)\\n \\n(6:00AM) **Now, Voyager** (1942/1h 57m/Romance/Irving Rapper)\\n \\n(8:00AM) **MGM CARTOONS: The Honduras Hurricane** (1938/0h 8m/Animation/I. Freleng)\\n \\n(8:09AM) **The King Without a Crown** (1937/0h 9m/Short/Jacques Tourneur)\\n\\n(8:19AM) **Through the Colorado Rockies** (1943/0h 9m/Short/?)\\n \\n(8:30AM) **Dude Cowboy** (1941/0h 59m/Western/David Howard)\\n \\n(9:30AM) **THE NEW ADVENTURES OF TARZAN: The Devil's Noose** (1935/Serial/Edward Kull and Wilbur McGaugh)\\n\\n3(10:00AM) **POPEYE: Firemen's Brawl** (1953/0h 6m/Animation/I. Sparber)\\n \\n(10:08AM) **Angels' Alley** (1948/1h 7m/Comedy/William Beaudine)\\n \\n(11:30AM) **A Modern Cinderella** (1932/0h 17m/Musical/Roy Mack)\\n \\n(12:00PM) **The Long Night** (1947/1h 37m/Crime/Anatole Litvak)\\n \\n(1:45PM) **The Sundowners** (1960/2h 13m/Drama/Fred Zinnemann)\\n \\n(4:15PM) **Double Indemnity** (1944/1h 46m/Film-Noir/Billy Wilder)\\n \\n(6:15PM) **The Omega Man** (1971/1h 36m/Science-Fiction/Boris Sagal)\\n \\n(8:00PM) **The Day the Earth Stood Still** (1951/1h 32m/Science-Fiction/Robert Wise)\\n \\n(10:00PM) **Westworld** (1973/1h 31m/Science-Fiction/Michael Crichton)\\n\\n____________________________________________________________________________________________________________________________________________________________________________\\n\\nSUN OCT 09\\n\\n(12:00AM) **The Phenix City Story** (1955/1h 40m/Film-Noir/Phil Karlson\\n \\n(2:00AM) **Oleanna** (1994/1h 30m/Drama/David Mamet)\\n \\n(3:45AM) **Night into Morning** (1951/1h 26m/Drama/Fletcher Markle)\\n \\n(5:30AM) **Musical Movieland** (1944/0h 20m/Musical/Leroy Prinz)\\n \\n(6:00AM) **Of Human Hearts** (1938/1h 40m/Drama/Clarence Brown)\\n \\n(8:00AM) **Alice Adams** (1935/1h 40m/Comedy/George Stevens)\\n \\n(10:00AM) **The Phenix City Story** (1955/1h 40m/Film-Noir/Phil Karlson)\\n\\n(12:00PM) **On Our Merry Way** (1948/1h 36m/Comedy/Leslie Fenton and King Vidor)\\n \\n(1:45PM) **The Little Foxes** (1941/1h 56m/Drama/William Wyler)\\n \\n(4:00PM) **The Subject Was Roses** (1968/1h 47m/Drama/Ulu Grosbard)\\n \\n(6:00PM) **Sounder** (1972/1h 45m/Drama/Martin Ritt)\\n\\n(8:00PM) **Mexican Spitfire** (1940/1h 7m/Comedy/Leslie Goodwins)\\n \\n(9:30PM) **Down Argentine Way** (1940/1h 29m/Musical/Irving Cummings) \\n\\n___________________________________________________________________________________________________________________________________________________________________________\\n\\n\\nMON OCT 10\\n\\n(12:00AM) **Hot Water** (1924/0h 57m/Silent/Sam Taylor)\\n\\n(1:00AM) **Speedy** (1928/1h 25m/Silent/Ted Wilde)\\n \\n(2:45AM) **Village of the Damned** (1960/1h 17m/Science-Fiction/Wolf Rilla)\\n \\n(4:15AM) **Children of the Damned** (1964/1h 30m/Science-Fiction/Anton M. Leader)\\n \\n(6:00AM) **Five Million Years to Earth** (1968/1h 38m/Science-Fiction/Roy Ward Baker)\\n \\n(7:45AM) **Battle Beneath the Earth** (1967/1h 23m/Montgomery Tully)\\n \\n(9:15AM) **The Time Machine** (1960/1h 43m/Science-Fiction/George Pal)\\n \\n(11:15AM) **War Of The Planets** (1965/1h 39m/Science-Fiction/Antonio Margheriti\\n \\n(1:00PM) **The Wild, Wild Planet** (1965/1h 33m/Science-Fiction/Anthony Dawson)\\n \\n(2:45PM) **The Green Slime** (1969/1h 30m/Science-Fiction/Kinji Fukasaku)\\n \\n(4:30PM) **The Illustrated Man** (1969/1h 43m/Science-Fiction/Jack Smight)\\n \\n(6:30PM) **Goke, Body Snatcher from Hell** (1968/1h 24m/Horror/Hajime Sato)\\n \\n(8:00PM) **Rope** (1948/1h 20m/Suspense/Alfred Hitchcock)\\n \\n(9:45PM) **Obsession** (1976/1h 38m/Suspense/Brian De Palma)\\n \\n(11:45PM) **The Fog** (1980/1h 31m/Horror/John Carpenter)\\n\\n___________________________________________________________________________________________________________________________________________________________________________\\n\\nTUE OCT 11\\n\\n(1:30AM) **The Howling** (1981/1h 30m/Horror/Joe Dante)\\n \\n(3:15AM) **The Brood** (1979/1h 31m/Horror/David Cronenberg)\\n \\n(5:00AM) **Night of the Living Dead** (1968/1h 36m/Horror/George A. Romero)\\n \\n(6:45AM) **Black Hand** (1950/1h 33m/Crime/Richard Thorpe)\\n \\n(8:30AM) **Criminal Court** (1946/1h 3m/Suspense/Robert Wise)\\n \\n(9:45AM) **Girls on Probation** (1938/1h 3m/Romance/William McGann)\\n \\n(11:00AM) **The Law in Her Hands** (1936/0h 58m/Crime/William Clemens)\\n \\n(12:00PM) **The Roaring Twenties** (1939/1h 44m/Crime/Raoul Walsh)\\n \\n(2:00PM) **Society Lawyer** (1939/1h 17m/Crime/Edwin L. Marin)\\n \\n(3:30PM) **Special Investigator** (1936/1h 11m/Crime/Louis King)\\n \\n(4:45PM) **The FBI Story** (1959/2h 29m/Crime/Mervyn Leroy)\\n \\n(7:30PM) **MGM Parade Show #30** (1955/0h 25m/Documentary/?)\\n \\n(8:00PM) **Those Magnificent Men in Their Flying Machines; or How I Flew From London to Paris in 25 Hours and 11 Minutes** (1965/2h 32m/Adventure/Ken Annakin)\\n \\n(10:30PM) **It's a Mad, Mad, Mad, Mad World** (1963/3h 12m/Comedy/Stanley Kramer)\\n\\n___________________________________________________________________________________________________________________________________________________________________________\\n\\nWED OCT 12\\n\\n(1:30AM) **The Great Race** (1965/2h 37m/Comedy/Blake Edwards) \\n \\n(4:30AM) **The Fortune Cookie** (1966/2h 5m/Comedy/Billy Wilder)\\n \\n(6:45AM) **The Hitch-Hiker** (1953/1h 11m/Suspense/Ida Lupin*o)\\n \\n(8:00AM) **Violent Road** (1958/1h 26m/Adventure/Howard W. Koch)\\n \\n(5:30AM) **Jeopardy** (1953/1h 9m/Drama/John Sturges)\\n \\n(11:00AM) **Detour** (1945/1h 8m/Film-Noir/Edgar G. Ulmer)\\n \\n(12:15PM) **Our Old Car** (1946/0h 10m/Short/Cy Endfield)\\n\\n(12:30PM) **The Bride Came C.O.D.** (1941/1h 32m/Comedy/William Keighley)\\n \\n(2:15PM) **The Long, Long Trailer** (1954/1h 36m/Comedy/Vincente Minnelli)\\n \\n(4:00PM) **Gadgets Galore** (1955/0h 10m/Short/Robert Youngson)\\n \\n(4:15PM) **Slither** (1973/1h 36m/Comedy/Howard Zieff)\\n \\n(6:00PM) **Corvette Summer** (1978/1h 45m/Adventure/Matthew Robbins)\\n \\n(8:00PM) **Here Comes Mr. Jordan** (1941/1h 33m/Comedy/Alexander Hall)\\n\\n(10:00PM) **Bedazzled** (1967/1h 47m/Comedy/Stanley Donen)\\n\\n___________________________________________________________________________________________________________________________________________________________________________\\n\\n\\nTHU OCT 13\\n\\n(12:00AM) **Angel on My Shoulder** (1946/1h 41m/Adventure/Archie Mayo)\\n \\n(2:00AM) **Cabin in the Sky** (1943/1h 38m/Musical/Vincente Minnelli)\\n \\n(4:00AM) **The Horn Blows at Midnight** (1945/1h 20m/Comedy/Raoul Walsh)\\n \\n(6:00AM) **Du Barry Was a Lady** (1943/1h 41m/Musical/Roy Del Ruth)\\n \\n(8:00AM) **Roberta** (1935/1h 25m/Musical/William A. Seiter)\\n \\n(10:00AM) **Silk Stockings** (1957/1h 57m/Musical/Rouben Mamoulian)\\n \\n(12:00PM) **The Umbrellas of Cherbourg** (1964/1h 35m/Musical/Jacques Demy)\\n \\n(2:00PM) **The Young Girls of Rochefort** (1967/2h 4m/Musical/Jacques Demy)\\n \\n(4:30PM) **Lili** (1953/1h 21m/Musical/Charles Walters)\\n \\n(6:00PM) **Gigi** (1958)1h 56m/Musical/Vincente Minnelli)\\n \\n(8:00PM) **High Noon on the Waterfront** (2022/0h 14m/Documentary/David C. Roberts and Billy Shebar) \\n \\n(8:30PM) **High Noon** (1952/1h 25m/Western/Fred Zinnemann)\\n\\n(10:00pm) **High Noon on the Waterfront** (2022/0h 14m/Documentary/David C. Roberts and Billy Shebar)\\n \\n(10:30PM) **On the Waterfront** (1954/1h 48m/Drama/Elia Kazan)\\n\\n____________________________________________________________________________________________________________________________________________________________________________________________________________________\\n\\nFRI OCT 14\\n\\n(12:30AM) **High Noon on the Waterfront** (2022/0h 14m/Documentary/David C. Roberts and Billy Shebar)\\n \\n(1:00AM) **Marsha Hunt's Sweet Adversity** (2015/1h 37m/Documentary/Roger C Memos)\\n \\n(3:00AM) **Carnegie Hall** (1947/2h 14m/Musical/Edgar G. Ulmer)\\n \\n(6:00AM) **Atlantis, the Lost Continent** (1960/1h 30m/Adventure/George Pal)\\n \\n(7:45AM) **The Man Who Cheated Himself** (1950/1h 21m/Crime/Felix E. Feist)\\n \\n(9:15AM) **The Corn Is Green** (1945/1h 54m/Drama/Irving Rapper)\\n \\n(11:30AM) **Gun Crazy** (1950/1h 27m/Crime/Joseph H. Lewis)\\n \\n(1:15PM) **Strangers on a Train** (1951/1h 36m/Suspense/Alfred Hitchcock)\\n \\n(3:15PM) **Side Street** (1950/1h 23m/Crime/Anthony Mann)\\n \\n(4:45PM) **Behave Yourself!** (1951/1h 21m/Comedy/George Beck)\\n \\n(6:15PM) **Small Town Girl** (1953/1h 33m/Musical/Leslie Kardos)\\n \\n(8:00PM) **Network** (1976/2h 1m/Drama/Sidney Lumet)\\n \\n(10:1PM) **Rebel Without a Cause** (1955/1h 51m/Drama/Nicholas Ray)\\n\\n________________________________________________________________________________________________________________________________________________________________\\n\\nSAT OCT 15\\n\\n(12:15AM) **Singin' in the Rain** (1952/1h 43m/Musical/Gene Kelly)\\n \\n(2:00AM) **Twin Peaks: Fire Walk With Me** (1992/2h 15m/Drama/David Lynch)\\n \\n(4:30AM) **Six Men Getting Sick** (1966/0h 4m/Short/David Lynch)\\n \\n(4:35AM) **The Alphabet** (1968/0h 3m/Short/David Lynch)\\n \\n(4:40AM) **The Grandmother** (1970/0h 33m/Short/David Lynch)\\n \\n(5:30AM) **The Amputee (Version 1)** (1974/0h 5m/Short/David Lynch)\\n \\n(5:40AM **The Amputee (Version 2)** (1974/4m/Short/David Lynch)\\n \\n(5:50AM) **Premonitions Following an Evil Deed** (1995/0h 1m/Short/David Lynch)\\n\\n(6:00AM) **The League of Gentlemen** (1960/1h 56m/Crime/Basil Dearden)\\n \\n(8:00AM) **MGM CARTOONS: Peace on Earth** (1939/0h 8m/Animation/Hugh Harman)\\n \\n(8:10AM) **The Man in the Barn** (1937/0h 10m/Short/Jacques Tourneur)\\n \\n(8:21AM) **Voices of Venice** (1951/0h 8m/Short/?)\\n \\n(8:30AM) **The Lawless Frontier** (1935/59m/Western/R. N. Bradbury)\\n \\n(9:30AM) **THE NEW ADVENTURES OF TARZAN: River Perils** (1935/Serial/Edward Kull and Wilbur McGaugh)\\n \\n(10:00AM) **POPEYE: Popeye's Mirthday** (1953/0h 6m/Animation/Seymour Kneitel)\\n \\n(10:08AM) **Angels in Disguise** (1949/1h 3m/Comedy/Jean Yarbrough)\\n \\n(11:30AM) **The Policy Girl** (1934/0h 20m/Short/Roy Mack)\\n\\n(12:00PM) **The Four Feathers** (1939/2h 10m/Adventure/Zoltan Korda)\\n \\n(2:15PM) **Hamlet** (1948/2h 35m/Drama/Laurence Olivier)\\n \\n(5:00PM) **Raintree County** (1957/3h 7m/Drama/Edward Dmytryk)\\n \\n(8:00PM) **THX 1138** (1971/1h 28m/Science-Fiction/George Lucas)\\n \\n(10:00PM) **RoboCop** (1987/1h 43m/Science Fiction/Paul Verhoeven)\\n\\n________________________________________________________________________________________________________________________________________________________________\\n\\nSUN OCT 16\\n\\n(12:00AM) **The Argyle Secrets** (1948/1h 3m/Film-Noir/Cyril Endfield) \\n \\n(1:30AM) **Gidget** (1959/1h 35m/Comedy/Paul Wendkos)\\n \\n(3:30AM) **Bikini Beach** (1964/1h 40m/Musical/William Asher)\\n \\n(5:30AM) **MGM Parade Show #30** (1955/25m/Documentary/?)\\n \\n(6:00AM) **Smilin' Through** (1941/1h 40m/Romance/Frank Borzage)\\n \\n(8:00AM) **The Conspirators** (1944/1h 41m/Adventure/Jean Negulesco)\\n \\n(10:00AM) **The Argyle Secrets** (1948/1h 3m/Film-Noir/Cyril Endfield)\\n \\n(11:30AM) **The Heart Is a Lonely Hunter** (1968/2h 3m/Drama/Robert Ellis Miller)\\n \\n(1:45PM) **Friendly Persuasion** (1956/2h 17m/Drama/William Wyler)\\n \\n(4:15PM) **The Apartment** (1960/2h 5m/Comedy/Billy Wilder)\\n \\n(6:30PM) **Going Attractions: The Definitive Story of the Movie Palace** (2019/1h 24m/Documentary/April Wright)\\n \\n(8:00PM) **Bullitt** (1968/1h 54m/Crime/Peter Yates)\\n \\n(10:15PM) **Ronin** (1998/1h 58m/Action/John Frankenheimer)\\n\\n________________________________________________________________________________________________________________________________________________________________\\n\\nMON OCT 17\\n\\n(12:30AM) **The Lodger** (1927/1h 15m/Silent/Alfred Hitchcock)\\n \\n(2:30AM) **Yotsuya Kaidan, Part One** (1949/1h 25m/Horror/Keisuke Kinoshita)\\n \\n(4:00AM) **Yotsuya Kaidan, Part Two** (1949/1h 13m/Horror/Keisuke Kinoshita)\\n \\n(6:00AM) **Because You're Mine** (1952/1h 43m/Musical/Alexander Hall)\\n \\n(8:00AM) **Bannerline** (1951/1h 27m/Drama/Don Weis)\\n \\n(9:30AM) **Angels in the Outfield** (1951/1h 42m/Drama/Clarence Brown)\\n \\n(11:15AM) **It's Love I'm After** (1937/1h 30m/Comedy/Archie L. Mayo)\\n \\n(1:00PM) **Jezebel** (1938/1h 44m/Drama/William Wyler)\\n \\n(3:00PM) **Indiscretion of an American Wife** (1954/1h 3m/Romance/Vittorio De Sica)\\n \\n(4:15PM) **The Search** (1948/1h 45m/Drama/Fred Zinnemann)\\n \\n(6:15PM) **I Confess** (1953/1h 35m/Drama/Alfred Hitchcock)\\n \\n(8:00PM) **What's the Matter with Helen?** (1971/1h 41m/Horror/Curtis Harrington)\\n \\n(10:00PM) **Who Slew Auntie Roo?** (1971/1h 29m/Horror/Curtis Harrington)\\n \\n(11:45PM) **The Masque of the Red Death** (1964/1h 30m/Horror/Roger Corman )\\n\\n___________________________________________________________________________________________________________________________________________________________________________\\n\\nTUE OCT !8\\n\\n(1:30AM) **House of Wax** (1953/1h 28m/Horror/Andre De Toth)\\n \\n(3:15AM) **The Hypnotic Eye** (1960/1h 18m/Horror/George Blair)\\n \\n(4:45AM) **Mad Love** (1935/1h 7m/Horror/Karl Freund)\\n \\n(6:00AM) **The Beast with Five Fingers** (1946/1h 28m/Horror/Robert Florey)\\n \\n(7:30AM) **The Shining Hour** (1938/1h 20m/Drama/Frank Borzage)\\n \\n(9:00AM) **Three Comrades** (1938/1h 40m/Romance/Frank Borzage)\\n \\n(10:45AM) **Cry 'Havoc'** (1944/1h 37m/War/Richard Thorpe)\\n \\n(12:30PM) **The Shopworn Angel** (1938/1h 25m/Romance/H. C. Potter)\\n \\n(2:00PM) **The Shop Around the Corner** (1940/1h 37m/Romance/Ernst Lubitsch)\\n \\n(4:00PM) **The Mortal Storm** (1940/1h 40m/Drama/Frank Borzage)\\n \\n(6:00PM) **So Ends Our Night** (1941/1h 57m/Drama/John Cromwell)\\n \\n(8:00PM) **By Design: The Joe Caroff Story** (2022/?/Documentary/?)   \\n \\n(9:00PM) **Manhattan** (1979/1h 36m/Romance/Woody Allen)\\n \\n(11:00PM) **By Design: The Joe Caroff Story** (2022/?/Documentary/?)   \\n\\n________________________________________________________________________________________________________________________________________________________________\\n\\nWED OCT 19\\n\\n(12:00AM) **Cabaret** (1972/2h 4m/Musical/Bob Fosse)\\n \\n(2:15AM) **A Hard Day's Night** (1964/1h 32m/Musical/Richard Lester)\\n \\n4:00AM) **Mrs. Brown, You've Got a Lovely Daughter** (1968/1h 35m/Musical/Saul Swimmer)\\n \\n(6:00AM) **Repent at Leisure** (1941/1h 6m/Drama/Frank Woodruff)\\n \\n7:15AM) **The Secret of My Success** (1965/1h 52m/Comedy/Andrew L. Stone)\\n \\n(9:00AM) **The Great Mr. Nobody** (1941/1h 11m/Comedy/Ben Stoloff)\\n \\n(10:15AM) **Grand Slam** (1933/1h 7m/Romance/William Dieterle)\\n \\n(11:30AM) **Everybody's Hobby** (1939/0h 54m/Comedy/William McCann)\\n \\n(12:30PM) **Beauty for the Asking** (1939/1h 8m/Romance/Glenn Tryon)\\n \\n1:45PM) **Pretty Baby** (1950/1h 32m/Comedy/Bretaigne Windust)\\n \\n(3:30PM) **The High Cost of Loving** (1958/1h 27m/Romance/Jose Ferrer)\\n \\n(5:00PM) **Young Man With Ideas** (1952/1h 24m/Comedy/Mitchell Leisen)\\n \\n(6:30PM) **The Working Man** (1933/1h 15m/Comedy/John G. Adolfi)\\n \\n(8:00PM) **Greased Lightning** (1977/1h 36m/Biography/Michael Schultz) \\n\\n(10:00PM) **Friday Foster** (1975/1h 30m/Action/Arthur Marks)\\n\\n_________________________________________________________________________________________________________________________________________________________________\\n\\nTHU OCT 20\\n\\n(12:00AM) **Hit Man** (1973/1h 30m/Drama/George Armitage)\\n \\n(2:00AM) **Cleopatra Jones** (1973/1h 29m/Crime/Jack Starrett)\\n \\n(4:00AM) **Cleopatra Jones and the Casino of Gold** (1975/1h 34m/Crime/Chuck Bail)\\n \\n(6:00AM) **The Thirteenth Chair** (1929/1h 12m/Horror/Tod Browning)\\n \\n(7:30AM) **Freaks** (1932/1h 30m/Horror/Tod Browning)\\n \\n(8:45AM) **Mark of the Vampire** (1935/1h 1m/Horror/Tod Browning)\\n \\n(10:00AM) **The Devil-Doll** (1936/1h 19m/Horror/Tod Browning)\\n \\n(11:30AM) **Miracles for Sale** (1939/1h 11m/Suspense/Tod Browning)\\n \\n(1:00PM) **The Leopard Man** (1943/1h 6m/Horror/Jacques Tourneur)\\n \\n(2:15PM) **Isle of the Dead** (1945/1h 12m/Horror/Mark Robson)\\n \\n(3:30PM) **The Body Snatcher** (1945/1h 17m/Horror/Robert Wise)\\n \\n(5:00PM) **The Ghost Ship** (1943/1h 9m/Horror/Mark Robson)\\n \\n(6:30PM) **Martin Scorsese Presents - Val Lewton: The Man In The Shadows** (2007/1h 16m/Documentary/Kent Jones)\\n \\n(8:00PM) **Salt of the Earth** (1954/1h 34m/Documentary/Herbert J. Biberman)\\n \\n(10:00PM) **A King in New York** (1957/1h 45m/Comedy/Charles Chaplin)\\n\\n__________________________________________________________________________________________________________________________________________________________________\\n\\nFRI OCT 21\\n\\n(12:00AM) **The Brave One** (1956/1h 40m/Drama/Irving Rapper)\\n \\n(2:00AM) **Time Without Pity** (1957/1h 28m/Crime/Joseph Losey)\\n \\n(3:30AM) **The Boy with Green Hair** (1948/1h 22m/Drama/Joseph Losey)\\n \\n(5:00AM) **Soundies: A Musical History** (2007/1h 16m/Documentary/Chris Lamson) \\n \\n(6:15AM) **The Freshman** (1925/1h 16m/Silent/Sam Taylor)\\n \\n(7:30AM) **So This Is College** (1929/1h 37m/Comedy/Sam Wood)\\n \\n(9:30AM) **College Coach** (1933/1h 15m/Comedy/William A. Wellman)\\n \\n(11:00AM) **Hold That Line** (1952/1h 4m/Comedy/William Beaudine)\\n \\n(12:15PM) **Too Many Girls** (1940/1h 25m/Musical/George Abbott)\\n \\n(2:00PM) **Good News** (1947/1h 35m/Musical/Charles Walters)\\n \\n(4:00PM) **Saturday's Hero** (1951/1h 51m/Drama/David Miller)\\n \\n(6:00PM) **Knute Rockne--All American** (1940/1h 38m/Drama/Lloyd Bacon)\\n \\n(8:00PM) **The Awful Truth** (1937/1h 31m/Comedy/Leo McCarey)\\n \\n(9:45PM) **My Favorite Wife** (1940/1h 28m/Comedy/Garson Kaninz)\\n \\n(11:30PM) **The Philadelphia Story** (1940/1h 51m/Comedy/George Cukor)\\n\\n__________________________________________________________________________________________________________________________________________________________________\\n\\nSAT OCT 22\\n\\n(2:00AM) **It's Alive** (1974/1h 30m/Horror/Larry Cohen)\\n \\n(3:45AM) **It Lives Again** (1978/1h 31m/Horror/Larry Cohen)\\n \\n(6:00AM) **The Merry Widow** 1934/1h 39m/Musical/Ernst Lubitsch)\\n \\n(8:00AM) **MGM CARTOONS: Screwball Squirrel** (1944/0h 7m/Animation/Fred \\u201cTex\\u201d Avery)\\n \\n(8:08AM) **The Man on the Rock** (1938/0h 10m/Short/Edward L. Cahn)\\n \\n(8:19AM) **Over the Andes** (1943/0h 9m/Documentary/?)\\n \\n(8:29AM) **Stage to Chino** (1940/0m 59m/Western/Edward Killy)\\n \\n(9:30AM) **THE NEW ADVENTURES OF TARZAN: Unseen Hands** (1935/Action/Edward Kull and Wilbur McGaugh) \\n \\n(10:00AM) **POPEYE: Toreadorable** (1953/0h 6m/Animation/?)\\n \\n(10:08AM) **Private Buckaroo** (1942/1h 8m/Musical/Edward F. Cline)\\n \\n(11:30AM) **Picture Palace** (1933/0m 20m/Short/Roy Mack)\\n\\n(12:00PM) **Stranger on the Third Floor** (1940/1h 4m/Crime/Boris Ingster)\\n \\n(1:15PM) **Ben-Hur** (1959/3h 32m/Epic/William Wyler)\\n \\n(5:15PM) **The Dirty Dozen** (1967/2h 29m/War/Robert Aldrich)\\n \\n(8:00PM) **Dr. Goldfoot and the Bikini Machine** (1965/1h 30m/Comedy/Norman Taurog) \\n \\n(10:00PM) **Making Mr. Right** (1987/1h 40m/Comedy/Susan Seidelman)\\n\\n__________________________________________________________________________________________________________________________________________________________________\\n\\nSUN OCT 23\\n\\n(12:00AM) **Cage of Evil** (1960/1h 10m/Film-Noir/Edward L. Cahn)\\n \\n(1:45AM) **Hang 'Em High** (1968/1h 54m/Western/Ted Post)\\n \\n(3:45AM) **The Unforgiven** (1960/2h 5m/Western/John Huston)\\n \\n(6:00AM) **Bird of Paradise** (1932/1h 20m/Adventure/King Vidor)\\n \\n(7:30AM) **The Good Earth** (1937/2h 18m/Drama/Sidney Franklin)\\n \\n(10:00AM) **Cage of Evil** (1960/1h 10m/Film-Noir/Edward L. Cahn)\\n \\n(11:30AM) **The Toast of New York** (1937/1h 49m/Drama/Rowland V. Lee)\\n \\n(1:30PM) **A Stolen Life** (1946/1h 47m/Romance/Curtis Bernhardt)\\n \\n(3:30PM) **Who's Afraid of Virginia Woolf?** (1966/2h 11m/Drama/Mike Nichols)\\n \\n(6:00AM) **Dodsworth** (1936/1h 41m/Romance/William Wyler)\\n\\n(8:00PM) **3:10 to Yuma** (1957/1h 32m/Western/Delmer Daves)\\n \\n(10:00PM) **Get Shorty** (1995/1h 45m/Action/Barry Sonnenfeld])\\n\\n____________________________________________________________________________________________________________________________________________________________________\\n\\nMON OCT 24\\n\\n(12:00AM) **Shoes** (1916/1h 0h/Drama/Lois Weber)\\n\\n(1:00AM) **Where Are My Children?** (1916/1h 2m/Silent/Lois Weber)\\n \\n(2:15AM **The Cars That Ate Paris** (1974/1h 31m/Comedy/Peter Weir)\\n \\n(4:00AM **The Plumber** (1979/1h 16m/Horror/Peter Weir)\\n \\n(5:30AM) **Musical Movieland** (1944/0h 20m/Musical/Leroy Prinz)\\n \\n(6:00AM) **Uncertain Glory** (1944/1h 42m/War/Raoul Walsh)\\n \\n(7:45AM) **Nazi Agent** (1942/1h 22m/Suspense/Jules Dassin)\\n \\n(9:15AM) **Desperate Journey** (1942/1h 47m/War/Raoul Walsh)\\n \\n(11:15AM) **Don't Talk** (1942/0h 21m/Drama/Joseph Newman)\\n \\n(11:45AM) **2001: A Space Odyssey** (1968/2h 40m/Science-Fiction/Stanley Kubrick)\\n \\n(2:15PM) **All Through the Night** (1942/1h 47m/Comedy/Vincent Sherman)\\n \\n(4:15PM) **Zeppelin** (1970/1h 41m/Adventure/Etienne Perier)\\n \\n(6:00PM) **Brainstorm** (1983/1h 46m/Science Fiction/Douglas Trumbull)\\n \\n(8:00PM) **The Little Girl Who Lives Down The Lane** (1977/1h 34m/Horror/Nicolas Gessner)\\n \\n(9:45PM) **Alice, Sweet Alice** (1977/1h 48m/Horror/Alfred Sole)\\n \\n(11:45PM) **The Haunting of Julia** (1977/1h 38m/Horror/Richard Loncraine)\\n\\n___________________________________________________________________________________________________________________________________________________________________\\n\\nTUE OCT 25\\n\\n(1:30AM) **Let's Scare Jessica to Death** (1971/1h 29m/Horror/John Hancock)\\n \\n(3:15AM) **Carnival of Souls** (1962/1h 20m/Horror/Herk Harvey)\\n \\n(4:45AM) **Spider Baby: or, the Maddest Story Ever Told** (1964/1h 20m/Horror/Jack Hill)\\n \\n(6:15AM) **Freaks** (1932/1h 30m/Horror/Tod Browning)\\n \\n(7:30AM) **For the Love of Movies: The Story of American Film Criticism** (2009/1h 21m/Documentary/Gerald Peary)\\n \\n(9:00AM) **Dracula: Prince of Darkness** (1965/1h 30m/Horror/Terence Fisher)\\n \\n(10:45AM) **The Face of Fu Manchu** (1965/1h 36m/Horror/Dan Sharp)\\n \\n(12:30PM) **Rasputin--The Mad Monk** (1966/1h 31m/Horror/Dan Sharp)\\n \\n(2:15PM) **Dracula Has Risen From the Grave** (1969/1h 32m/Horror/Freddie Francis)\\n \\n(4:00PM) **Taste the Blood of Dracula** (1970/1h 35m/Horror/Peter Sasdy)\\n \\n(5:45PM) **The Satanic Rites of Dracula** (1973/1h 28m/Horror/Alan Gibson)\\n \\n(7:30PM) **MGM Parade Show #30** (1955/25m/Documentary/?)\\n \\n(8:00PM) **Secret Ceremony** (1968/1h 49m/Drama/Joseph Losey)\\n \\n(10:00PM) **Emma Mae** (1976/1h 40m/Crime/Jamaa Fanaka)\\n\\n___________________________________________________________________________________________________________________________________________________________________\\n\\nWED OCT 26\\n\\n12:00AM) **Mac and Me** (1988/1h 39m/Sci-Fi/Stuart Raffill)\\n \\n(2:00AM) **Hausu** (1977/1h 27m/Horror/Nobuhiko \\u00d4bayashi)\\n \\n(4:00AM) **The Honeymoon Killers** (1969/1h 46m/Crime/Leonard Kastle)\\n \\n(6:00AM) **Wind Across the Everglades** (1958/1h 33m/Adventure/Nicholas Ray)\\n \\n(7:45AM) **On Dangerous Ground** (1952/1h 22m/Suspense/Nicholas Ray)\\n \\n(9:15AM) **A Woman's Secret** (1949/1h 25m/Drama/Nicholas Ray)\\n \\n(10:45AM) **Born to Be Bad** (1950/1h 34m/Drama/Nicholas Ray)\\n \\n(12:30PM) **They Live by Night** (1948/1h 35m/Crime/Nicholas Ray)\\n \\n(2:15PM) **The Lusty Men** (1952/1h 53m/Drama/Nicholas Ray)\\n \\n(4:15PM) **Rebel Without a Cause** (1955/1h 51m/Drama/Nicholas Ray)\\n \\n(6:15PM) **In a Lonely Place** (1950/1h 31m/Drama/Nicholas Ray)\\n \\n(8:00PM) **Sheba Baby** (1975/1h 20m/Action/William Girdler)\\n \\n(10:00PM) **Coffy** (1973/1h 31m/Crime/Jack Hill) \\n\\n____________________________________________________________________________________________________________________________________________________________________\\n\\nTHU OCT 27\\n\\n(12:00AM) **Foxy Brown** (1974/1h 34m/Crime/Jack Hill)\\n \\n(2:00AM) **Black Mama, White Mama** (1972/1h 27m/Action/Eddie Romero)\\n \\n(4:00AM) **Caged** (1950/1h 36m/Drama/John Cromwell)\\n \\n(6:00AM) **Murder Is My Beat** (1955/1h 17m/Crime/Edgar G. Ulmer)\\n \\n(7:30AM) **Murder by an Aristocrat** (1936/59m/Suspense/Frank McDonald)\\n \\n(8:30AM) **The Murder of Dr. Harrigan** (1936/1h 6m/Suspense/Frank McDonald)\\n \\n(9:45AM) **I Was Framed** (1942/1h 1m/Crime/D. Ross Lederman)\\n \\n(11:00AM) **The Phantom of Crestwood** (1933/1h 16m/Suspense/J. Walter Ruben)\\n \\n(12:30PM) **Washington Melodrama** (1941/1h 18m/Suspense/S. Sylvan Simon)\\n \\n(2:00PM) **Crossroads** (1942/1h 24m/Suspense/Jack Conway)\\n \\n(3:30PM) **Blackmail** (1929/1h 39m/Suspense/Alfred Hitchcock)\\n \\n(5:00PM) **London by Night** (1937/1h 9m/Suspense/William Thiele)\\n \\n(6:15PM) **The Secret Partner** (1961/1h 31m/Crime/Basil Dearden)\\n \\n(8:00PM) **The Way We Were** (1973/1h 58m/Romance/Sydney Pollack)\\n \\n(10:15PM) **The Front** (1976/1h 36m/Comedy/Martin Ritt) \\n\\n_______________________________________________________________________________________________________________________________________________________________________\\n\\n\\nFRI OCT 28\\n\\n(12:00AM) **The Majestic** (2001/2h 32m/Drama/Frank Darabont)\\n \\n(2:45AM) **Going Attractions: The Definitive Story of the Movie Palace** (2019/Documentary/April Wright)\\n \\n(4:15AM) **The Spirit of the Beehive** (1973/1h 38m/Drama//Victor Erice)\\n \\n(6:00AM) **Critic's Choice** (1963/1h 40m/Comedy/Don Weis)\\n \\n(8:00AM) **Not With My Wife, You Don't!** (1966/1h 58m/Comedy/Norman Panama)\\n \\n(10:15AM) **36 Hours** (1964/1h 55m/War/George Seaton)\\n \\n(12:15PM) **Sex and the Single Girl** (1964/1h 54m/Comedy/Richard Quine)\\n \\n(2:15PM) **Christmas in Connecticut** (1945/1h 41m/Comedy/Peter Godfrey)\\n \\n(4:00PM) **Them!** (1954/1h 34m/Horror/Gordon Douglas)\\n \\n(5:45PM) **Inside Daisy Clover** (1965/2h 8m/Drama/Robert Mulligan)\\n \\n(8:00PM) **Poltergeist** (1982/1h 54m/Horror/Tobe Hooper)\\n \\n(10:15PM) **The Innocents** (1961/1h 39m/Horror/Jack Clayton) \\n\\n_______________________________________________________________________________________________________________________________________________________________________\\n\\nSAT OCT 29\\n\\n(12:15AM) **Don't Look Now** (1973/1h 50m/Horror/Nicolas Roeg)\\n\\n(2:15AM) **Alligator** (1980/1h 34m/Horror/Lewis Teague)\\n \\n(4:00AM) **Alligator II: The Mutation** (1990/1h 32m/Horror/Jon Hess)\\n \\n(6:00AM) **Around the World Under the Sea** (1965/1h 57m/Science-Fiction/Andrew Marton)\\n \\n(8:00AM) **MGM CARTOONS: The Calico Dragon** (1935/0h 7m/Animation/Rudolf Ising).\\n \\n(8:09AM) **The Ship That Died** (1938/0h 10m/Short/Jacques Tourneur)\\n \\n(8:20AM) **Modern Tokyo** (1935/0h 9m/Documentary/?)\\n \\n(8:30AM) **Come on Danger** (1942/0hr 59m/Western/Edward Killy)\\n \\n(9:30AM) **THE NEW ADVENTURES OF TARZAN: Fatal Fangs** (1935/Serial/Edward Kull and Wilbur McGaugh)\\n \\n(10:00AM) **POPEYE: Bride and Gloom** (1954/0h 6m/Animation/I. Sparber)\\n \\n(10:08AM) **Blonde Dynamite** (1950/1h 6m/Comedy/William Beaudine)\\n \\n(11:30AM) **One for the Book** (1940/18m/Short/Roy Mack)\\n \\n(12:00PM) **Dr. Jekyll and Mr. Hyde** (1932/1h 30m/Horror/Rouben Mamoulian)\\n \\n(1:45PM) **Dial \\u2018M\\u2019 for Murder** (1954/1h 45m/Suspense/Alfred Hitchcock)\\n \\n(3:45PM) **What Ever Happened to Baby Jane?** (1962/2h 12m/Horror/Robert Aldrich)\\n \\n(6:15PM) **House of Dark Shadows** (1970/1h 37m/Horror/Dan Curtis)\\n \\n(8:00PM) **Godzilla vs. Mechagodzilla** (1974/1h 20m/Action/Jun Fukuda)\\n \\n(9:45PM) **Deadly Friend** (1986/1h 32m/Horror/Wes Craven\\n \\n(11:30PM) **Two Hearts in Wax Time** (1935/15m/Short/?)\\n\\n________________________________________________________________________________________________________________________________________________________________________\\n\\nSUN OCT 30\\n\\n(12:00AM) **El Vampiro Negro** (1953/1h 30m/Horror-Noir/Rom\\u00e1n Vi\\u00f1oly Barreto)\\n \\n(2:00AM) **Matinee** (1993/1h 38m/Comedy/Joe Dante)\\n \\n(4:00AM) **Plan 9 from Outer Space** (1959/1h 19m/Horror/Edward D. Wood, Jr.)\\n \\n(5:30AM) **MGM Parade Show #30** (1955/25m/Documentary/?)\\n \\n(6:00AM) **Two on a Guillotine** (1965/1h 47m/Horror/William Conrad)\\n \\n(8:00AM) **It! The Terror From Beyond Space** (1967/1h 35m/Horror/Herbert J. Leder)\\n \\n(10:00AM) **El Vampiro Negro** (1953/1h 30m/Horror-Noir/Rom\\u00e1n Vi\\u00f1oly Barreto) \\n \\n(12:00PM) **Cat People** (1942/1h 11m/Horror/Jacques Tourneur)\\n \\n(1:30PM) **I Walked with a Zombie** (1943/1h 9m/Horror/Jacques Tourneur)\\n \\n(2:45PM) **The Seventh Victim** (1943/1h 11m/Horror/Mark Robson)\\n \\n(4:15PM) **Return to Glennascaul** (1953/0h 23m/Short/Hilton Edwards)\\n \\n(4:45PM) **Eye of the Devil** (1966/1h 29m/Horror/J. Lee Thompson)\\n \\n(6:30PM) **Curse of the Demon** (1958/1h 35m/Horror/Jacques Tourneur)\\n \\n(8:00PM) **Peeping Tom** (1960/1h 49m/Horror/Michael Powell)\\n \\n(10:00PM) **The Tenant** (1976/2h 5m/Horror/Roman Polanski)\\n\\n_________________________________________________________________________________________________________________________________________________________________________\\n\\nMON OCT 31\\n\\n(12:15AM) **Haxan** (1922/1h 46m/Silent/Benjamin Christensen)\\n \\n(2:15AM) **Cronos** (1993/1h 32m/Horror/Guillermo Del Toro)\\n \\n(4:00AM) **Eyes Without a Face** (1959/1h 28m/Horror/Georges Franju)\\n \\n(6:00AM) **The Bat** (1959/1h 20m/Horror/Crane Wilbur)\\n \\n(7:30AM) **House on Haunted Hill** (1958/1h 15m/Horror/William Castle)\\n \\n(9:00AM) **Horror Hotel** (1960/1h 16m/Horror/John Llewellyn Moxey)\\n \\n(10:30AM) **The Curse of Frankenstein** (1957/1h 22m/Horror/Terence Fisher)\\n \\n(1:30PM) **The Mummy** (1959/1h 26m/Horror/Terence Fisher)\\n \\n(3:00PM) **The Devil's Bride** (1968/1h 35m/Horror/Terence Fisher)\\n \\n(4:45PM) **Dracula A.D. 1972** (1972/1h 40m/Horror/Alan Gibson\\n \\n(6:30PM) **The Plague of the Zombies** (1966/1h 30m/Horror/John Gilling)\\n \\n(8:00PM) **Bride of Frankenstein** (1935/1h 15m/Horror/James Whale)\\n \\n(9:30PM) **Son of Frankenstein** (1939/1h 35m/Horror/Rowland V. Lee)\\n \\n(11:15PM) **Frankenstein** (1931/1h 11m/Horror/James Whale)\"\n        ],\n        \"semantic_type\": \"\",\n        \"description\": \"\"\n      }\n    }\n  ]\n}"
            }
          },
          "metadata": {},
          "execution_count": 64
        }
      ]
    },
    {
      "cell_type": "code",
      "source": [
        "df_sentiments.to_csv('reviews.csv',index=False)"
      ],
      "metadata": {
        "id": "bszUQP8dTluk"
      },
      "execution_count": 62,
      "outputs": []
    }
  ]
}